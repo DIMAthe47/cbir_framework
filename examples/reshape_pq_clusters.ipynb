{
 "cells": [
  {
   "cell_type": "code",
   "execution_count": 7,
   "metadata": {
    "collapsed": false
   },
   "outputs": [
    {
     "name": "stdout",
     "output_type": "stream",
     "text": [
      "The autoreload extension is already loaded. To reload it, use:\n",
      "  %reload_ext autoreload\n"
     ]
    }
   ],
   "source": [
    "import import_hack\n",
    "import steps\n",
    "from data_store import sqlite_table_datastore as sqlds\n",
    "from data_store import stream_ndarray_adapter_datastore as snads\n",
    "from quantization import pq_quantizer\n",
    "%load_ext autoreload\n",
    "%autoreload 2"
   ]
  },
  {
   "cell_type": "markdown",
   "metadata": {},
   "source": [
    "pq_quantizer.get_cluster_centers() returns subspaced clusters. E.g. product quantizing sifts results in\n",
    "ndarray of shape (2, 300, 64), where 2-number of subspaces (n_quantizers=2), 300-number of clusters in each subspace, \n",
    "64 - size of splitted original vector (128/2).\n",
    "Saving this array to sqlite through StreamNdarrayAdapterDataStore results in 2 rows with ndarray of shape (300, 64) in table.\n",
    "Maybe more convenient and consistent way to store items in our id-item approach is to store 600 rows of ndarrays with shape (64), keeping in mind, that first 300 clusters are from first subspace and other 300 - from second subspace."
   ]
  },
  {
   "cell_type": "code",
   "execution_count": 8,
   "metadata": {
    "collapsed": true
   },
   "outputs": [],
   "source": [
    "sqlite_db_path_in='ds_data\\example_compute_siftid_sift_imgid_samples0.1-clusters'\n",
    "sqlite_table_name_in='clusterid_cluster'\n",
    "sqlite_db_path_out_reshaped='ds_data\\example_compute_siftid_sift_imgid_samples0.1-clusters2'\n",
    "sqlite_table_name_out_reshaped='clusterid_cluster'"
   ]
  },
  {
   "cell_type": "code",
   "execution_count": 9,
   "metadata": {
    "collapsed": false
   },
   "outputs": [],
   "source": [
    "ds_in = sqlds.SQLiteTableDataStore(sqlite_db_path_in, sqlite_table_name_in)\n",
    "ds_out_reshaped = sqlds.SQLiteTableDataStore(sqlite_db_path_out_reshaped, sqlite_table_name_out_reshaped)"
   ]
  },
  {
   "cell_type": "code",
   "execution_count": 10,
   "metadata": {
    "collapsed": false
   },
   "outputs": [],
   "source": [
    "ds_out_reshaped = sqlds.SQLiteTableDataStore(sqlite_db_path_out_reshaped, sqlite_table_name_out_reshaped)"
   ]
  },
  {
   "cell_type": "code",
   "execution_count": 11,
   "metadata": {
    "collapsed": false
   },
   "outputs": [],
   "source": [
    "with ds_in, ds_out_reshaped:\n",
    "    ds_out_reshaped_adapter=snads.StreamNdarrayAdapterDataStore(ds_out_reshaped, element_n_dims_save=1)\n",
    "    ds_out_adapter=snads.StreamNdarrayAdapterDataStore(ds_in, detect_final_shape_by_first_elem=True)\n",
    "    ds_out_reshaped_adapter.save_items_sorted_by_ids(ds_out_adapter.get_items_sorted_by_ids())    "
   ]
  },
  {
   "cell_type": "code",
   "execution_count": 12,
   "metadata": {
    "collapsed": false
   },
   "outputs": [
    {
     "name": "stdout",
     "output_type": "stream",
     "text": [
      "600\n",
      "(64,)\n"
     ]
    }
   ],
   "source": [
    "with ds_out_reshaped:\n",
    "    print(ds_out_reshaped.get_count())\n",
    "    print(next(ds_out_reshaped.get_items_sorted_by_ids()).shape)"
   ]
  },
  {
   "cell_type": "code",
   "execution_count": null,
   "metadata": {
    "collapsed": true
   },
   "outputs": [],
   "source": []
  }
 ],
 "metadata": {
  "kernelspec": {
   "display_name": "Python 3",
   "language": "python",
   "name": "python3"
  },
  "language_info": {
   "codemirror_mode": {
    "name": "ipython",
    "version": 3
   },
   "file_extension": ".py",
   "mimetype": "text/x-python",
   "name": "python",
   "nbconvert_exporter": "python",
   "pygments_lexer": "ipython3",
   "version": "3.5.2"
  }
 },
 "nbformat": 4,
 "nbformat_minor": 0
}
