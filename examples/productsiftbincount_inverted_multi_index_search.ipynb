{
 "cells": [
  {
   "cell_type": "code",
   "execution_count": 143,
   "metadata": {
    "collapsed": false
   },
   "outputs": [
    {
     "name": "stdout",
     "output_type": "stream",
     "text": [
      "The autoreload extension is already loaded. To reload it, use:\n",
      "  %reload_ext autoreload\n"
     ]
    }
   ],
   "source": [
    "import import_hack\n",
    "import steps\n",
    "from data_store import sqlite_table_datastore as sqlds\n",
    "from data_store import file_system_directory_datastore as fsds\n",
    "from data_store import stream_ndarray_adapter_datastore as snads\n",
    "from data_store import numpy_datastore as npds\n",
    "from transformer import transformers as trs\n",
    "from search import inverted_multi_index_searcher as imis\n",
    "from quantization import pq_quantizer\n",
    "%load_ext autoreload\n",
    "%autoreload 2"
   ]
  },
  {
   "cell_type": "code",
   "execution_count": 206,
   "metadata": {
    "collapsed": true
   },
   "outputs": [],
   "source": [
    "productsiftbincount_sqlite_db_path='ds_data\\imgid_productsiftbincount'\n",
    "productsiftbincount_sqlite_table_name='imgid_productsiftbincount'\n",
    "productsiftbincount_clusters_sqlite_db_path='ds_data\\imgid_productsiftbincount_clusters'\n",
    "productsiftbincount_clusters_sqlite_table_name='clusterid_cluster'"
   ]
  },
  {
   "cell_type": "code",
   "execution_count": 189,
   "metadata": {
    "collapsed": true
   },
   "outputs": [],
   "source": [
    "# productsiftbincount_sqlite_db_path='ds_data\\imgid_productsiftbincount_L2normalized'\n",
    "# productsiftbincount_sqlite_table_name='imgid_productsiftbincountL2normalized'\n",
    "# productsiftbincount_clusters_sqlite_db_path='ds_data\\imgid_productsiftbincountL2normalized_clusters'\n",
    "# productsiftbincount_clusters_sqlite_table_name='clusterid_cluster'"
   ]
  },
  {
   "cell_type": "code",
   "execution_count": 207,
   "metadata": {
    "collapsed": true
   },
   "outputs": [],
   "source": [
    "productsiftbincount_ds = sqlds.SQLiteTableDataStore(productsiftbincount_sqlite_db_path, productsiftbincount_sqlite_table_name)\n",
    "productsiftbincount_clusters_ds = sqlds.SQLiteTableDataStore(productsiftbincount_clusters_sqlite_db_path, productsiftbincount_clusters_sqlite_table_name)"
   ]
  },
  {
   "cell_type": "code",
   "execution_count": 208,
   "metadata": {
    "collapsed": true
   },
   "outputs": [],
   "source": [
    "cluster_centers_ndarray_ds=snads.StreamNdarrayAdapterDataStore(productsiftbincount_clusters_ds, detect_final_shape_by_first_elem=True)\n",
    "cluster_centers=cluster_centers_ndarray_ds.get_items_sorted_by_ids()"
   ]
  },
  {
   "cell_type": "code",
   "execution_count": 209,
   "metadata": {
    "collapsed": false
   },
   "outputs": [
    {
     "name": "stdout",
     "output_type": "stream",
     "text": [
      "(600,)\n"
     ]
    }
   ],
   "source": [
    "with productsiftbincount_ds:\n",
    "    items=productsiftbincount_ds.get_items_sorted_by_ids()\n",
    "    for i in range(1):\n",
    "        item=next(items)\n",
    "        print(item.shape)\n",
    "#         print(item)"
   ]
  },
  {
   "cell_type": "code",
   "execution_count": 210,
   "metadata": {
    "collapsed": false
   },
   "outputs": [
    {
     "name": "stdout",
     "output_type": "stream",
     "text": [
      "(2, 250, 300)\n"
     ]
    }
   ],
   "source": [
    "print(cluster_centers.shape)\n",
    "# for i in range(2):\n",
    "#     print(cluster_centers[i])"
   ]
  },
  {
   "cell_type": "code",
   "execution_count": 211,
   "metadata": {
    "collapsed": false
   },
   "outputs": [
    {
     "name": "stdout",
     "output_type": "stream",
     "text": [
      "(999, 600)\n",
      "(999,)\n"
     ]
    }
   ],
   "source": [
    "productsiftbincount_ndarray_ds = snads.StreamNdarrayAdapterDataStore(productsiftbincount_ds, detect_final_shape_by_first_elem=True)\n",
    "X = productsiftbincount_ndarray_ds.get_items_sorted_by_ids()\n",
    "X_ids=productsiftbincount_ndarray_ds.get_ids_sorted()\n",
    "print(X.shape)\n",
    "print(X_ids.shape)"
   ]
  },
  {
   "cell_type": "code",
   "execution_count": 212,
   "metadata": {
    "collapsed": true
   },
   "outputs": [],
   "source": [
    "searcher_=imis.InvertedMultiIndexSearcher(X, X_ids, cluster_centers)"
   ]
  },
  {
   "cell_type": "code",
   "execution_count": 213,
   "metadata": {
    "collapsed": true
   },
   "outputs": [],
   "source": [
    "np_neighbor_ids_ds=npds.NumpyDataStore()\n",
    "steps.search_step(productsiftbincount_ds, searcher_, 6 , np_neighbor_ids_ds)"
   ]
  },
  {
   "cell_type": "code",
   "execution_count": 214,
   "metadata": {
    "collapsed": false
   },
   "outputs": [
    {
     "data": {
      "text/plain": [
       "array([[  1,   8,   4,   9,   6,   5],\n",
       "       [  9,   6,   5,   3,   2,   8],\n",
       "       [  9,   6,   5,   3,   2,   8],\n",
       "       ..., \n",
       "       [998, 997, 994, 991, 995, 999],\n",
       "       [998, 997, 994, 991, 995, 999],\n",
       "       [999, 996, 992, 993, 995,  90]])"
      ]
     },
     "execution_count": 214,
     "metadata": {},
     "output_type": "execute_result"
    }
   ],
   "source": [
    "np_neighbor_ids_ds.get_items_sorted_by_ids()"
   ]
  },
  {
   "cell_type": "code",
   "execution_count": null,
   "metadata": {
    "collapsed": true
   },
   "outputs": [],
   "source": []
  }
 ],
 "metadata": {
  "kernelspec": {
   "display_name": "Python 3",
   "language": "python",
   "name": "python3"
  },
  "language_info": {
   "codemirror_mode": {
    "name": "ipython",
    "version": 3
   },
   "file_extension": ".py",
   "mimetype": "text/x-python",
   "name": "python",
   "nbconvert_exporter": "python",
   "pygments_lexer": "ipython3",
   "version": "3.5.2"
  }
 },
 "nbformat": 4,
 "nbformat_minor": 0
}
