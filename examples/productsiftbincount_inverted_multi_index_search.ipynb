{
 "cells": [
  {
   "cell_type": "code",
   "execution_count": 143,
   "metadata": {
    "collapsed": false
   },
   "outputs": [
    {
     "name": "stdout",
     "output_type": "stream",
     "text": [
      "The autoreload extension is already loaded. To reload it, use:\n",
      "  %reload_ext autoreload\n"
     ]
    }
   ],
   "source": [
    "import import_hack\n",
    "import steps\n",
    "from data_store import sqlite_table_datastore as sqlds\n",
    "from data_store import file_system_directory_datastore as fsds\n",
    "from data_store import stream_ndarray_adapter_datastore as snads\n",
    "from data_store import numpy_datastore as npds\n",
    "from transformer import transformers as trs\n",
    "from search import inverted_multi_index_searcher as imis\n",
    "from quantization import pq_quantizer\n",
    "%load_ext autoreload\n",
    "%autoreload 2"
   ]
  },
  {
   "cell_type": "code",
   "execution_count": 144,
   "metadata": {
    "collapsed": true
   },
   "outputs": [],
   "source": [
    "productsiftbincount_sqlite_db_path='ds_data\\imgid_productsiftbincount'\n",
    "productsiftbincount_sqlite_table_name='imgid_productsiftbincount'\n",
    "productsiftbincount_clusters_sqlite_db_path='ds_data\\imgid_productsiftbincount_clusters'\n",
    "productsiftbincount_clusters_sqlite_table_name='clusterid_cluster'\n",
    "\n",
    "productsiftbincount_ds = sqlds.SQLiteTableDataStore(productsiftbincount_sqlite_db_path, productsiftbincount_sqlite_table_name)\n",
    "productsiftbincount_clusters_ds = sqlds.SQLiteTableDataStore(productsiftbincount_clusters_sqlite_db_path, productsiftbincount_clusters_sqlite_table_name)"
   ]
  },
  {
   "cell_type": "code",
   "execution_count": 145,
   "metadata": {
    "collapsed": false
   },
   "outputs": [
    {
     "name": "stdout",
     "output_type": "stream",
     "text": [
      "(2, 350, 300)\n"
     ]
    }
   ],
   "source": [
    "cluster_centers_ndarray_ds=snads.StreamNdarrayAdapterDataStore(productsiftbincount_clusters_ds, detect_final_shape_by_first_elem=True)\n",
    "cluster_centers=cluster_centers_ndarray_ds.get_items_sorted_by_ids()\n",
    "print(cluster_centers.shape)"
   ]
  },
  {
   "cell_type": "code",
   "execution_count": 146,
   "metadata": {
    "collapsed": false
   },
   "outputs": [
    {
     "name": "stdout",
     "output_type": "stream",
     "text": [
      "(999, 600)\n",
      "(999,)\n"
     ]
    }
   ],
   "source": [
    "productsiftbincount_ndarray_ds = snads.StreamNdarrayAdapterDataStore(productsiftbincount_ds, detect_final_shape_by_first_elem=True)\n",
    "X = productsiftbincount_ndarray_ds.get_items_sorted_by_ids()\n",
    "X_ids=productsiftbincount_ndarray_ds.get_ids_sorted()\n",
    "print(X.shape)\n",
    "print(X_ids.shape)"
   ]
  },
  {
   "cell_type": "code",
   "execution_count": 147,
   "metadata": {
    "collapsed": true
   },
   "outputs": [],
   "source": [
    "searcher_=imis.InvertedMultiIndexSearcher(X, X_ids, cluster_centers)"
   ]
  },
  {
   "cell_type": "code",
   "execution_count": 148,
   "metadata": {
    "collapsed": true
   },
   "outputs": [],
   "source": [
    "np_neighbor_ids_ds=npds.NumpyDataStore()\n",
    "steps.search_step(productsiftbincount_ds, searcher_, 6 , np_neighbor_ids_ds)"
   ]
  },
  {
   "cell_type": "code",
   "execution_count": 149,
   "metadata": {
    "collapsed": false
   },
   "outputs": [
    {
     "data": {
      "text/plain": [
       "array([[  1,   2,   8,   7,   5,   4],\n",
       "       [  2,   3,   9,   6,   8,   7],\n",
       "       [  3,   2,   9,   6,   8,   7],\n",
       "       ..., \n",
       "       [997, 991, 998, 995, 994, 992],\n",
       "       [998, 995, 994, 991, 997, 992],\n",
       "       [999, 996, 993, 992, 998, 995]])"
      ]
     },
     "execution_count": 149,
     "metadata": {},
     "output_type": "execute_result"
    }
   ],
   "source": [
    "np_neighbor_ids_ds.get_items_sorted_by_ids()"
   ]
  }
 ],
 "metadata": {
  "kernelspec": {
   "display_name": "Python 3",
   "language": "python",
   "name": "python3"
  },
  "language_info": {
   "codemirror_mode": {
    "name": "ipython",
    "version": 3
   },
   "file_extension": ".py",
   "mimetype": "text/x-python",
   "name": "python",
   "nbconvert_exporter": "python",
   "pygments_lexer": "ipython3",
   "version": "3.5.2"
  }
 },
 "nbformat": 4,
 "nbformat_minor": 0
}
