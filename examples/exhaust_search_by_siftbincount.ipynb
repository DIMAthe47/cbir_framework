{
 "cells": [
  {
   "cell_type": "code",
   "execution_count": 14,
   "metadata": {
    "collapsed": false
   },
   "outputs": [
    {
     "name": "stdout",
     "output_type": "stream",
     "text": [
      "The autoreload extension is already loaded. To reload it, use:\n",
      "  %reload_ext autoreload\n"
     ]
    }
   ],
   "source": [
    "import import_hack\n",
    "import steps\n",
    "from data_store import sqlite_table_datastore as sqlds\n",
    "from data_store import sqlite_table_one_to_many_datastore as sqlotmds\n",
    "from data_store import stream_ndarray_adapter_datastore as snads\n",
    "from data_store import numpy_datastore as npds\n",
    "from search import exhaustive_searcher as exs\n",
    "%load_ext autoreload\n",
    "%autoreload 2"
   ]
  },
  {
   "cell_type": "code",
   "execution_count": 16,
   "metadata": {
    "collapsed": true
   },
   "outputs": [],
   "source": [
    "productsiftbincount_sqlite_db_path='ds_data\\imgid_productsiftbincount'\n",
    "productsiftbincount_sqlite_table_name='imgid_productsiftbincount'"
   ]
  },
  {
   "cell_type": "code",
   "execution_count": 17,
   "metadata": {
    "collapsed": false
   },
   "outputs": [],
   "source": [
    "productsiftbincount_ds = sqlds.SQLiteTableDataStore(productsiftbincount_sqlite_db_path, productsiftbincount_sqlite_table_name)\n",
    "np_neighbor_ids_ds=npds.NumpyDataStore()"
   ]
  },
  {
   "cell_type": "code",
   "execution_count": 18,
   "metadata": {
    "collapsed": false
   },
   "outputs": [
    {
     "name": "stdout",
     "output_type": "stream",
     "text": [
      "999\n",
      "(600,)\n",
      "(600,)\n"
     ]
    }
   ],
   "source": [
    "with productsiftbincount_ds:\n",
    "    print(productsiftbincount_ds.get_count())\n",
    "    items=productsiftbincount_ds.get_items_sorted_by_ids()\n",
    "    print(next(items).shape)\n",
    "    print(next(items).shape)"
   ]
  },
  {
   "cell_type": "code",
   "execution_count": 28,
   "metadata": {
    "collapsed": true
   },
   "outputs": [],
   "source": [
    "productsiftbincount_ndarray_ds = snads.StreamNdarrayAdapterDataStore(productsiftbincount_ds, detect_final_shape_by_first_elem=True)"
   ]
  },
  {
   "cell_type": "code",
   "execution_count": 32,
   "metadata": {
    "collapsed": false
   },
   "outputs": [
    {
     "name": "stdout",
     "output_type": "stream",
     "text": [
      "999\n",
      "(999, 600)\n"
     ]
    }
   ],
   "source": [
    "print(productsiftbincount_ndarray_ds.get_count())\n",
    "items=productsiftbincount_ndarray_ds.get_items_sorted_by_ids()\n",
    "print(items.shape)"
   ]
  },
  {
   "cell_type": "code",
   "execution_count": 33,
   "metadata": {
    "collapsed": true
   },
   "outputs": [],
   "source": [
    "exs_searcher=exs.ExhaustiveSearcher(productsiftbincount_ndarray_ds.get_items_sorted_by_ids(), productsiftbincount_ndarray_ds.get_ids_sorted())"
   ]
  },
  {
   "cell_type": "code",
   "execution_count": 44,
   "metadata": {
    "collapsed": false
   },
   "outputs": [],
   "source": [
    "steps.search_step(productsiftbincount_ds, exs_searcher, 6 , np_neighbor_ids_ds)"
   ]
  },
  {
   "cell_type": "code",
   "execution_count": 45,
   "metadata": {
    "collapsed": false
   },
   "outputs": [
    {
     "name": "stdout",
     "output_type": "stream",
     "text": [
      "999\n",
      "(999, 6)\n",
      "[[  1   2   8   3   4   5]\n",
      " [  2   3   5   8   1   6]\n",
      " [  3   2   6   8   5   1]\n",
      " ..., \n",
      " [997 994 991 998 995 992]\n",
      " [998 991 995 994 992 997]\n",
      " [999 996 993 992  87 961]]\n"
     ]
    }
   ],
   "source": [
    "print(np_neighbor_ids_ds.get_count())\n",
    "print(np_neighbor_ids_ds.get_items_sorted_by_ids().shape)\n",
    "print(np_neighbor_ids_ds.get_items_sorted_by_ids())"
   ]
  },
  {
   "cell_type": "code",
   "execution_count": null,
   "metadata": {
    "collapsed": true
   },
   "outputs": [],
   "source": []
  }
 ],
 "metadata": {
  "kernelspec": {
   "display_name": "Python 3",
   "language": "python",
   "name": "python3"
  },
  "language_info": {
   "codemirror_mode": {
    "name": "ipython",
    "version": 3
   },
   "file_extension": ".py",
   "mimetype": "text/x-python",
   "name": "python",
   "nbconvert_exporter": "python",
   "pygments_lexer": "ipython3",
   "version": "3.5.2"
  }
 },
 "nbformat": 4,
 "nbformat_minor": 0
}
