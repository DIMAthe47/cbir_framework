{
 "cells": [
  {
   "cell_type": "code",
   "execution_count": 19,
   "metadata": {
    "collapsed": false
   },
   "outputs": [
    {
     "name": "stdout",
     "output_type": "stream",
     "text": [
      "The autoreload extension is already loaded. To reload it, use:\n",
      "  %reload_ext autoreload\n"
     ]
    }
   ],
   "source": [
    "import import_hack\n",
    "import steps\n",
    "from data_store import sqlite_table_datastore as sqlds\n",
    "from data_store import file_system_directory_datastore as fsds\n",
    "from data_store import stream_ndarray_adapter_datastore as snads\n",
    "from data_store import numpy_datastore as npds\n",
    "from transformer import transformers as trs\n",
    "from search import inverted_multi_index_searcher as imis\n",
    "from quantization import pq_quantizer\n",
    "%load_ext autoreload\n",
    "%autoreload 2"
   ]
  },
  {
   "cell_type": "code",
   "execution_count": 2,
   "metadata": {
    "collapsed": true
   },
   "outputs": [],
   "source": [
    "img_dir_path = r'C:\\data\\images\\brodatz\\data.brodatz\\size_213x213'\n",
    "sqlite_db_path='example_find_nearest_by_histograms_with_multi_index'\n",
    "sqlite_table_name='histograms'\n",
    "n_subquantizers=2\n",
    "n_clusters=256\n",
    "sqltie_clusters_table_name='clusters_pq_{0}_{1}'.format(n_subquantizers, n_clusters)"
   ]
  },
  {
   "cell_type": "code",
   "execution_count": 3,
   "metadata": {
    "collapsed": false
   },
   "outputs": [
    {
     "data": {
      "text/plain": [
       "999"
      ]
     },
     "execution_count": 3,
     "metadata": {},
     "output_type": "execute_result"
    }
   ],
   "source": [
    "image_bytes_ds = fsds.FileSystemDirectoryDataStore(dir_path=img_dir_path)\n",
    "histograms_ds=sqlds.SQLiteTableDataStore(sqlite_db_path, sqlite_table_name)\n",
    "image_bytes_ds.get_count()"
   ]
  },
  {
   "cell_type": "code",
   "execution_count": 4,
   "metadata": {
    "collapsed": true
   },
   "outputs": [],
   "source": [
    "transformers_=[trs.BytesToNdarray(), trs.NdarrayToOpencvMatrix(), trs.OpencvMatrixToHistogram(graycolor=True)]\n",
    "steps.transform_step(image_bytes_ds, transformers_, histograms_ds)"
   ]
  },
  {
   "cell_type": "code",
   "execution_count": 5,
   "metadata": {
    "collapsed": false
   },
   "outputs": [
    {
     "name": "stdout",
     "output_type": "stream",
     "text": [
      "(999, 256, 1)\n"
     ]
    }
   ],
   "source": [
    "histograms_ds_ndarrayds = snads.StreamNdarrayAdapterDataStore(histograms_ds)\n",
    "print(histograms_ds_ndarrayds.get_items_sorted_by_ids().shape)\n",
    "np_neighbor_ids_ds=npds.NumpyDataStore()"
   ]
  },
  {
   "cell_type": "code",
   "execution_count": 6,
   "metadata": {
    "collapsed": true
   },
   "outputs": [],
   "source": [
    "x=histograms_ds_ndarrayds.get_items_sorted_by_ids()\n",
    "x_ids=histograms_ds_ndarrayds.get_ids_sorted()"
   ]
  },
  {
   "cell_type": "code",
   "execution_count": 7,
   "metadata": {
    "collapsed": false
   },
   "outputs": [],
   "source": [
    "pq_=pq_quantizer.PQQuantizer(n_clusters, n_subquantizers)\n",
    "#be careful with pq: multiindex will consume at least (n_clusters^m_subquantizers)*4 bytes\n",
    "cluster_centers_ds=sqlds.SQLiteTableDataStore(sqlite_db_path, sqltie_clusters_table_name)\n",
    "steps.quantize_step(histograms_ds_ndarrayds, pq_, cluster_centers_ds)"
   ]
  },
  {
   "cell_type": "code",
   "execution_count": 8,
   "metadata": {
    "collapsed": true
   },
   "outputs": [],
   "source": [
    "cluster_centers_ndarray_ds=snads.StreamNdarrayAdapterDataStore(cluster_centers_ds)\n",
    "cluster_centers=cluster_centers_ndarray_ds.get_items_sorted_by_ids()"
   ]
  },
  {
   "cell_type": "code",
   "execution_count": 9,
   "metadata": {
    "collapsed": false
   },
   "outputs": [
    {
     "data": {
      "text/plain": [
       "(2, 256, 128)"
      ]
     },
     "execution_count": 9,
     "metadata": {},
     "output_type": "execute_result"
    }
   ],
   "source": [
    "cluster_centers.shape"
   ]
  },
  {
   "cell_type": "code",
   "execution_count": 14,
   "metadata": {
    "collapsed": true
   },
   "outputs": [],
   "source": [
    "searcher_=imis.InvertedMultiIndexSearcher(x, x_ids, cluster_centers)"
   ]
  },
  {
   "cell_type": "code",
   "execution_count": 15,
   "metadata": {
    "collapsed": true
   },
   "outputs": [],
   "source": [
    "np_neighbor_ids_ds=npds.NumpyDataStore()\n",
    "steps.search_step(histograms_ds, searcher_, 20 , np_neighbor_ids_ds)"
   ]
  },
  {
   "cell_type": "code",
   "execution_count": 16,
   "metadata": {
    "collapsed": false
   },
   "outputs": [
    {
     "data": {
      "text/plain": [
       "array([[  1,   3,   8, ..., 477, 755, 754],\n",
       "       [  2,   9,   6, ...,  96,  93, 995],\n",
       "       [  3,   1,   2, ..., 995,  99,  96],\n",
       "       ..., \n",
       "       [998, 997, 994, ..., 999,  45,  44],\n",
       "       [998, 997, 994, ..., 475,  45,  44],\n",
       "       [999, 992, 996, ...,  13, 125, 122]])"
      ]
     },
     "execution_count": 16,
     "metadata": {},
     "output_type": "execute_result"
    }
   ],
   "source": [
    "np_neighbor_ids_ds.get_items_sorted_by_ids()"
   ]
  },
  {
   "cell_type": "code",
   "execution_count": 17,
   "metadata": {
    "collapsed": true
   },
   "outputs": [],
   "source": [
    "ids=histograms_ds_ndarrayds.get_ids_sorted()\n",
    "source_ids=image_bytes_ds.get_ids_sorted()\n",
    "np_neighbor_source_ids=npds.NumpyDataStore()\n",
    "steps.transform_step(np_neighbor_ids_ds, [trs.TranslateByKeysTransformer(ids, source_ids)], np_neighbor_source_ids)"
   ]
  },
  {
   "cell_type": "code",
   "execution_count": 18,
   "metadata": {
    "collapsed": false
   },
   "outputs": [
    {
     "data": {
      "text/plain": [
       "array([['D001_01.png', 'D001_03.png', 'D001_08.png', ..., 'D054_09.png',\n",
       "        'D085_08.png', 'D085_07.png'],\n",
       "       ['D001_02.png', 'D001_09.png', 'D001_06.png', ..., 'D011_06.png',\n",
       "        'D011_03.png', 'D112_05.png'],\n",
       "       ['D001_03.png', 'D001_01.png', 'D001_02.png', ..., 'D112_05.png',\n",
       "        'D011_09.png', 'D011_06.png'],\n",
       "       ..., \n",
       "       ['D112_08.png', 'D112_07.png', 'D112_04.png', ..., 'D112_09.png',\n",
       "        'D005_09.png', 'D005_08.png'],\n",
       "       ['D112_08.png', 'D112_07.png', 'D112_04.png', ..., 'D054_07.png',\n",
       "        'D005_09.png', 'D005_08.png'],\n",
       "       ['D112_09.png', 'D112_02.png', 'D112_06.png', ..., 'D002_04.png',\n",
       "        'D015_08.png', 'D015_05.png']], dtype=object)"
      ]
     },
     "execution_count": 18,
     "metadata": {},
     "output_type": "execute_result"
    }
   ],
   "source": [
    "np_neighbor_source_ids.get_items_sorted_by_ids()"
   ]
  },
  {
   "cell_type": "code",
   "execution_count": null,
   "metadata": {
    "collapsed": true
   },
   "outputs": [],
   "source": [
    "import os\n",
    "os.remove(sqlite_db_path)"
   ]
  }
 ],
 "metadata": {
  "kernelspec": {
   "display_name": "Python 3",
   "language": "python",
   "name": "python3"
  },
  "language_info": {
   "codemirror_mode": {
    "name": "ipython",
    "version": 3
   },
   "file_extension": ".py",
   "mimetype": "text/x-python",
   "name": "python",
   "nbconvert_exporter": "python",
   "pygments_lexer": "ipython3",
   "version": "3.5.2"
  }
 },
 "nbformat": 4,
 "nbformat_minor": 0
}
