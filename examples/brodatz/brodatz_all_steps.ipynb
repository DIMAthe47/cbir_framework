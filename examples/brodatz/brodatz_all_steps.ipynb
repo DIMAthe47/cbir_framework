{
 "cells": [
  {
   "cell_type": "code",
   "execution_count": 40,
   "metadata": {
    "collapsed": false
   },
   "outputs": [
    {
     "name": "stdout",
     "output_type": "stream",
     "text": [
      "The autoreload extension is already loaded. To reload it, use:\n",
      "  %reload_ext autoreload\n"
     ]
    }
   ],
   "source": [
    "import import_hack\n",
    "import steps\n",
    "import data_store\n",
    "from data_store.sqlite_table_datastore import SQLiteTableDataStore\n",
    "from data_store.sqlite_table_one_to_many_datastore import SQLiteTableOneToManyDataStore\n",
    "from data_store.file_system_directory_datastore import FileSystemDirectoryDataStore\n",
    "from data_store.numpy_datastore import NumpyDataStore\n",
    "from data_store.stream_ndarray_adapter_datastore import StreamNdarrayAdapterDataStore\n",
    "from quantization.pq_quantizer import PQQuantizer, restore_from_clusters\n",
    "from transformer import transformers as trs\n",
    "from search.exhaustive_searcher import ExhaustiveSearcher\n",
    "from search.inverted_multi_index_searcher import InvertedMultiIndexSearcher\n",
    "from common.ds_utils import print_ds_items_info\n",
    "%load_ext autoreload\n",
    "%autoreload 2"
   ]
  },
  {
   "cell_type": "markdown",
   "metadata": {},
   "source": [
    "# Compute descriptors(siftsets)"
   ]
  },
  {
   "cell_type": "code",
   "execution_count": 6,
   "metadata": {
    "collapsed": true
   },
   "outputs": [],
   "source": [
    "img_dir_path = r'C:\\data\\images\\brodatz\\data.brodatz\\size_213x213'\n",
    "siftsets_path='ds_data\\siftid_sift_imgid'\n",
    "siftsets_table_name='siftid_sift_imgid'"
   ]
  },
  {
   "cell_type": "markdown",
   "metadata": {},
   "source": [
    "We can interpret table as One-to-One(id, itemid) or as One-to-Many(id, itemid, foreignid).\n",
    "If we want to use it like One-to-One, use SQLiteTableDataStore. Here item = one sift.\n",
    "If we want to use it like One-to-Many, use SQLiteTableOneToManyDataStore. In this case items would be grouped by foreignid and aggregated into ndarray. Here item = ndarray of sifts, e.g. ndarray with shape (*number of sifts in image*, 128)"
   ]
  },
  {
   "cell_type": "code",
   "execution_count": 7,
   "metadata": {
    "collapsed": false
   },
   "outputs": [
    {
     "name": "stdout",
     "output_type": "stream",
     "text": [
      "images count in 'C:\\data\\images\\brodatz\\data.brodatz\\size_213x213':  999\n"
     ]
    }
   ],
   "source": [
    "images_ds = FileSystemDirectoryDataStore(dir_path=img_dir_path)\n",
    "siftsets_ds = SQLiteTableOneToManyDataStore(siftsets_path, siftsets_table_name)\n",
    "print(\"images count in '{0}': \".format(img_dir_path), images_ds.get_count())"
   ]
  },
  {
   "cell_type": "markdown",
   "metadata": {},
   "source": [
    "* get items from **images_ds**\n",
    "* apply sequence of transformations for each item: bytes->ndarray->opencvMatrix->siftSet\n",
    "* write result in **siftsets_ds**"
   ]
  },
  {
   "cell_type": "code",
   "execution_count": 15,
   "metadata": {
    "collapsed": true
   },
   "outputs": [],
   "source": [
    "transformers_=[trs.BytesToNdarray(), trs.NdarrayToOpencvMatrix(), trs.OpencvMatrixToSiftsSet()]\n",
    "steps.transform_step(images_ds, transformers_, siftsets_ds)"
   ]
  },
  {
   "cell_type": "code",
   "execution_count": 8,
   "metadata": {
    "collapsed": false
   },
   "outputs": [
    {
     "name": "stdout",
     "output_type": "stream",
     "text": [
      "count of items in ds:  999\n",
      "shape of item[0]:  (379, 128)\n",
      "shape of item[1]:  (407, 128)\n",
      "shape of item[2]:  (395, 128)\n"
     ]
    }
   ],
   "source": [
    "print_ds_items_info(siftsets_ds)"
   ]
  },
  {
   "cell_type": "markdown",
   "metadata": {
    "collapsed": false
   },
   "source": [
    "# Compute sample"
   ]
  },
  {
   "cell_type": "markdown",
   "metadata": {},
   "source": [
    "To build bag-of-visual-words we need visual words -> we need clusters -> we need to quantize sifts.\n",
    "\n",
    "We will quantize not all descriptors but sample from them"
   ]
  },
  {
   "cell_type": "code",
   "execution_count": 9,
   "metadata": {
    "collapsed": true
   },
   "outputs": [],
   "source": [
    "sifts_ds = SQLiteTableDataStore(siftsets_path, siftsets_table_name)"
   ]
  },
  {
   "cell_type": "markdown",
   "metadata": {},
   "source": [
    "Here we treat table as One-to-One, so only (id,item) are sampled, foreignid is not considered."
   ]
  },
  {
   "cell_type": "code",
   "execution_count": 10,
   "metadata": {
    "collapsed": false
   },
   "outputs": [
    {
     "name": "stdout",
     "output_type": "stream",
     "text": [
      "count of items in ds:  826845\n",
      "shape of item[0]:  (128,)\n",
      "shape of item[1]:  (128,)\n",
      "shape of item[2]:  (128,)\n"
     ]
    }
   ],
   "source": [
    "print_ds_items_info(sifts_ds)"
   ]
  },
  {
   "cell_type": "code",
   "execution_count": 138,
   "metadata": {
    "collapsed": true
   },
   "outputs": [],
   "source": [
    "sample_part=0.3\n",
    "sample_path='ds_data\\siftid_sift_sample{0}'.format(sample_part)\n",
    "sample_table_name='siftid_sift'"
   ]
  },
  {
   "cell_type": "code",
   "execution_count": 139,
   "metadata": {
    "collapsed": true
   },
   "outputs": [],
   "source": [
    "sample_ds = SQLiteTableDataStore(sample_path, sample_table_name)"
   ]
  },
  {
   "cell_type": "code",
   "execution_count": 140,
   "metadata": {
    "collapsed": true
   },
   "outputs": [],
   "source": [
    "steps.sampling_step(sifts_ds, sample_part, sample_ds)"
   ]
  },
  {
   "cell_type": "code",
   "execution_count": 141,
   "metadata": {
    "collapsed": false
   },
   "outputs": [
    {
     "name": "stdout",
     "output_type": "stream",
     "text": [
      "count of items in ds:  248053\n",
      "shape of item[0]:  (128,)\n",
      "shape of item[1]:  (128,)\n",
      "shape of item[2]:  (128,)\n"
     ]
    }
   ],
   "source": [
    "print_ds_items_info(sample_ds)"
   ]
  },
  {
   "cell_type": "markdown",
   "metadata": {},
   "source": [
    "# Quantize local descriptors"
   ]
  },
  {
   "cell_type": "code",
   "execution_count": 142,
   "metadata": {
    "collapsed": true
   },
   "outputs": [],
   "source": [
    "n_clusters=1500\n",
    "sift_clusters_path='ds_data\\siftid_sift_sample0.1-clusters{0}'.format(n_clusters)\n",
    "sift_clusters_table_name='clusterid_cluster'"
   ]
  },
  {
   "cell_type": "code",
   "execution_count": 143,
   "metadata": {
    "collapsed": true
   },
   "outputs": [],
   "source": [
    "sift_clusters_ds = SQLiteTableDataStore(sift_clusters_path, sift_clusters_table_name)"
   ]
  },
  {
   "cell_type": "code",
   "execution_count": 144,
   "metadata": {
    "collapsed": false
   },
   "outputs": [],
   "source": [
    "quantizer = PQQuantizer(n_clusters=n_clusters, n_quantizers=2)"
   ]
  },
  {
   "cell_type": "code",
   "execution_count": 145,
   "metadata": {
    "collapsed": true
   },
   "outputs": [],
   "source": [
    "steps.quantize_step(sample_ds, quantizer, sift_clusters_ds)"
   ]
  },
  {
   "cell_type": "code",
   "execution_count": 146,
   "metadata": {
    "collapsed": false
   },
   "outputs": [
    {
     "name": "stdout",
     "output_type": "stream",
     "text": [
      "count of items in ds:  2\n",
      "shape of item[0]:  (1500, 64)\n",
      "shape of item[1]:  (1500, 64)\n"
     ]
    }
   ],
   "source": [
    "print_ds_items_info(sift_clusters_ds)"
   ]
  },
  {
   "cell_type": "markdown",
   "metadata": {},
   "source": [
    "# Compute bows(sifts clusters bincounts)"
   ]
  },
  {
   "cell_type": "markdown",
   "metadata": {},
   "source": [
    "restore pq_quantizer from cluster centers"
   ]
  },
  {
   "cell_type": "code",
   "execution_count": 147,
   "metadata": {
    "collapsed": false
   },
   "outputs": [],
   "source": [
    "ds_clusters_ndarray_adapter = StreamNdarrayAdapterDataStore(sift_clusters_ds, detect_final_shape_by_first_elem=True)\n",
    "clusters = ds_clusters_ndarray_adapter.get_items_sorted_by_ids()\n",
    "pq_quantizer = restore_from_clusters(clusters)"
   ]
  },
  {
   "cell_type": "code",
   "execution_count": 148,
   "metadata": {
    "collapsed": true
   },
   "outputs": [],
   "source": [
    "productsiftbincount_path='ds_data\\imgid_productsiftbincount'\n",
    "productsiftbincount_table_name='imgid_productsiftbincount'"
   ]
  },
  {
   "cell_type": "code",
   "execution_count": 149,
   "metadata": {
    "collapsed": true
   },
   "outputs": [],
   "source": [
    "productsiftbincount_ds=SQLiteTableDataStore(productsiftbincount_path, productsiftbincount_table_name)"
   ]
  },
  {
   "cell_type": "code",
   "execution_count": 150,
   "metadata": {
    "collapsed": false
   },
   "outputs": [],
   "source": [
    "transformers=[trs.ArraysToProductBinCount(pq_quantizer)]\n",
    "steps.transform_step(siftsets_ds, transformers, productsiftbincount_ds)"
   ]
  },
  {
   "cell_type": "code",
   "execution_count": 1,
   "metadata": {
    "collapsed": false
   },
   "outputs": [
    {
     "ename": "NameError",
     "evalue": "name 'print_ds_items_info' is not defined",
     "traceback": [
      "\u001b[1;31m---------------------------------------------------------------------------\u001b[0m",
      "\u001b[1;31mNameError\u001b[0m                                 Traceback (most recent call last)",
      "\u001b[1;32m<ipython-input-1-2f428ee4f09d>\u001b[0m in \u001b[0;36m<module>\u001b[1;34m()\u001b[0m\n\u001b[1;32m----> 1\u001b[1;33m \u001b[0mprint_ds_items_info\u001b[0m\u001b[1;33m(\u001b[0m\u001b[0mproductsiftbincount_ds\u001b[0m\u001b[1;33m)\u001b[0m\u001b[1;33m\u001b[0m\u001b[0m\n\u001b[0m",
      "\u001b[1;31mNameError\u001b[0m: name 'print_ds_items_info' is not defined"
     ],
     "output_type": "error"
    }
   ],
   "source": [
    "print_ds_items_info(productsiftbincount_ds)"
   ]
  },
  {
   "cell_type": "markdown",
   "metadata": {},
   "source": [
    "# Exhaustive search by bows"
   ]
  },
  {
   "cell_type": "code",
   "execution_count": 152,
   "metadata": {
    "collapsed": true
   },
   "outputs": [],
   "source": [
    "np_neighbor_ids_ds=NumpyDataStore()\n",
    "productsiftbincount_ndarray_ds = StreamNdarrayAdapterDataStore(productsiftbincount_ds, detect_final_shape_by_first_elem=True)"
   ]
  },
  {
   "cell_type": "code",
   "execution_count": 153,
   "metadata": {
    "collapsed": true
   },
   "outputs": [],
   "source": [
    "exs_searcher=ExhaustiveSearcher(productsiftbincount_ndarray_ds.get_items_sorted_by_ids(), productsiftbincount_ndarray_ds.get_ids_sorted())"
   ]
  },
  {
   "cell_type": "code",
   "execution_count": 154,
   "metadata": {
    "collapsed": true
   },
   "outputs": [],
   "source": [
    "n_neighbors=15\n",
    "steps.search_step(productsiftbincount_ds, exs_searcher, n_neighbors , np_neighbor_ids_ds)"
   ]
  },
  {
   "cell_type": "code",
   "execution_count": 155,
   "metadata": {
    "collapsed": false
   },
   "outputs": [
    {
     "name": "stdout",
     "output_type": "stream",
     "text": [
      "count of items in ds:  999\n",
      "shape of item[0]:  [  1   4   2   3   5   8 378   7 382   6 385 384 373 370 381]\n",
      "shape of item[1]:  [  2   3   5   1   8   6   9   4 378   7 382 381 385 421 373]\n",
      "shape of item[2]:  [  3   2   5   6   1   8   4   9   7 378 381 382 385 370 373]\n",
      "shape of item[3]:  [  4   7   5   8   1 385 378 381 382 391 373 383 423 370 421]\n",
      "shape of item[4]:  [  5   8   3   4   2   6   1   9   7 385 381 378 382 373 384]\n",
      "shape of item[5]:  [  6   9   3   5   2   8   1 385 378 373 370 421 384 381 376]\n",
      "shape of item[6]:  [  7   4   8 385 387 378   5 381 382 391 395 371 373 855 421]\n",
      "shape of item[7]:  [  8   5   7   4   2   3   1 385 381   9 378 387 382 373 421]\n",
      "shape of item[8]:  [  9   6   5   3   2   8   1 385 378 381 370 373 421 384 419]\n",
      "shape of item[9]:  [ 10 416 415 419 420 421 418 383 376 423 417 373 422 805  57]\n"
     ]
    }
   ],
   "source": [
    "print_ds_items_info(np_neighbor_ids_ds, first_items_to_print=10, print_shape=False)"
   ]
  },
  {
   "cell_type": "markdown",
   "metadata": {
    "collapsed": true
   },
   "source": [
    "# Approximate search with inverted multi-index"
   ]
  },
  {
   "cell_type": "markdown",
   "metadata": {},
   "source": [
    "### Quantize global descriptors"
   ]
  },
  {
   "cell_type": "code",
   "execution_count": 156,
   "metadata": {
    "collapsed": true
   },
   "outputs": [],
   "source": [
    "productsiftbincountclusters_path='ds_data\\imgid_productsiftbincount_clusters'\n",
    "productsiftbincountclusters_table_name='clusterid_cluster'"
   ]
  },
  {
   "cell_type": "code",
   "execution_count": 157,
   "metadata": {
    "collapsed": false
   },
   "outputs": [],
   "source": [
    "productsiftbincountclusters_ds=SQLiteTableDataStore(productsiftbincountclusters_path, productsiftbincountclusters_table_name)"
   ]
  },
  {
   "cell_type": "code",
   "execution_count": 158,
   "metadata": {
    "collapsed": false
   },
   "outputs": [],
   "source": [
    "quantizer = PQQuantizer(n_clusters=256, n_quantizers=2)"
   ]
  },
  {
   "cell_type": "code",
   "execution_count": 159,
   "metadata": {
    "collapsed": false
   },
   "outputs": [],
   "source": [
    "steps.quantize_step(productsiftbincount_ds, quantizer, productsiftbincountclusters_ds)"
   ]
  },
  {
   "cell_type": "code",
   "execution_count": 160,
   "metadata": {
    "collapsed": false
   },
   "outputs": [
    {
     "name": "stdout",
     "output_type": "stream",
     "text": [
      "count of items in ds:  2\n",
      "shape of item[0]:  (256, 1500)\n",
      "shape of item[1]:  (256, 1500)\n"
     ]
    }
   ],
   "source": [
    "print_ds_items_info(productsiftbincountclusters_ds)"
   ]
  },
  {
   "cell_type": "markdown",
   "metadata": {},
   "source": [
    "### Build inverted multi-index"
   ]
  },
  {
   "cell_type": "code",
   "execution_count": 161,
   "metadata": {
    "collapsed": false
   },
   "outputs": [
    {
     "name": "stdout",
     "output_type": "stream",
     "text": [
      "cluster_centers:  (2, 256, 1500)\n"
     ]
    }
   ],
   "source": [
    "productsiftbincountclusters_ndarray_ds=StreamNdarrayAdapterDataStore(productsiftbincountclusters_ds, detect_final_shape_by_first_elem=True)\n",
    "cluster_centers=productsiftbincountclusters_ndarray_ds.get_items_sorted_by_ids()\n",
    "print(\"cluster_centers: \", cluster_centers.shape)"
   ]
  },
  {
   "cell_type": "code",
   "execution_count": 162,
   "metadata": {
    "collapsed": false
   },
   "outputs": [
    {
     "name": "stdout",
     "output_type": "stream",
     "text": [
      "X:  (999, 3000)\n",
      "X_ids:  (999,)\n"
     ]
    }
   ],
   "source": [
    "productsiftbincount_ndarray_ds = StreamNdarrayAdapterDataStore(productsiftbincount_ds, detect_final_shape_by_first_elem=True)\n",
    "X = productsiftbincount_ndarray_ds.get_items_sorted_by_ids()\n",
    "X_ids=productsiftbincount_ndarray_ds.get_ids_sorted()\n",
    "print(\"X: \", X.shape)\n",
    "print(\"X_ids: \", X_ids.shape)"
   ]
  },
  {
   "cell_type": "code",
   "execution_count": null,
   "metadata": {
    "collapsed": true
   },
   "outputs": [],
   "source": [
    "imi_searcher=InvertedMultiIndexSearcher(X, X_ids, cluster_centers)"
   ]
  },
  {
   "cell_type": "markdown",
   "metadata": {},
   "source": [
    "### Search approximate neighbors for all bovws(productsiftbincount_ds)"
   ]
  },
  {
   "cell_type": "code",
   "execution_count": null,
   "metadata": {
    "collapsed": false
   },
   "outputs": [],
   "source": [
    "approximateneighborsids_ds=NumpyDataStore()\n",
    "steps.search_step(productsiftbincount_ds, imi_searcher, 16 , approximateneighborsids_ds)"
   ]
  },
  {
   "cell_type": "code",
   "execution_count": null,
   "metadata": {
    "collapsed": false
   },
   "outputs": [],
   "source": [
    "print_ds_items_info(approximateneighborsids_ds, print_shape=False, first_items_to_print=50)"
   ]
  },
  {
   "cell_type": "code",
   "execution_count": null,
   "metadata": {
    "collapsed": true
   },
   "outputs": [],
   "source": [
    ""
   ]
  },
  {
   "cell_type": "code",
   "execution_count": null,
   "metadata": {
    "collapsed": true
   },
   "outputs": [],
   "source": [
    ""
   ]
  }
 ],
 "metadata": {
  "kernelspec": {
   "display_name": "Python 3",
   "language": "python",
   "name": "python3"
  },
  "language_info": {
   "codemirror_mode": {
    "name": "ipython",
    "version": 3.0
   },
   "file_extension": ".py",
   "mimetype": "text/x-python",
   "name": "python",
   "nbconvert_exporter": "python",
   "pygments_lexer": "ipython3",
   "version": "3.5.2"
  }
 },
 "nbformat": 4,
 "nbformat_minor": 0
}