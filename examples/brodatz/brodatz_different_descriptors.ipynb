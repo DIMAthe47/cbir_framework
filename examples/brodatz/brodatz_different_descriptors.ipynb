{
 "cells": [
  {
   "cell_type": "code",
   "execution_count": 1,
   "metadata": {
    "collapsed": false
   },
   "outputs": [],
   "source": [
    "import import_hack\n",
    "import core.steps as steps\n",
    "import core.data_store\n",
    "import core\n",
    "from core.data_store.sqlite_table_datastore import SQLiteTableDataStore\n",
    "from core.data_store.sqlite_table_one_to_many_datastore import SQLiteTableOneToManyDataStore\n",
    "from core.data_store.file_system_directory_datastore import FileSystemDirectoryDataStore\n",
    "from core.data_store.numpy_datastore import NumpyDataStore\n",
    "from core.data_store.stream_ndarray_adapter_datastore import StreamNdarrayAdapterDataStore\n",
    "from core.quantization.pq_quantizer import PQQuantizer, restore_from_clusters\n",
    "from core.transformer.bytes_to_ndarray import BytesToNdarray\n",
    "from core.transformer.ndarray_to_opencvmatrix import NdarrayToOpencvMatrix\n",
    "from core.transformer.opencvmatrix_to_histogram import OpencvMatrixToHistogram\n",
    "from core.transformer.opencvmatrix_to_glcm import OpencvMatrixToGLCM\n",
    "from core.transformer.opencvmatrix_to_lbphistogram import OpencvMatrixToLBPHistogram\n",
    "from core.search.exhaustive_searcher import ExhaustiveSearcher\n",
    "from core.search.inverted_multi_index_searcher import InvertedMultiIndexSearcher\n",
    "from core.common.ds_utils import print_ds_items_info\n",
    "from core.evaluation.retrieval_perfomance import PrecisionRecallAveragePrecisionEvaluator\n",
    "from core.evaluation.ground_truth import BrodatzGroundTruth\n",
    "from core import transformer as trs\n",
    "from core.transformer.mean_calculator import MeanCalculator\n",
    "import numpy as np\n",
    "%load_ext autoreload\n",
    "%autoreload 2"
   ]
  },
  {
   "cell_type": "markdown",
   "metadata": {},
   "source": [
    "# Compute descriptors(siftsets)"
   ]
  },
  {
   "cell_type": "code",
   "execution_count": 2,
   "metadata": {
    "collapsed": false
   },
   "outputs": [
    {
     "name": "stdout",
     "output_type": "stream",
     "text": [
      "images count in 'C:\\data\\images\\brodatz\\data.brodatz\\size_213x213':  999\n"
     ]
    }
   ],
   "source": [
    "img_dir_path = r'C:\\data\\images\\brodatz\\data.brodatz\\size_213x213'\n",
    "images_ds = FileSystemDirectoryDataStore(dir_path=img_dir_path)\n",
    "print(\"images count in '{0}': \".format(img_dir_path), images_ds.get_count())\n",
    "base_transformers=[BytesToNdarray(), NdarrayToOpencvMatrix()]"
   ]
  },
  {
   "cell_type": "code",
   "execution_count": 3,
   "metadata": {
    "collapsed": false
   },
   "outputs": [
    {
     "name": "stdout",
     "output_type": "stream",
     "text": [
      "count of items in ds:  999\n",
      "shape of item[0]:  (256, 1)\n",
      "shape of item[1]:  (256, 1)\n",
      "shape of item[2]:  (256, 1)\n"
     ]
    }
   ],
   "source": [
    "histogram_transformers=base_transformers+[OpencvMatrixToHistogram(True)]\n",
    "histogram_ds= SQLiteTableDataStore(\"ds_data\\imgid_histogram\",\"imgid_histogram\")\n",
    "# steps.transform_step(images_ds, histogram_transformers,histogram_ds)\n",
    "print_ds_items_info(histogram_ds)"
   ]
  },
  {
   "cell_type": "code",
   "execution_count": 4,
   "metadata": {
    "collapsed": false
   },
   "outputs": [
    {
     "name": "stdout",
     "output_type": "stream",
     "text": [
      "count of items in ds:  999\n",
      "shape of item[0]:  (65536,)\n",
      "shape of item[1]:  (65536,)\n",
      "shape of item[2]:  (65536,)\n"
     ]
    }
   ],
   "source": [
    "glcm_transformers=base_transformers+[OpencvMatrixToGLCM(True)]\n",
    "glcm_ds= SQLiteTableDataStore(\"ds_data\\imgid_glcm\",\"imgid_glcm\")\n",
    "# steps.transform_step(images_ds, glcm_transformers, glcm_ds)\n",
    "print_ds_items_info(glcm_ds)"
   ]
  },
  {
   "cell_type": "code",
   "execution_count": 5,
   "metadata": {
    "collapsed": false
   },
   "outputs": [
    {
     "name": "stdout",
     "output_type": "stream",
     "text": [
      "count of items in ds:  999\n",
      "shape of item[0]:  (512,)\n",
      "shape of item[1]:  (512,)\n",
      "shape of item[2]:  (512,)\n"
     ]
    }
   ],
   "source": [
    "lbphistogram_transformers=base_transformers+[OpencvMatrixToLBPHistogram()]\n",
    "lbphistogram_ds= SQLiteTableDataStore(\"ds_data\\imgid_lbphistogram\",\"imgid_lbphistogram\")\n",
    "# steps.transform_step(images_ds, lbphistogram_transformers, lbphistogram_ds)\n",
    "print_ds_items_info(lbphistogram_ds)"
   ]
  },
  {
   "cell_type": "markdown",
   "metadata": {},
   "source": [
    "# Exhaustive search by descriptors"
   ]
  },
  {
   "cell_type": "code",
   "execution_count": 6,
   "metadata": {
    "collapsed": true
   },
   "outputs": [],
   "source": [
    "n_nearest=25"
   ]
  },
  {
   "cell_type": "code",
   "execution_count": 7,
   "metadata": {
    "collapsed": false
   },
   "outputs": [],
   "source": [
    "# %%timeit -n3 -r3\n",
    "histogram_neighbor_ids_ds=NumpyDataStore()\n",
    "histogram_ndarray_ds = StreamNdarrayAdapterDataStore(histogram_ds, detect_final_shape_by_first_elem=True)\n",
    "histogram_exs_searcher=ExhaustiveSearcher(histogram_ndarray_ds.get_items_sorted_by_ids(), histogram_ndarray_ds.get_ids_sorted())\n",
    "steps.search_step(histogram_ds, histogram_exs_searcher, n_nearest , histogram_neighbor_ids_ds)"
   ]
  },
  {
   "cell_type": "code",
   "execution_count": 8,
   "metadata": {
    "collapsed": true
   },
   "outputs": [],
   "source": [
    "glcm_neighbor_ids_ds=NumpyDataStore()\n",
    "glcm_ndarray_ds = StreamNdarrayAdapterDataStore(glcm_ds, detect_final_shape_by_first_elem=True)\n",
    "glcm_exs_searcher=ExhaustiveSearcher(glcm_ndarray_ds.get_items_sorted_by_ids(), glcm_ndarray_ds.get_ids_sorted())\n",
    "steps.search_step(glcm_ds, glcm_exs_searcher, n_nearest , glcm_neighbor_ids_ds)"
   ]
  },
  {
   "cell_type": "code",
   "execution_count": 9,
   "metadata": {
    "collapsed": false
   },
   "outputs": [],
   "source": [
    "# %%timeit -n3 -r3\n",
    "lbphistogram_neighbor_ids_ds=NumpyDataStore()\n",
    "lbphistogram_ndarray_ds = StreamNdarrayAdapterDataStore(lbphistogram_ds, detect_final_shape_by_first_elem=True)\n",
    "lbphistogram_exs_searcher=ExhaustiveSearcher(lbphistogram_ndarray_ds.get_items_sorted_by_ids(), lbphistogram_ndarray_ds.get_ids_sorted())\n",
    "steps.search_step(lbphistogram_ds,lbphistogram_exs_searcher, n_nearest , lbphistogram_neighbor_ids_ds)"
   ]
  },
  {
   "cell_type": "code",
   "execution_count": 10,
   "metadata": {
    "collapsed": false
   },
   "outputs": [
    {
     "name": "stdout",
     "output_type": "stream",
     "text": [
      "count of items in ds:  999\n",
      "shape of item[0]:  (25,)\n",
      "item[0]:  [  1   2   3   4   6   5   7   9 845 842 843 844 841 790 792 442 962 444\n",
      "   8 780 258 961 445 261 830]\n",
      "shape of item[1]:  (25,)\n",
      "item[1]:  [  2   3   1   4   6 845   5   7 842 843 844 841   9 846 839 830 790 838\n",
      " 559 792 961 567 962 258 261]\n",
      "shape of item[2]:  (25,)\n",
      "item[2]:  [  3   4   2   1   6   5   7   9 842 841 845 844 843 961 962   8 258 790\n",
      " 830 792 261 113 839 263 567]\n",
      "shape of item[3]:  (25,)\n",
      "item[3]:  [  4   3   2   1   6   5   7   9 842 841 845 844 843   8 961 258 830 567\n",
      " 962 790 792 113 559 449 365]\n",
      "shape of item[4]:  (25,)\n",
      "item[4]:  [  5   7   6   9   4   3   8   1   2 842 841 413 369 961  56 962 365 411\n",
      " 407 258 113 414 515 363 516]\n"
     ]
    }
   ],
   "source": [
    "print_ds_items_info(lbphistogram_neighbor_ids_ds, first_items_to_print=5, print_shape_only=False)"
   ]
  },
  {
   "cell_type": "code",
   "execution_count": 11,
   "metadata": {
    "collapsed": false
   },
   "outputs": [
    {
     "name": "stdout",
     "output_type": "stream",
     "text": [
      "count of items in ds:  999\n",
      "shape of item[0]:  (25,)\n",
      "item[0]:  [  1   3   5   2   6   8   9   4  97  94  91  95 332  98  92 331 477 998\n",
      " 237 991 648 994  93 476 641]\n",
      "shape of item[1]:  (25,)\n",
      "item[1]:  [  2   6   9   3   1   5  97  94   8  91  95  98  92 331 477  93 332 237\n",
      " 641 648  96 538 998 642 476]\n",
      "shape of item[2]:  (25,)\n",
      "item[2]:  [  3   1   2   6   9   5   8  97  94  91  95  98  92 477   4 331 332 237\n",
      " 998  93 641 648 476 991 994]\n",
      "shape of item[3]:  (25,)\n",
      "item[3]:  [  4   8   7   5   1   3 998 995 991 992 648 332 994   2 644 333 647  95\n",
      " 261 997 755 754 999 756  94]\n",
      "shape of item[4]:  (25,)\n",
      "item[4]:  [  5   8   1   3   4   2   6   7   9  97  94  95 332  91 998  98 648  92\n",
      " 991 331 995 994 641 644 477]\n"
     ]
    }
   ],
   "source": [
    "print_ds_items_info(histogram_neighbor_ids_ds, first_items_to_print=5, print_shape_only=False)"
   ]
  },
  {
   "cell_type": "markdown",
   "metadata": {},
   "source": [
    "# Evaluate retrieval perfomance"
   ]
  },
  {
   "cell_type": "code",
   "execution_count": 12,
   "metadata": {
    "collapsed": false
   },
   "outputs": [],
   "source": [
    "perfomance_evaluator=PrecisionRecallAveragePrecisionEvaluator(BrodatzGroundTruth())"
   ]
  },
  {
   "cell_type": "code",
   "execution_count": 13,
   "metadata": {
    "collapsed": false
   },
   "outputs": [],
   "source": [
    "histogram_retrieval_perfomance_ds=NumpyDataStore()\n",
    "steps.evaluation_step(histogram_neighbor_ids_ds, perfomance_evaluator, histogram_retrieval_perfomance_ds)"
   ]
  },
  {
   "cell_type": "code",
   "execution_count": 14,
   "metadata": {
    "collapsed": true
   },
   "outputs": [],
   "source": [
    "glcm_retrieval_perfomance_ds=NumpyDataStore()\n",
    "steps.evaluation_step(glcm_neighbor_ids_ds, perfomance_evaluator, glcm_retrieval_perfomance_ds)"
   ]
  },
  {
   "cell_type": "code",
   "execution_count": 15,
   "metadata": {
    "collapsed": false
   },
   "outputs": [],
   "source": [
    "lbphistogram_retrieval_perfomance_ds=NumpyDataStore()\n",
    "steps.evaluation_step(lbphistogram_neighbor_ids_ds, perfomance_evaluator, lbphistogram_retrieval_perfomance_ds)"
   ]
  },
  {
   "cell_type": "code",
   "execution_count": 16,
   "metadata": {
    "collapsed": false
   },
   "outputs": [
    {
     "name": "stdout",
     "output_type": "stream",
     "text": [
      "count of items in ds:  999\n",
      "shape of item[0]:  (4, 25)\n",
      "item[0]:  [[  1.           2.           3.           4.           5.           6.\n",
      "    7.           8.           9.          10.          11.          12.\n",
      "   13.          14.          15.          16.          17.          18.\n",
      "   19.          20.          21.          22.          23.          24.\n",
      "   25.        ]\n",
      " [  1.           1.           1.           1.           1.           1.\n",
      "    1.           1.           0.88888889   0.8          0.72727273\n",
      "    0.66666667   0.61538462   0.57142857   0.53333333   0.5          0.47058824\n",
      "    0.44444444   0.47368421   0.45         0.42857143   0.40909091\n",
      "    0.39130435   0.375        0.36      ]\n",
      " [  0.1          0.2          0.3          0.4          0.5          0.6\n",
      "    0.7          0.8          0.8          0.8          0.8          0.8\n",
      "    0.8          0.8          0.8          0.8          0.8          0.8\n",
      "    0.9          0.9          0.9          0.9          0.9          0.9\n",
      "    0.9       ]\n",
      " [  0.1          0.2          0.3          0.4          0.5          0.6\n",
      "    0.7          0.8          0.8          0.8          0.8          0.8\n",
      "    0.8          0.8          0.8          0.8          0.8          0.8\n",
      "    0.84736842   0.84736842   0.84736842   0.84736842   0.84736842\n",
      "    0.84736842   0.84736842]]\n",
      "count of items in ds:  999\n",
      "shape of item[0]:  (4, 25)\n",
      "item[0]:  [[  1.           2.           3.           4.           5.           6.\n",
      "    7.           8.           9.          10.          11.          12.\n",
      "   13.          14.          15.          16.          17.          18.\n",
      "   19.          20.          21.          22.          23.          24.\n",
      "   25.        ]\n",
      " [  1.           1.           1.           1.           1.           1.\n",
      "    1.           1.           0.88888889   0.8          0.72727273\n",
      "    0.66666667   0.61538462   0.57142857   0.53333333   0.5          0.47058824\n",
      "    0.44444444   0.42105263   0.4          0.38095238   0.36363636\n",
      "    0.34782609   0.33333333   0.32      ]\n",
      " [  0.1          0.2          0.3          0.4          0.5          0.6\n",
      "    0.7          0.8          0.8          0.8          0.8          0.8\n",
      "    0.8          0.8          0.8          0.8          0.8          0.8\n",
      "    0.8          0.8          0.8          0.8          0.8          0.8\n",
      "    0.8       ]\n",
      " [  0.1          0.2          0.3          0.4          0.5          0.6\n",
      "    0.7          0.8          0.8          0.8          0.8          0.8\n",
      "    0.8          0.8          0.8          0.8          0.8          0.8\n",
      "    0.8          0.8          0.8          0.8          0.8          0.8\n",
      "    0.8       ]]\n"
     ]
    }
   ],
   "source": [
    "print_ds_items_info(lbphistogram_retrieval_perfomance_ds, first_items_to_print=1, print_shape_only=False)\n",
    "print_ds_items_info(histogram_retrieval_perfomance_ds, first_items_to_print=1, print_shape_only=False)"
   ]
  },
  {
   "cell_type": "markdown",
   "metadata": {},
   "source": [
    "# Evaluate average retrieval perfomance"
   ]
  },
  {
   "cell_type": "code",
   "execution_count": 17,
   "metadata": {
    "collapsed": false
   },
   "outputs": [],
   "source": [
    "histogram_average_retrieval_perfomance_ds=NumpyDataStore()\n",
    "steps.averaging_step(histogram_retrieval_perfomance_ds, histogram_average_retrieval_perfomance_ds)\n",
    "# steps.transform_step(histogram_retrieval_perfomance_ds, [MeanCalculator()], histogram_average_retrieval_perfomance_ds)"
   ]
  },
  {
   "cell_type": "code",
   "execution_count": 18,
   "metadata": {
    "collapsed": true
   },
   "outputs": [],
   "source": [
    "glcm_average_retrieval_perfomance_ds=NumpyDataStore()\n",
    "steps.averaging_step(glcm_retrieval_perfomance_ds,glcm_average_retrieval_perfomance_ds)\n",
    "# steps.transform_step(glcm_retrieval_perfomance_ds, [MeanCalculator()], glcm_average_retrieval_perfomance_ds)"
   ]
  },
  {
   "cell_type": "code",
   "execution_count": 19,
   "metadata": {
    "collapsed": true
   },
   "outputs": [],
   "source": [
    "lbphistogram_average_retrieval_perfomance_ds=NumpyDataStore()\n",
    "steps.averaging_step(lbphistogram_retrieval_perfomance_ds,lbphistogram_average_retrieval_perfomance_ds)\n",
    "# steps.transform_step(lbphistogram_retrieval_perfomance_ds, [MeanCalculator()], lbphistogram_average_retrieval_perfomance_ds)"
   ]
  },
  {
   "cell_type": "code",
   "execution_count": 20,
   "metadata": {
    "collapsed": false
   },
   "outputs": [
    {
     "name": "stdout",
     "output_type": "stream",
     "text": [
      "count of items in ds:  1\n",
      "shape of item[0]:  (4, 25)\n",
      "item[0]:  [[  1.           2.           3.           4.           5.           6.\n",
      "    7.           8.           9.          10.          11.          12.\n",
      "   13.          14.          15.          16.          17.          18.\n",
      "   19.          20.          21.          22.          23.          24.\n",
      "   25.        ]\n",
      " [  1.           0.96596597   0.92559226   0.89314314   0.85885886\n",
      "    0.82298966   0.78735879   0.74612112   0.7037037    0.64804805\n",
      "    0.6018746    0.56106106   0.52614153   0.4953525    0.46840174\n",
      "    0.44344344   0.42171583   0.40162385   0.38380486   0.36711712\n",
      "    0.35158968   0.33774684   0.32436785   0.31218719   0.30098098]\n",
      " [  0.1          0.19319319   0.27767768   0.35725726   0.42942943\n",
      "    0.49379379   0.55115115   0.5968969    0.63333333   0.64804805\n",
      "    0.66206206   0.67327327   0.68398398   0.69349349   0.7026026\n",
      "    0.70950951   0.71691692   0.72292292   0.72922923   0.73423423\n",
      "    0.73833834   0.74304304   0.74604605   0.74924925   0.75245245]\n",
      " [  0.1          0.19319319   0.27711044   0.35461295   0.42462296\n",
      "    0.48563397   0.53878712   0.5800659    0.61232038   0.62245051\n",
      "    0.63122291   0.63757093   0.64330744   0.64812654   0.65235076\n",
      "    0.65552269   0.65867878   0.6611646    0.66347217   0.66522393\n",
      "    0.66664439   0.66824144   0.66920763   0.67022114   0.67114607]]\n"
     ]
    }
   ],
   "source": [
    "print_ds_items_info(histogram_average_retrieval_perfomance_ds, first_items_to_print=3, print_shape_only=False)"
   ]
  },
  {
   "cell_type": "markdown",
   "metadata": {},
   "source": [
    "# Plotting"
   ]
  },
  {
   "cell_type": "code",
   "execution_count": 78,
   "metadata": {
    "collapsed": false
   },
   "outputs": [],
   "source": [
    "def plot_results(average_retrieval_perfomances_ds_arr, labels, i, ylabel, loc='upper right'):\n",
    "    x_ds=StreamNdarrayAdapterDataStore(average_retrieval_perfomances_ds_arr[0], slice_get=(slice(None),0))\n",
    "    results_ds_arr=[StreamNdarrayAdapterDataStore(arp_ds, slice_get=(slice(None),i)) for arp_ds in average_retrieval_perfomances_ds_arr]\n",
    "    import matplotlib.pyplot as plt\n",
    "    steps.plotting_step(x_ds, plt, labels,\n",
    "                        results_ds_arr)\n",
    "    plt.legend(loc=loc)\n",
    "    plt.xlabel('n_nearest')\n",
    "    plt.ylabel(ylabel)\n",
    "    plt.yticks(np.linspace(0,1, 21))\n",
    "    plt.xticks(x_ds.get_items_sorted_by_ids().ravel())\n",
    "    plt.grid(True)\n",
    "    plt.show()"
   ]
  },
  {
   "cell_type": "code",
   "execution_count": 74,
   "metadata": {
    "collapsed": true
   },
   "outputs": [],
   "source": [
    "labels=[\"histogram(bins:256)\", \"LBP histogram(r:1, points:8, uniform)\",\n",
    "        \"histogram(inverted multi-index)\", \"LBP histogram(inverted multi-index)\"]\n",
    "\n",
    "labels=[\"histogram(bins:256)\", \"GLCM\", \"LBP histogram(inverted multi-index)\"]"
   ]
  },
  {
   "cell_type": "code",
   "execution_count": 77,
   "metadata": {
    "collapsed": false
   },
   "outputs": [
    {
     "name": "stdout",
     "output_type": "stream",
     "text": [
      "[  1.   2.   3.   4.   5.   6.   7.   8.   9.  10.  11.  12.  13.  14.  15.\n",
      "  16.  17.  18.  19.  20.  21.  22.  23.  24.  25.]\n",
      "[ 1.          0.96596597  0.92559226  0.89314314  0.85885886  0.82298966\n",
      "  0.78735879  0.74612112  0.7037037   0.64804805  0.6018746   0.56106106\n",
      "  0.52614153  0.4953525   0.46840174  0.44344344  0.42171583  0.40162385\n",
      "  0.38380486  0.36711712  0.35158968  0.33774684  0.32436785  0.31218719\n",
      "  0.30098098]\n",
      "[ 1.          0.96646647  0.93159826  0.9009009   0.86926927  0.82999666\n",
      "  0.79121979  0.75037538  0.70870871  0.65115115  0.6019656   0.55955956\n",
      "  0.52437052  0.49284999  0.4645312   0.43943944  0.41682859  0.39617395\n",
      "  0.3769559   0.35985986  0.34467801  0.33078533  0.31744788  0.30513847\n",
      "  0.29389389]\n",
      "[ 1.          0.93493493  0.88521855  0.84534535  0.80700701  0.77010344\n",
      "  0.73730874  0.70457958  0.67022578  0.62302302  0.58112658  0.54320988\n",
      "  0.51035651  0.48183898  0.45558892  0.43218218  0.41129365  0.39155822\n",
      "  0.37411095  0.35790791  0.34348634  0.33019383  0.31797014  0.30668168\n",
      "  0.29581582]\n"
     ]
    }
   ],
   "source": [
    "plot_results([histogram_average_retrieval_perfomance_ds, glcm_average_retrieval_perfomance_ds,\n",
    "              lbphistogram_average_retrieval_perfomance_ds], labels, 1,'precision', loc='lower left')"
   ]
  },
  {
   "cell_type": "code",
   "execution_count": 103,
   "metadata": {
    "collapsed": false
   },
   "outputs": [
    {
     "name": "stdout",
     "output_type": "stream",
     "text": [
      "x_shape (25,)\n",
      "y_shape (25,)\n",
      "y_shape (25,)\n"
     ]
    }
   ],
   "source": [
    "steps.plotting_step2([histogram_average_retrieval_perfomance_ds, lbphistogram_average_retrieval_perfomance_ds], 0, 1, ['histogram','lbphistogram'], \n",
    "                     'n_nearest', 'precision')"
   ]
  },
  {
   "cell_type": "code",
   "execution_count": 106,
   "metadata": {
    "collapsed": false
   },
   "outputs": [
    {
     "name": "stdout",
     "output_type": "stream",
     "text": [
      "x_shape (25,)\n",
      "y_shape (25,)\n",
      "y_shape (25,)\n"
     ]
    }
   ],
   "source": [
    "steps.plotting_step2([histogram_average_retrieval_perfomance_ds, lbphistogram_average_retrieval_perfomance_ds], 0, 1, ['histogram','lbphistogram'], \n",
    "                     'n_nearest', 'precision', save_to_file='hist_lbphist_25_precision.png')"
   ]
  },
  {
   "cell_type": "markdown",
   "metadata": {
    "collapsed": true
   },
   "source": [
    "# Approximate search with inverted multi-index"
   ]
  },
  {
   "cell_type": "markdown",
   "metadata": {},
   "source": [
    "### Quantize global descriptors"
   ]
  },
  {
   "cell_type": "code",
   "execution_count": 21,
   "metadata": {
    "collapsed": false
   },
   "outputs": [
    {
     "name": "stdout",
     "output_type": "stream",
     "text": [
      "count of items in ds:  2\n",
      "shape of item[0]:  (256, 128)\n",
      "shape of item[1]:  (256, 128)\n"
     ]
    }
   ],
   "source": [
    "histogramclusters_ds=SQLiteTableDataStore('ds_data\\imgid_histogramclusters', 'clusterid_cluster')\n",
    "quantizer = PQQuantizer(n_clusters=256, n_quantizers=2)\n",
    "# steps.quantize_step(histogram_ds, quantizer, histogramclusters_ds)\n",
    "print_ds_items_info(histogramclusters_ds)"
   ]
  },
  {
   "cell_type": "code",
   "execution_count": 22,
   "metadata": {
    "collapsed": false
   },
   "outputs": [
    {
     "name": "stdout",
     "output_type": "stream",
     "text": [
      "count of items in ds:  2\n",
      "shape of item[0]:  (256, 32768)\n",
      "shape of item[1]:  (256, 32768)\n"
     ]
    }
   ],
   "source": [
    "glcmclusters_ds=SQLiteTableDataStore('ds_data\\imgid_glcmclusters', 'clusterid_cluster')\n",
    "quantizer = PQQuantizer(n_clusters=256, n_quantizers=2)\n",
    "# steps.quantize_step(glcm_ds, quantizer, glcmclusters_ds)\n",
    "print_ds_items_info(glcmclusters_ds)"
   ]
  },
  {
   "cell_type": "code",
   "execution_count": 23,
   "metadata": {
    "collapsed": false
   },
   "outputs": [
    {
     "name": "stdout",
     "output_type": "stream",
     "text": [
      "count of items in ds:  2\n",
      "shape of item[0]:  (256, 256)\n",
      "shape of item[1]:  (256, 256)\n"
     ]
    }
   ],
   "source": [
    "lbphistogramclusters_ds=SQLiteTableDataStore('ds_data\\imgid_lbphistogramclusters', 'clusterid_cluster')\n",
    "quantizer = PQQuantizer(n_clusters=256, n_quantizers=2)\n",
    "# steps.quantize_step(lbphistogram_ds, quantizer, lbphistogramclusters_ds)\n",
    "print_ds_items_info(lbphistogramclusters_ds)"
   ]
  },
  {
   "cell_type": "markdown",
   "metadata": {},
   "source": [
    "### Build inverted multi-index"
   ]
  },
  {
   "cell_type": "code",
   "execution_count": 24,
   "metadata": {
    "collapsed": false
   },
   "outputs": [
    {
     "name": "stdout",
     "output_type": "stream",
     "text": [
      "histgoramcluster_centers:  (2, 256, 128)\n",
      "X:  (999, 256, 1)\n",
      "X_ids:  (999,)\n"
     ]
    }
   ],
   "source": [
    "histogramclusters_ndarray_ds=StreamNdarrayAdapterDataStore(histogramclusters_ds, detect_final_shape_by_first_elem=True)\n",
    "histgoramcluster_centers=histogramclusters_ndarray_ds.get_items_sorted_by_ids()\n",
    "print(\"histgoramcluster_centers: \", histgoramcluster_centers.shape)\n",
    "histogram_ndarray_ds = StreamNdarrayAdapterDataStore(histogram_ds, detect_final_shape_by_first_elem=True)\n",
    "histogram_X = histogram_ndarray_ds.get_items_sorted_by_ids()\n",
    "histogram_X_ids=histogram_ndarray_ds.get_ids_sorted()\n",
    "print(\"X: \", histogram_X.shape)\n",
    "print(\"X_ids: \", histogram_X_ids.shape)\n",
    "histogram_imi_searcher=InvertedMultiIndexSearcher(histogram_X, histogram_X_ids, histgoramcluster_centers)"
   ]
  },
  {
   "cell_type": "code",
   "execution_count": 25,
   "metadata": {
    "collapsed": false
   },
   "outputs": [],
   "source": [
    "glcmclusters_ndarray_ds=StreamNdarrayAdapterDataStore(glcmclusters_ds, detect_final_shape_by_first_elem=True)\n",
    "glcmcluster_centers=glcmclusters_ndarray_ds.get_items_sorted_by_ids()\n",
    "glcm_ndarray_ds = StreamNdarrayAdapterDataStore(glcm_ds, detect_final_shape_by_first_elem=True)\n",
    "glcm_X = glcm_ndarray_ds.get_items_sorted_by_ids()\n",
    "glcm_X_ids=glcm_ndarray_ds.get_ids_sorted()\n",
    "glcm_imi_searcher=InvertedMultiIndexSearcher(glcm_X, glcm_X_ids, glcmcluster_centers)"
   ]
  },
  {
   "cell_type": "code",
   "execution_count": 26,
   "metadata": {
    "collapsed": false
   },
   "outputs": [],
   "source": [
    "lbphistogramclusters_ndarray_ds=StreamNdarrayAdapterDataStore(lbphistogramclusters_ds, detect_final_shape_by_first_elem=True)\n",
    "lbphistgoramcluster_centers=lbphistogramclusters_ndarray_ds.get_items_sorted_by_ids()\n",
    "lbphistogram_ndarray_ds = StreamNdarrayAdapterDataStore(lbphistogram_ds, detect_final_shape_by_first_elem=True)\n",
    "lbphistogram_X = lbphistogram_ndarray_ds.get_items_sorted_by_ids()\n",
    "lbphistogram_X_ids=lbphistogram_ndarray_ds.get_ids_sorted()\n",
    "lbphistogram_imi_searcher=InvertedMultiIndexSearcher(lbphistogram_X, lbphistogram_X_ids, lbphistgoramcluster_centers)"
   ]
  },
  {
   "cell_type": "markdown",
   "metadata": {},
   "source": [
    "### Search approximate neighbors for all bovws(productsiftbincount_ds)"
   ]
  },
  {
   "cell_type": "code",
   "execution_count": 28,
   "metadata": {
    "collapsed": true
   },
   "outputs": [],
   "source": [
    "n_nearest=1"
   ]
  },
  {
   "cell_type": "code",
   "execution_count": null,
   "metadata": {
    "collapsed": false
   },
   "outputs": [],
   "source": [
    "# %%timeit -n3 -r3\n",
    "\n",
    "histogram_imi_neighborsids_ds=NumpyDataStore()\n",
    "steps.search_step(histogram_ds, histogram_imi_searcher, n_nearest, histogram_imi_neighborsids_ds)"
   ]
  },
  {
   "cell_type": "code",
   "execution_count": 21,
   "metadata": {
    "collapsed": false
   },
   "outputs": [
    {
     "name": "stdout",
     "output_type": "stream",
     "text": [
      "count of items in ds:  999\n",
      "shape of item[0]:  (25,)\n",
      "item[0]:  [  3   1   8   5   9   6   2   4 332  98  97  95  94  92  91 331 477 476\n",
      " 998 997 994 648 647 644 642]\n",
      "shape of item[1]:  (25,)\n",
      "item[1]:  [  9   6   2   3   1   8   5  98  97  95  94  92  91 332 331 477 476  99\n",
      "  96  93 538 648 647 644 642]\n",
      "shape of item[2]:  (25,)\n",
      "item[2]:  [  3   1   9   6   2   8   5  98  97  95  94  92  91 332   4 477 476 331\n",
      " 998 997 994 648 647 644 642]\n",
      "shape of item[3]:  (25,)\n",
      "item[3]:  [  4   7   8   5   3   1 998 997 994 332 995 991 999 992 755 754 333 261\n",
      " 648 647 644 642 641 331  98]\n",
      "shape of item[4]:  (25,)\n",
      "item[4]:  [  8   5   3   1   4   9   6   2   7 332  98  97  95  94  92  91 998 997\n",
      " 994 331 648 647 644 642 641]\n"
     ]
    }
   ],
   "source": [
    "print_ds_items_info(histogram_imi_neighborsids_ds, print_shape_only=False, first_items_to_print=5)"
   ]
  },
  {
   "cell_type": "code",
   "execution_count": 11,
   "metadata": {
    "collapsed": true
   },
   "outputs": [],
   "source": [
    "n_nearest=1"
   ]
  },
  {
   "cell_type": "code",
   "execution_count": null,
   "metadata": {
    "collapsed": true
   },
   "outputs": [],
   "source": [
    "glcm_approximateneighborsids_ds=NumpyDataStore()\n",
    "steps.search_step(glcm_ds, glcm_imi_searcher, n_nearest, glcm_approximateneighborsids_ds)\n",
    "print_ds_items_info(glcm_approximateneighborsids_ds, print_shape=False, first_items_to_print=5)"
   ]
  },
  {
   "cell_type": "code",
   "execution_count": 22,
   "metadata": {
    "collapsed": false
   },
   "outputs": [],
   "source": [
    "# %%timeit -n3 -r3\n",
    "lbphistogram_imi_neighborsids_ds=NumpyDataStore()\n",
    "steps.search_step(lbphistogram_ds, lbphistogram_imi_searcher, n_nearest, lbphistogram_imi_neighborsids_ds)\n",
    "# print_ds_items_info(lbphistogram_imi_neighborsids_ds, print_shape=False, first_items_to_print=5)"
   ]
  },
  {
   "cell_type": "code",
   "execution_count": 26,
   "metadata": {
    "collapsed": false
   },
   "outputs": [],
   "source": [
    "histogram_imi_retrieval_perfomance_ds=NumpyDataStore()\n",
    "steps.evaluation_step(histogram_imi_neighborsids_ds, perfomance_evaluator, histogram_imi_retrieval_perfomance_ds)"
   ]
  },
  {
   "cell_type": "code",
   "execution_count": 27,
   "metadata": {
    "collapsed": true
   },
   "outputs": [],
   "source": [
    "lbphistogram_imi_retrieval_perfomance_ds=NumpyDataStore()\n",
    "steps.evaluation_step(lbphistogram_imi_neighborsids_ds, perfomance_evaluator, lbphistogram_imi_retrieval_perfomance_ds)"
   ]
  },
  {
   "cell_type": "code",
   "execution_count": null,
   "metadata": {
    "collapsed": true
   },
   "outputs": [],
   "source": []
  },
  {
   "cell_type": "code",
   "execution_count": 31,
   "metadata": {
    "collapsed": true
   },
   "outputs": [],
   "source": [
    "histogram_imi_average_retrieval_perfomance_ds=NumpyDataStore()\n",
    "steps.averaging_step(histogram_imi_retrieval_perfomance_ds, histogram_imi_average_retrieval_perfomance_ds)"
   ]
  },
  {
   "cell_type": "code",
   "execution_count": 32,
   "metadata": {
    "collapsed": true
   },
   "outputs": [],
   "source": [
    "lbphistogram_imi_average_retrieval_perfomance_ds=NumpyDataStore()\n",
    "steps.averaging_step(lbphistogram_imi_retrieval_perfomance_ds, lbphistogram_imi_average_retrieval_perfomance_ds)"
   ]
  },
  {
   "cell_type": "code",
   "execution_count": 166,
   "metadata": {
    "collapsed": true
   },
   "outputs": [
    {
     "name": "stdout",
     "output_type": "stream",
     "text": [
      "[  1.   2.   3.   4.   5.   6.   7.   8.   9.  10.  11.  12.  13.  14.  15.\n",
      "  16.  17.  18.  19.  20.  21.  22.  23.  24.  25.]\n",
      "[ 1.          0.97797798  0.95395395  0.92992993  0.90610611  0.87771104\n",
      "  0.85113685  0.81969469  0.77922367  0.71741742  0.66511967  0.62137137\n",
      "  0.58235158  0.54733305  0.51531532  0.48736236  0.46311017  0.44088533\n",
      "  0.41999895  0.4007007   0.38324038  0.36727637  0.35291814  0.33921421\n",
      "  0.32656657]\n",
      "[ 1.          0.93643644  0.88688689  0.8455956   0.80660661  0.77360694\n",
      "  0.73902474  0.70720721  0.67534201  0.62612613  0.58312858  0.54562896\n",
      "  0.51274351  0.48305448  0.45699032  0.43374625  0.41253018  0.39328217\n",
      "  0.37532269  0.35955956  0.34491634  0.33092183  0.31844888  0.30697364\n",
      "  0.29641642]\n",
      "[ 0.97097097  0.94294294  0.91324658  0.88288288  0.85065065  0.81715048\n",
      "  0.78149578  0.74537037  0.71249027  0.65515516  0.60578761  0.56456456\n",
      "  0.52837453  0.49714     0.469336    0.44413163  0.42271683  0.40279168\n",
      "  0.38480586  0.36806807  0.35244769  0.33792884  0.32462898  0.31297965\n",
      "  0.30198198]\n",
      "[ 0.77677678  0.79029029  0.79012346  0.77677678  0.75975976  0.7350684\n",
      "  0.71013871  0.68506006  0.66210655  0.61431431  0.57302757  0.53511845\n",
      "  0.5029645   0.47483197  0.44938272  0.42705205  0.40770182  0.38922256\n",
      "  0.37237237  0.35680681  0.34219934  0.32873783  0.31614223  0.30417918\n",
      "  0.29345345]\n"
     ]
    }
   ],
   "source": [
    "plot_results([histogram_average_retrieval_perfomance_ds, \n",
    "              lbphistogram_average_retrieval_perfomance_ds, histogram_imi_average_retrieval_perfomance_ds,\n",
    "             lbphistogram_imi_average_retrieval_perfomance_ds], labels, \n",
    "             1, 'precision', loc='lower left')"
   ]
  },
  {
   "cell_type": "code",
   "execution_count": 164,
   "metadata": {
    "collapsed": true
   },
   "outputs": [
    {
     "name": "stdout",
     "output_type": "stream",
     "text": [
      "[  1.   2.   3.   4.   5.   6.   7.   8.   9.  10.  11.  12.  13.  14.  15.\n",
      "  16.  17.  18.  19.  20.  21.  22.  23.  24.  25.]\n",
      "[ 0.1         0.1955956   0.28618619  0.37197197  0.45305305  0.52662663\n",
      "  0.5957958   0.65575576  0.7013013   0.71741742  0.73163163  0.74564565\n",
      "  0.75705706  0.76626627  0.77297297  0.77977978  0.78728729  0.79359359\n",
      "  0.797998    0.8014014   0.8048048   0.80800801  0.81171171  0.81411411\n",
      "  0.81641642]\n",
      "[ 0.1         0.18728729  0.26606607  0.33823824  0.4033033   0.46416416\n",
      "  0.51731732  0.56576577  0.60780781  0.62612613  0.64144144  0.65475475\n",
      "  0.66656657  0.67627628  0.68548549  0.69399399  0.7013013   0.70790791\n",
      "  0.71311311  0.71911912  0.72432432  0.72802803  0.73243243  0.73673674\n",
      "  0.74104104]\n",
      "[ 0.0970971   0.18858859  0.27397397  0.35315315  0.42532533  0.49029029\n",
      "  0.54704705  0.5962963   0.64124124  0.65515516  0.66636637  0.67747748\n",
      "  0.68688689  0.695996    0.704004    0.71061061  0.71861862  0.72502503\n",
      "  0.73113113  0.73613614  0.74014014  0.74344344  0.74664665  0.75115115\n",
      "  0.75495495]\n",
      "[ 0.07767768  0.15805806  0.23703704  0.31071071  0.37987988  0.44104104\n",
      "  0.4970971   0.54804805  0.5958959   0.61431431  0.63033033  0.64214214\n",
      "  0.65385385  0.66476476  0.67407407  0.68328328  0.69309309  0.7006006\n",
      "  0.70750751  0.71361361  0.71861862  0.72322322  0.72712713  0.73003003\n",
      "  0.73363363]\n"
     ]
    }
   ],
   "source": [
    "plot_results([histogram_average_retrieval_perfomance_ds, \n",
    "              lbphistogram_average_retrieval_perfomance_ds, histogram_imi_average_retrieval_perfomance_ds,\n",
    "             lbphistogram_imi_average_retrieval_perfomance_ds], labels, \n",
    "             2, \n",
    "             'recall',\n",
    "             loc='lower right')"
   ]
  },
  {
   "cell_type": "code",
   "execution_count": 165,
   "metadata": {
    "collapsed": true
   },
   "outputs": [
    {
     "name": "stdout",
     "output_type": "stream",
     "text": [
      "[  1.   2.   3.   4.   5.   6.   7.   8.   9.  10.  11.  12.  13.  14.  15.\n",
      "  16.  17.  18.  19.  20.  21.  22.  23.  24.  25.]\n",
      "[ 0.1         0.1955956   0.28575242  0.37031198  0.44955122  0.52087254\n",
      "  0.58682421  0.64308046  0.68525597  0.6968876   0.70644261  0.71507625\n",
      "  0.72165975  0.72646456  0.72972115  0.73303696  0.73662879  0.73943715\n",
      "  0.74119681  0.7424931   0.74371337  0.74483267  0.74605564  0.74685226\n",
      "  0.74755297]\n",
      "[ 0.1         0.18728729  0.26459793  0.3344678   0.39624958  0.45293961\n",
      "  0.50137375  0.54492981  0.580343    0.59308574  0.60261345  0.61007091\n",
      "  0.61593832  0.62047857  0.62476286  0.6287043   0.63166019  0.63432953\n",
      "  0.6363368   0.63834381  0.64005981  0.64122916  0.64261751  0.64388544\n",
      "  0.64499455]\n",
      "[ 0.0970971   0.18778779  0.27140474  0.34845679  0.41812646  0.47962129\n",
      "  0.53281734  0.57781234  0.61768554  0.62692478  0.63366789  0.63974897\n",
      "  0.64455377  0.64920128  0.65300508  0.65584542  0.65909573  0.66153706\n",
      "  0.66387098  0.66573784  0.66715354  0.66825464  0.66923824  0.67063964\n",
      "  0.67177277]\n",
      "[ 0.07767768  0.1541041   0.22687688  0.29436937  0.35683183  0.41200367\n",
      "  0.46256852  0.50767613  0.54893961  0.56076144  0.57046205  0.5765181\n",
      "  0.58226231  0.58741031  0.5914677   0.59502751  0.59903152  0.60185656\n",
      "  0.60412726  0.60620433  0.6077964   0.6092524   0.61036221  0.61111296\n",
      "  0.61199784]\n"
     ]
    }
   ],
   "source": [
    "plot_results([histogram_average_retrieval_perfomance_ds, \n",
    "              lbphistogram_average_retrieval_perfomance_ds, histogram_imi_average_retrieval_perfomance_ds,\n",
    "             lbphistogram_imi_average_retrieval_perfomance_ds], labels,\n",
    "             3, 'mean average precision',\n",
    "             loc='lower right')"
   ]
  },
  {
   "cell_type": "code",
   "execution_count": 54,
   "metadata": {
    "collapsed": false
   },
   "outputs": [],
   "source": [
    "labels=[\"histogram(bins:256)\", \"LBP histogram(r:1, points:8, uniform)\",\n",
    "        \"histogram(inverted multi-index)\", \"LBP histogram(inverted multi-index)\"]\n",
    "steps.plotting_step2([histogram_average_retrieval_perfomance_ds, lbphistogram_average_retrieval_perfomance_ds,\n",
    "                     histogram_imi_average_retrieval_perfomance_ds, lbphistogram_imi_average_retrieval_perfomance_ds], \n",
    "                     0, 3, labels, \n",
    "                     'n_nearest', 'mAP', save_to_file='hist_lbphist_imihist_imilbphist_25_precision.png')"
   ]
  },
  {
   "cell_type": "code",
   "execution_count": null,
   "metadata": {
    "collapsed": true
   },
   "outputs": [],
   "source": []
  }
 ],
 "metadata": {
  "kernelspec": {
   "display_name": "Python 3",
   "language": "python",
   "name": "python3"
  },
  "language_info": {
   "codemirror_mode": {
    "name": "ipython",
    "version": 3
   },
   "file_extension": ".py",
   "mimetype": "text/x-python",
   "name": "python",
   "nbconvert_exporter": "python",
   "pygments_lexer": "ipython3",
   "version": "3.5.2"
  }
 },
 "nbformat": 4,
 "nbformat_minor": 0
}
