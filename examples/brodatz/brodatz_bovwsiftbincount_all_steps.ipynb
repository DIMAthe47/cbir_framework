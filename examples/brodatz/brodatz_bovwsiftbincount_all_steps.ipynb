{
 "cells": [
  {
   "cell_type": "code",
   "execution_count": 2,
   "metadata": {
    "collapsed": false
   },
   "outputs": [
    {
     "ename": "ImportError",
     "evalue": "cannot import name 'transformers'",
     "output_type": "error",
     "traceback": [
      "\u001b[1;31m---------------------------------------------------------------------------\u001b[0m",
      "\u001b[1;31mImportError\u001b[0m                               Traceback (most recent call last)",
      "\u001b[1;32m<ipython-input-2-df235d06fc5c>\u001b[0m in \u001b[0;36m<module>\u001b[1;34m()\u001b[0m\n\u001b[0;32m      8\u001b[0m \u001b[1;32mfrom\u001b[0m \u001b[0mcore\u001b[0m\u001b[1;33m.\u001b[0m\u001b[0mdata_store\u001b[0m\u001b[1;33m.\u001b[0m\u001b[0mstream_ndarray_adapter_datastore\u001b[0m \u001b[1;32mimport\u001b[0m \u001b[0mStreamNdarrayAdapterDataStore\u001b[0m\u001b[1;33m\u001b[0m\u001b[0m\n\u001b[0;32m      9\u001b[0m \u001b[1;32mfrom\u001b[0m \u001b[0mcore\u001b[0m\u001b[1;33m.\u001b[0m\u001b[0mquantization\u001b[0m\u001b[1;33m.\u001b[0m\u001b[0mpq_quantizer\u001b[0m \u001b[1;32mimport\u001b[0m \u001b[0mPQQuantizer\u001b[0m\u001b[1;33m,\u001b[0m \u001b[0mrestore_from_clusters\u001b[0m\u001b[1;33m\u001b[0m\u001b[0m\n\u001b[1;32m---> 10\u001b[1;33m \u001b[1;32mfrom\u001b[0m \u001b[0mcore\u001b[0m\u001b[1;33m.\u001b[0m\u001b[0mtransformer\u001b[0m \u001b[1;32mimport\u001b[0m \u001b[0mtransformers\u001b[0m \u001b[1;32mas\u001b[0m \u001b[0mtrs\u001b[0m\u001b[1;33m\u001b[0m\u001b[0m\n\u001b[0m\u001b[0;32m     11\u001b[0m \u001b[1;32mfrom\u001b[0m \u001b[0mcore\u001b[0m\u001b[1;33m.\u001b[0m\u001b[0msearch\u001b[0m\u001b[1;33m.\u001b[0m\u001b[0mexhaustive_searcher\u001b[0m \u001b[1;32mimport\u001b[0m \u001b[0mExhaustiveSearcher\u001b[0m\u001b[1;33m\u001b[0m\u001b[0m\n\u001b[0;32m     12\u001b[0m \u001b[1;32mfrom\u001b[0m \u001b[0mcore\u001b[0m\u001b[1;33m.\u001b[0m\u001b[0msearch\u001b[0m\u001b[1;33m.\u001b[0m\u001b[0minverted_multi_index_searcher\u001b[0m \u001b[1;32mimport\u001b[0m \u001b[0mInvertedMultiIndexSearcher\u001b[0m\u001b[1;33m\u001b[0m\u001b[0m\n",
      "\u001b[1;31mImportError\u001b[0m: cannot import name 'transformers'"
     ]
    }
   ],
   "source": [
    "import import_hack\n",
    "import core.steps\n",
    "import core.data_store\n",
    "from core.data_store.sqlite_table_datastore import SQLiteTableDataStore\n",
    "from core.data_store.sqlite_table_one_to_many_datastore import SQLiteTableOneToManyDataStore\n",
    "from core.data_store.file_system_directory_datastore import FileSystemDirectoryDataStore\n",
    "from core.data_store.numpy_datastore import NumpyDataStore\n",
    "from core.data_store.stream_ndarray_adapter_datastore import StreamNdarrayAdapterDataStore\n",
    "from core.quantization.pq_quantizer import PQQuantizer, restore_from_clusters\n",
    "from core.transformer import transformers as trs\n",
    "from core.search.exhaustive_searcher import ExhaustiveSearcher\n",
    "from core.search.inverted_multi_index_searcher import InvertedMultiIndexSearcher\n",
    "from core.common.ds_utils import print_ds_items_info\n",
    "from core.evaluation.retrieval_perfomance import PrecisionRecallAveragePrecisionEvaluator\n",
    "from core.evaluation.ground_truth import BrodatzGroundTruth\n",
    "import numpy as np\n",
    "%load_ext autoreload\n",
    "%autoreload 2"
   ]
  },
  {
   "cell_type": "markdown",
   "metadata": {},
   "source": [
    "# Compute descriptors(siftsets)"
   ]
  },
  {
   "cell_type": "code",
   "execution_count": 3,
   "metadata": {
    "collapsed": true
   },
   "outputs": [],
   "source": [
    "img_dir_path = r'C:\\data\\images\\brodatz\\data.brodatz\\size_213x213'\n",
    "siftsets_path='ds_data\\siftid_sift_imgid'\n",
    "siftsets_table_name='siftid_sift_imgid'"
   ]
  },
  {
   "cell_type": "markdown",
   "metadata": {},
   "source": [
    "We can interpret table as One-to-One(id, itemid) or as One-to-Many(id, itemid, foreignid).\n",
    "If we want to use it like One-to-One, use SQLiteTableDataStore. Here item = one sift.\n",
    "If we want to use it like One-to-Many, use SQLiteTableOneToManyDataStore. In this case items would be grouped by foreignid and aggregated into ndarray. Here item = ndarray of sifts, e.g. ndarray with shape (*number of sifts in image*, 128)"
   ]
  },
  {
   "cell_type": "code",
   "execution_count": 4,
   "metadata": {
    "collapsed": false
   },
   "outputs": [
    {
     "name": "stdout",
     "output_type": "stream",
     "text": [
      "images count in 'C:\\data\\images\\brodatz\\data.brodatz\\size_213x213':  999\n"
     ]
    }
   ],
   "source": [
    "images_ds = FileSystemDirectoryDataStore(dir_path=img_dir_path)\n",
    "siftsets_ds = SQLiteTableOneToManyDataStore(siftsets_path, siftsets_table_name)\n",
    "print(\"images count in '{0}': \".format(img_dir_path), images_ds.get_count())"
   ]
  },
  {
   "cell_type": "markdown",
   "metadata": {},
   "source": [
    "* get items from **images_ds**\n",
    "* apply sequence of transformations for each item: bytes->ndarray->opencvMatrix->siftSet\n",
    "* write result in **siftsets_ds**"
   ]
  },
  {
   "cell_type": "code",
   "execution_count": 15,
   "metadata": {
    "collapsed": true
   },
   "outputs": [],
   "source": [
    "transformers_=[trs.BytesToNdarray(), trs.NdarrayToOpencvMatrix(), trs.OpencvMatrixToSiftsSet()]\n",
    "steps.transform_step(images_ds, transformers_, siftsets_ds)"
   ]
  },
  {
   "cell_type": "code",
   "execution_count": 5,
   "metadata": {
    "collapsed": false
   },
   "outputs": [
    {
     "name": "stdout",
     "output_type": "stream",
     "text": [
      "count of items in ds:  999\n",
      "shape of item[0]:  (379, 128)\n",
      "shape of item[1]:  (407, 128)\n",
      "shape of item[2]:  (395, 128)\n"
     ]
    }
   ],
   "source": [
    "print_ds_items_info(siftsets_ds)"
   ]
  },
  {
   "cell_type": "markdown",
   "metadata": {
    "collapsed": false
   },
   "source": [
    "# Compute sample"
   ]
  },
  {
   "cell_type": "markdown",
   "metadata": {},
   "source": [
    "To build bag-of-visual-words we need visual words -> we need clusters -> we need to quantize sifts.\n",
    "\n",
    "We will quantize not all descriptors but sample from them"
   ]
  },
  {
   "cell_type": "code",
   "execution_count": 6,
   "metadata": {
    "collapsed": true
   },
   "outputs": [],
   "source": [
    "sifts_ds = SQLiteTableDataStore(siftsets_path, siftsets_table_name)"
   ]
  },
  {
   "cell_type": "markdown",
   "metadata": {},
   "source": [
    "Here we treat table as One-to-One, so only (id,item) are sampled, foreignid is not considered."
   ]
  },
  {
   "cell_type": "code",
   "execution_count": 7,
   "metadata": {
    "collapsed": false
   },
   "outputs": [
    {
     "name": "stdout",
     "output_type": "stream",
     "text": [
      "count of items in ds:  826845\n",
      "shape of item[0]:  (128,)\n",
      "shape of item[1]:  (128,)\n",
      "shape of item[2]:  (128,)\n"
     ]
    }
   ],
   "source": [
    "print_ds_items_info(sifts_ds)"
   ]
  },
  {
   "cell_type": "code",
   "execution_count": 8,
   "metadata": {
    "collapsed": true
   },
   "outputs": [],
   "source": [
    "sample_part=0.5\n",
    "sample_path='ds_data\\siftid_sift_sample{0}'.format(sample_part)\n",
    "sample_table_name='siftid_sift'"
   ]
  },
  {
   "cell_type": "code",
   "execution_count": 9,
   "metadata": {
    "collapsed": true
   },
   "outputs": [],
   "source": [
    "sample_ds = SQLiteTableDataStore(sample_path, sample_table_name)"
   ]
  },
  {
   "cell_type": "code",
   "execution_count": 9,
   "metadata": {
    "collapsed": true
   },
   "outputs": [],
   "source": [
    "steps.sampling_step(sifts_ds, sample_part, sample_ds)"
   ]
  },
  {
   "cell_type": "code",
   "execution_count": 10,
   "metadata": {
    "collapsed": false
   },
   "outputs": [
    {
     "name": "stdout",
     "output_type": "stream",
     "text": [
      "count of items in ds:  413422\n",
      "shape of item[0]:  (128,)\n",
      "shape of item[1]:  (128,)\n",
      "shape of item[2]:  (128,)\n"
     ]
    }
   ],
   "source": [
    "print_ds_items_info(sample_ds)"
   ]
  },
  {
   "cell_type": "markdown",
   "metadata": {},
   "source": [
    "# Quantize local descriptors"
   ]
  },
  {
   "cell_type": "code",
   "execution_count": 11,
   "metadata": {
    "collapsed": true
   },
   "outputs": [],
   "source": [
    "n_clusters=300\n",
    "sift_clusters_path='ds_data\\siftid_sift_sample{0}-clusters{1}'.format(sample_part, n_clusters)\n",
    "sift_clusters_table_name='clusterid_cluster'\n",
    "sift_clusters_ds = SQLiteTableDataStore(sift_clusters_path, sift_clusters_table_name)\n",
    "quantizer = PQQuantizer(n_clusters=n_clusters, n_quantizers=2)"
   ]
  },
  {
   "cell_type": "code",
   "execution_count": 25,
   "metadata": {
    "collapsed": true
   },
   "outputs": [],
   "source": [
    "steps.quantize_step(sample_ds, quantizer, sift_clusters_ds)"
   ]
  },
  {
   "cell_type": "code",
   "execution_count": 12,
   "metadata": {
    "collapsed": false
   },
   "outputs": [
    {
     "name": "stdout",
     "output_type": "stream",
     "text": [
      "count of items in ds:  2\n",
      "shape of item[0]:  (300, 64)\n",
      "shape of item[1]:  (300, 64)\n"
     ]
    }
   ],
   "source": [
    "print_ds_items_info(sift_clusters_ds)"
   ]
  },
  {
   "cell_type": "markdown",
   "metadata": {},
   "source": [
    "# Compute bows(sifts clusters bincounts)"
   ]
  },
  {
   "cell_type": "markdown",
   "metadata": {},
   "source": [
    "restore pq_quantizer from cluster centers"
   ]
  },
  {
   "cell_type": "code",
   "execution_count": 13,
   "metadata": {
    "collapsed": false
   },
   "outputs": [],
   "source": [
    "ds_clusters_ndarray_adapter = StreamNdarrayAdapterDataStore(sift_clusters_ds, detect_final_shape_by_first_elem=True)\n",
    "clusters = ds_clusters_ndarray_adapter.get_items_sorted_by_ids()\n",
    "pq_quantizer = restore_from_clusters(clusters)"
   ]
  },
  {
   "cell_type": "code",
   "execution_count": 14,
   "metadata": {
    "collapsed": true
   },
   "outputs": [],
   "source": [
    "siftbincount_path='ds_data\\imgid_siftbincount'\n",
    "siftbincount_table_name='imgid_siftbincount'"
   ]
  },
  {
   "cell_type": "code",
   "execution_count": 15,
   "metadata": {
    "collapsed": true
   },
   "outputs": [],
   "source": [
    "siftbincount_ds=SQLiteTableDataStore(siftbincount_path, siftbincount_table_name)"
   ]
  },
  {
   "cell_type": "code",
   "execution_count": 110,
   "metadata": {
    "collapsed": false
   },
   "outputs": [],
   "source": [
    "transformers=[trs.ArraysToBinCount(pq_quantizer)]\n",
    "steps.transform_step(siftsets_ds, transformers, siftbincount_ds)"
   ]
  },
  {
   "cell_type": "code",
   "execution_count": 16,
   "metadata": {
    "collapsed": false
   },
   "outputs": [
    {
     "name": "stdout",
     "output_type": "stream",
     "text": [
      "count of items in ds:  999\n",
      "shape of item[0]:  (900,)\n",
      "shape of item[1]:  (900,)\n",
      "shape of item[2]:  (900,)\n",
      "count of items in ds:  999\n",
      "item[0]:  [  0   0   0   0   0   0   1   0   1   0   0   0   0   0   0   0   0   0\n",
      "   0   1   1   0   0   0   0   0   0   0   0   0   0   0   0   0   0   0\n",
      "   0   0   0   0   2   0   0   0   0   0   0   0   1   0   0   1   0   0\n",
      "   0   0   0   0   0   0   0   0   0   0   0   0   0   0   0   0   0   0\n",
      "   0   0   0   0   0   0   0   0   0   0   0   0   0   0   0   0   0   0\n",
      "   0   0   0   0   0   3   0   0   0   0   0   0   0   0   0   0   0   0\n",
      "   2   0   0   1   0   0   0   0   0   0   1   1   0   0   0   0   0   0\n",
      "   0   0   0   0   0   0   0   0   0   0   0   0   0   0   0   0   1   0\n",
      "   0   0   0   0   0   0   0   0   0   0   0   0   0   0   0   0   0   0\n",
      "   0   0   0   0   0   0   0   0   0   0   0   0   0   0   0   0   0   0\n",
      "   0   0   0   0   0   0   1   0   0   0   0   0   0   0   0   0   0   0\n",
      "   0   0   1   0   0   0   0   0   0   0   0   0  20   0   0   0   0   0\n",
      "   0   0   1   0   0   0   0   0   2   0   1   0   1   0   9   0   0   1\n",
      "   0   0   0   0   1   0   0   0   1   0   0   2   0   0   0   0   0   0\n",
      "   1   0   0   0   0   0   0   0   0   0   0   0   0   0   0   0   0   0\n",
      "   0   0   0   0   0   0   0   0   0   0   0   0   0   0   0   0   0   0\n",
      "   0   2   0   0   0   0   0   0   0   0   0   0   0   0   0   1   0   0\n",
      "   0   0   0   0   0   0   0   0   0   0   2   0   3   0   0   1   0   0\n",
      "   0   1   0   0   2   2   0   0   0   0   0   3   0   0   0   0   0   0\n",
      "   0   0   0   0   0   0   0   0   0   0   0   1   0   0   0   0   0   0\n",
      "   0   0   0   0   0   0   0   0   0   0   0   0   0   0   0   0   0   0\n",
      "   0   0   0   0   0   0   0   0   0   0   0   0   0   0   0   0   0   7\n",
      "   0   0   0   0   0   0   0   0   0   0   0   0   1   0   0   0   0   1\n",
      "   0   0   0   0   0   0   0   0   0   0   0   0   0   0   0   0   0   0\n",
      "   1   0   0   0   0   0   0   0   0   0   1   0   0   1   0   0   1   0\n",
      "  19   0   0   0   0   0   0   1   0   0   0   0   0   0   0   0   1   0\n",
      "   0   5   0   0   0   0   1   0   0   0   0   0   0   1   0   0   0   0\n",
      "   0   0   1   0   0   0   0   0   0   0   0   0   0  10   0   0   0   0\n",
      "   0   0   0   0   0   0   1   0   0   0   0   0   6   0   0   0   0   0\n",
      "   0   1   0   0   0   0   0   0   0   0   0   0   0   0   0   0   0   0\n",
      "   0   0   0   0   0   0   0   0   0   0   0   0   0   0   0   0   0   0\n",
      "   0   0   0   0   0   0   0   0   0   0   0   0   0   0   0   0   0   0\n",
      "   0   0   0   0   0   0   1   0   0   0   0   0   0   0   0   0   2   0\n",
      "   0   0   0   0   2   0   0   0   0   0   0  16   0   0   0   0   0   0\n",
      "   0   0   0   0   1   0   0   0   0   0   0   0   1   0   0   0   1   0\n",
      "   0   0   0   0   0   0   0   0   0   0   0   0   0   0   0   0   4   0\n",
      "   0   0   0   0   1   0   0   0   0   0   5   7   0  10   0   0   0   1\n",
      "   0   1   4   0   0   0   0   0   0   0   0   0   0  24   2   0   0   0\n",
      "   0   0   0   1   0   0   0   1   0   0   0   0   0   0   0   0   0   0\n",
      "   0   0   1   0   0   0   0   9   0   0   0   0   0   0   0   0   0   0\n",
      "   0   0   0   0   0   0   0   0   0   0   1   0   1   0   0   0   0   0\n",
      "   0   0   0   2   1   0   0   0   0   0   1   0   0   0   0   0   0   0\n",
      "   0   0   0   0   0   0   0   0   0   0   0   0   0   0   0   0   0   0\n",
      "   0   0   0   0   0   0   0   0   0   0   0   0   0   0   0   0   0   0\n",
      "   0   0   0   0   0   0   0   0   2   0   0   0   3   0   0   0   0   0\n",
      "   3   1   0   0   0   0   0   0   0   0   0   0   0   0   0   0   0   0\n",
      "   0   0   1   0   0   0   0   0   0   0   0   0   0   0   0   0   0 118\n",
      "   0   0   0   0   0   0   0   0   0   0   0   0   2   0   0   0   2   0\n",
      "   0   5   0   0   2   1   0   0   0   0   0   0   0   0   0   0   0   0\n",
      "   0   0   0   0   0   0   0   0   0   0   0   0   1   0   0   0   0   0]\n",
      "item[1]:  [ 0  1  0  0  0  0  1  0  0  0  0  0  0  0  0  0  0  0  0  1  0  0  0  0  0\n",
      "  0  0  0  0  0  0  0  0  0  0  0  0  0  0  0  0  0  0  0  0  0  0  0  0  0\n",
      "  0  0  0  0  0  0  0  0  2  0  0  0  0  0  0  0  0  0  0  0  0  0  0  0  0\n",
      "  0  0  1  0  0  0  0  0  0  0  0  0  0  0  0  0  0  0  0  0  2  0  0  0  0\n",
      "  0  0  0  0  0  0  0  0  0  0  0  0  0  1  0  0  0  0  2  0  0  0  0  0  0\n",
      "  0  0  0  0  0  0  0  0  0  0  0  0  0  0  0  0  1  0  0  0  0  0  0  0  0\n",
      "  0  0  0  0  0  0  0  0  0  0  0  0  0  0  0  0  0  0  0  0  0  0  0  0  0\n",
      "  0  0  0  0  0  0  0  0  0  0  0  1  0  0  0  0  0  0  0  0  0  0  0  0  0\n",
      "  1  0  0  0  0  0  0  0  0  0 36  0  0  0  0  0  1  0  0  0  0  0  1  4  0\n",
      "  0  1  0  2  0 11  0  0  0  2  0  0  0  0  0  0  0  1  0  0  3  0  0  0  0\n",
      "  0  0 11  0  0  0  0  0  0  0  0  0  0  0  0  0  0  0  0  1  0  0  0  0  0\n",
      "  0  0  0  0  0  0  0  0  0  0  0  0  0  0  4  0  0  0  0  0  0  0  0  0  0\n",
      "  0  0  0  0  0  0  0  0  0  0  0  0  0  0  0  0  0  0  0  0  0  1  0  0  0\n",
      "  0  0  0  1  2  0  0  0  0  0  3  0  0  0  0  0  0  1  0  0  0  0  0  0  0\n",
      "  0  1  0  2  0  0  0  0  0  2  0  0  0  0  0  0  0  0  0  0  0  0  0  0  0\n",
      "  0  0  0  0  0  0  0  0  0  0  0  0  0  0  0  0  0  0  0  0  2  0  0  0  0\n",
      "  0  0  0  0  0  0  0  0  0  0  1  1  1  0  0  0  0  0  0  0  0  0  0  0  0\n",
      "  0  0  0  0  0  0  0  3  0  0  0  0  0  0  0  0  0  0  0  0  1  0  0  0  0\n",
      " 23  0  0  0  0  0  0  0  0  0  0  0  0  1  5  0  0  0  0  3  0  0  0  0  1\n",
      "  0  0  0  0  0  1  0  0  0  0  0  0  0  0  0  0  1  0  0  0  0  0  0  0 12\n",
      "  0  0  0  0  2  0  0  0  0  0  2  0  0  0  0  0  5  0  0  0  0  0  0  0  0\n",
      "  0  0  1  0  0  4  0  0  0  2  0  0  0  0  1  0  0  0  0  0  0  0  0  0  0\n",
      "  0  0  0  0  0  0  0  0  0  0  0  0  0  0  0  0  0  0  0  0  0  0  0  0  0\n",
      "  0  0  0  0  0  0  0  4  0  0  0  0  0  0  0  0  0  0  0  0  0  0  0  0  0\n",
      "  0  0  0  0  0  9  0  0  1  0  1  0  0  0  0  0  0  0  0  0  0  0  0  0  0\n",
      "  1  0  0  3  0  0  0  0  0  0  0  0  0  0  0  0  0  0  0  0  0  0  0  1  0\n",
      "  0  0  0  0  0  0  0  0  6 10  0 14  0  0  0  0  0  1  6  0  0  0  0  0  0\n",
      "  0  0  0  0 36  0  0  0  0  0  0  0  0  0  0  1  0  0  0  1  0  0  0  0  0\n",
      "  0  0  0  0  1  0  0  0  0  9  0  0  0  0  0  0  0  0  0  0  0  0  0  0  0\n",
      "  0  0  0  0  0  0  0  0  0  0  0  2  0  0  0  0  0  1  0  0  0  0  0  0  1\n",
      "  0  0  0  0  0  0  0  0  0  0  0  0  0  0  0  0  0  0  0  0  0  0  0  0  0\n",
      "  0  0  0  0  0  0  0  0  0  0  0  0  0  2  0  0  0  0  0  0  0  0  1  0  0\n",
      "  1  0  0  0  7  0  0  0  0  0  1  0  0  0  0  0  0  0  0  0  0  0  0  1  2\n",
      "  0  0  0  0  0  1  0  0  0  0  0  0  0  0  0  0  0  0  0  0 78  0  0  1  0\n",
      "  0  0  2  0  0  0  0  0  3  0  0  0  0  0  0  9  0  0  3  5  0  0  0  0  0\n",
      "  0  0  0  0  0  0  0  0  0  0  0  0  0  0  0  0  0  0  0  3  0  0  0  0  0]\n",
      "item[2]:  [ 0  1  0  0  0  0  1  0  0  0  0  0  0  0  0  0  0  0  0  1  0  0  0  0  0\n",
      "  0  0  0  0  0  0  0  0  0  0  0  0  0  0  0  0  0  0  0  0  0  0  0  0  0\n",
      "  0  0  0  0  0  0  0  0  0  0  0  0  0  0  0  0  0  0  0  0  0  0  0  0  0\n",
      "  0  0  1  0  0  0  0  0  0  0  0  0  0  0  0  0  0  0  0  0  2  0  0  0  0\n",
      "  0  0  0  0  0  0  0  0  0  0  0  0  0  2  0  0  0  0  3  2  0  0  0  0  0\n",
      "  0  0  0  0  0  0  0  0  0  0  0  0  0  0  0  0  0  0  0  0  0  0  0  0  0\n",
      "  0  0  0  0  0  0  0  0  0  0  0  0  0  0  0  0  0  0  0  0  0  0  0  0  0\n",
      "  0  0  0  0  0  2  0  0  0  0  0  2  1  0  0  0  0  0  0  1  0  0  2  0  0\n",
      "  1  0  0  0  0  0  0  0  0  0 38  1  0  0  0  0  1  0  3  0  0  0  0  3  4\n",
      "  0  0  1  0  0 13  0  0  2  2  0  0  0  0  0  0  0  0  0  0  1  0  0  0  0\n",
      "  0  0  6  0  0  0  0  0  0  0  0  0  0  0  0  0  0  0  0  0  0  0  0  0  0\n",
      "  0  0  0  0  0  0  0  0  0  0  0  0  0  0  5  0  0  0  0  0  0  0  0  0  0\n",
      "  0  0  0  0  0  0  0  0  0  0  0  0  0  0  0  0  0  0  2  0  0  1  0  2  0\n",
      "  0  0  0  1  4  0  0  0  0  0  3  0  0  0  0  0  0  0  0  0  0  0  0  0  0\n",
      "  0  0  0  0  0  0  0  0  0  0  0  0  0  0  0  0  0  0  0  0  0  0  0  0  0\n",
      "  0  0  0  0  0  0  0  0  0  0  0  0  0  0  0  0  0  0  0  0  2  0  0  0  0\n",
      "  0  0  0  0  0  0  0  0  1  0  0  0  0  0  0  0  0  0  0  0  0  0  0  0  0\n",
      "  0  0  0  0  0  0  0  7  0  0  0  0  0  0  0  0  0  0  0  0  0  0  0  0  0\n",
      " 16  0  0  0  0  0  0  0  0  0  0  0  0  5  2  0  0  1  0  0  0  0  1  0  0\n",
      "  0  0  0  0  0  0  0  0  0  0  0  0  0  0  0  0  0  0  0  0  0  0  0  0 15\n",
      "  0  0  0  0  0  0  0  0  0  0  2  0  0  0  0  0  6  0  0  0  0  0  0  0  0\n",
      "  0  0  1  0  0  1  0  0  0  2  0  0  0  0  0  0  0  0  0  0  0  0  0  0  0\n",
      "  0  0  0  0  0  0  0  0  0  0  0  0  0  0  0  0  0  0  0  0  1  0  0  0  0\n",
      "  0  0  0  0  0  0  0  2  0  0  0  0  0  0  0  0  1  0  0  0  0  0  0  0  0\n",
      "  0  0  0  0  0 16  0  0  0  0  0  0  2  0  0  0  0  0  0  0  0  0  0  0  0\n",
      "  0  0  0  1  1  0  0  0  0  0  0  0  0  0  0  0  0  0  0  0  0  2  0  0  0\n",
      "  0  0  1  1  0  0  0  0  4 11  0  7  0  0  0  0  0  1  6  0  0  0  0  0  0\n",
      "  0  0  0  0 37  1  0  0  0  1  0  0  0  0  0  1  0  0  0  1  1  0  0  0  0\n",
      "  1  0  0  0  0  0  0  0  0  9  0  0  0  0  0  0  0  0  0  0  0  0  0  0  0\n",
      "  0  0  0  0  0  0  0  1  0  0  0  0  0  1  0  0  0  0  0  0  0  0  0  0  1\n",
      "  0  0  0  0  0  0  0  0  0  0  0  0  0  0  0  0  0  0  0  0  0  0  0  0  0\n",
      "  0  0  0  0  0  0  0  0  0  0  0  0  0  0  0  0  0  0  0  0  0  1  0  0  0\n",
      "  2  0  0  0  8  0  0  0  0  0  1  0  0  0  0  0  0  0  0  0  0  0  0  0  0\n",
      "  0  0  0  0  0  0  0  0  0  0  0  0  0  0  0  0  0  1  0  0 68  0  0  0  0\n",
      "  0  0  1  0  0  0  0  0  1  0  0  0  0  0  0  9  0  0  4  7  0  0  0  0  0\n",
      "  0  0  0  1  0  0  0  0  1  0  0  0  1  0  0  0  0  0  0  0  0  0  0  0  0]\n"
     ]
    }
   ],
   "source": [
    "print_ds_items_info(siftbincount_ds)\n",
    "print_ds_items_info(siftbincount_ds, print_shape=False)"
   ]
  },
  {
   "cell_type": "code",
   "execution_count": 17,
   "metadata": {
    "collapsed": false
   },
   "outputs": [
    {
     "name": "stdout",
     "output_type": "stream",
     "text": [
      "92\n",
      "(array([  6,   8,  19,  20,  40,  48,  51,  95, 108, 111, 118, 119, 142,\n",
      "       186, 200, 210, 218, 224, 226, 228, 230, 233, 238, 242, 245, 252,\n",
      "       289, 303, 316, 318, 321, 325, 328, 329, 335, 353, 395, 408, 413,\n",
      "       432, 442, 445, 448, 450, 457, 466, 469, 474, 481, 488, 499, 510,\n",
      "       516, 523, 582, 592, 598, 605, 616, 624, 628, 646, 652, 658, 659,\n",
      "       661, 665, 667, 668, 679, 680, 687, 691, 704, 709, 730, 732, 741,\n",
      "       742, 748, 800, 804, 810, 811, 830, 845, 858, 862, 865, 868, 869, 894], dtype=int64),)\n",
      "[  1   1   1   1   2   1   1   3   2   1   1   1   1   1   1  20   1   2\n",
      "   1   1   9   1   1   1   2   1   2   1   2   3   1   1   2   2   3   1\n",
      "   7   1   1   1   1   1   1  19   1   1   5   1   1   1  10   1   6   1\n",
      "   1   2   2  16   1   1   1   4   1   5   7  10   1   1   4  24   2   1\n",
      "   1   1   9   1   1   2   1   1   2   3   3   1   1 118   2   2   5   2\n",
      "   1   1]\n"
     ]
    }
   ],
   "source": [
    "with siftbincount_ds:\n",
    "    sift1=next(iter(siftbincount_ds.get_items_sorted_by_ids()))\n",
    "    print(len(np.nonzero(sift1)[0]))\n",
    "    print(np.nonzero(sift1))\n",
    "    print(sift1[np.nonzero(sift1)])"
   ]
  },
  {
   "cell_type": "markdown",
   "metadata": {},
   "source": [
    "# Exhaustive search by bows"
   ]
  },
  {
   "cell_type": "code",
   "execution_count": 18,
   "metadata": {
    "collapsed": false
   },
   "outputs": [],
   "source": [
    "np_neighbor_ids_ds=NumpyDataStore()\n",
    "siftbincount_ndarray_ds = StreamNdarrayAdapterDataStore(siftbincount_ds, detect_final_shape_by_first_elem=True)"
   ]
  },
  {
   "cell_type": "code",
   "execution_count": 19,
   "metadata": {
    "collapsed": true
   },
   "outputs": [],
   "source": [
    "exs_searcher=ExhaustiveSearcher(siftbincount_ndarray_ds.get_items_sorted_by_ids(), siftbincount_ndarray_ds.get_ids_sorted())"
   ]
  },
  {
   "cell_type": "code",
   "execution_count": 34,
   "metadata": {
    "collapsed": true
   },
   "outputs": [],
   "source": [
    "n_neighbors=25\n",
    "steps.search_step(siftbincount_ds, exs_searcher, n_neighbors , np_neighbor_ids_ds)"
   ]
  },
  {
   "cell_type": "code",
   "execution_count": 35,
   "metadata": {
    "collapsed": false
   },
   "outputs": [
    {
     "name": "stdout",
     "output_type": "stream",
     "text": [
      "count of items in ds:  999\n",
      "item[0]:  [  1   8   4   2   3   5   7   6 395 855 379 378 377 391 380 385 381   9\n",
      " 382 853 390 386 848 373 416]\n",
      "item[1]:  [  2   3   5   8   6   9   1   4 395   7 855 385 379 391 377 378 381 848\n",
      " 380 853 210 387 392 371 382]\n",
      "item[2]:  [  3   2   5   6   8   9   1   4 395   7 855 385 391 379 378 377 381 853\n",
      " 848 380 387 392 854 382 371]\n",
      "item[3]:  [  4   7   8   5 855 395   1   2 385 848 378 379 391 377   3 387 853 371\n",
      " 854 381 849 847 382 380 392]\n",
      "item[4]:  [  5   3   2   8   4   6   9   1 395   7 385 391 855 379 377 378 381 387\n",
      " 380 853 382 371 848 392 850]\n",
      "item[5]:  [  6   3   9   2   5   8   1   4 395 385 391 379 378 853 377 380 381 210\n",
      " 382 387 855 371 390 386 375]\n",
      "item[6]:  [  7   4   8 855 395 371 849 387   5 848   1 385 847 378 379 391 377 853\n",
      " 380 381 382   3 372 392 850]\n",
      "item[7]:  [  8   4   5   3   7   2   1   9 855   6 395 371 849 387 848 847 385 391\n",
      " 379 377 378 853 381 854 380]\n",
      "item[8]:  [  9   6   3   2   5   8   4 395   1 387 371 385 391 855 379 853 378 381\n",
      " 377 854 848 380 382 374 210]\n",
      "item[9]:  [ 10 558 555 557 556 554  57 550 551 552 553  13 788  61 789 626 787 791\n",
      "  59  55 790  58 792 785 506]\n",
      "item[10]:  [ 11  13  18 553  16  10  14 529 555  41 552 477 554  37  38  17 630  40\n",
      "  45 240  62 798  43 523  15]\n",
      "item[11]:  [ 12  14  17  15 553 160  39  18  45  16 237 812 817 646 161 640 813 538\n",
      " 227 645 630  38  11 157  43]\n",
      "item[12]:  [ 13 555 554  10 553 550 558  59  56 790 787  63 556  16 525 552  61 791\n",
      "  62 557 531  14 526  55 529]\n",
      "item[13]:  [ 14 555  13  17  16 553  10 554 552  15 644 558 630  12 538 512 629  62\n",
      " 550  37  55 551 525 529 627]\n",
      "item[14]:  [ 15  14  18  12 237  13 160  17  37 242 240  39 236  45 477  10  16 469\n",
      " 154  11 553 475 555 647 529]\n"
     ]
    }
   ],
   "source": [
    "print_ds_items_info(np_neighbor_ids_ds, first_items_to_print=15, print_shape=False)"
   ]
  },
  {
   "cell_type": "markdown",
   "metadata": {},
   "source": [
    "# Evaluate retrieval perfomance"
   ]
  },
  {
   "cell_type": "code",
   "execution_count": 36,
   "metadata": {
    "collapsed": true
   },
   "outputs": [],
   "source": [
    "perfomance_evaluator=PrecisionRecallAveragePrecisionEvaluator(BrodatzGroundTruth())"
   ]
  },
  {
   "cell_type": "code",
   "execution_count": 37,
   "metadata": {
    "collapsed": true
   },
   "outputs": [],
   "source": [
    "retrieval_perfomance_ds=NumpyDataStore()"
   ]
  },
  {
   "cell_type": "code",
   "execution_count": 38,
   "metadata": {
    "collapsed": false
   },
   "outputs": [],
   "source": [
    "steps.evaluation_step(np_neighbor_ids_ds, perfomance_evaluator, retrieval_perfomance_ds)"
   ]
  },
  {
   "cell_type": "code",
   "execution_count": 39,
   "metadata": {
    "collapsed": false
   },
   "outputs": [
    {
     "name": "stdout",
     "output_type": "stream",
     "text": [
      "count of items in ds:  999\n",
      "item[0]:  [[  1.           2.           3.           4.           5.           6.\n",
      "    7.           8.           9.          10.          11.          12.\n",
      "   13.          14.          15.          16.          17.          18.\n",
      "   19.          20.          21.          22.          23.          24.\n",
      "   25.        ]\n",
      " [  1.           1.           1.           1.           1.           1.\n",
      "    1.           1.           0.88888889   0.8          0.72727273\n",
      "    0.66666667   0.61538462   0.57142857   0.53333333   0.5          0.47058824\n",
      "    0.5          0.47368421   0.45         0.42857143   0.40909091\n",
      "    0.39130435   0.375        0.36      ]\n",
      " [  0.1          0.2          0.3          0.4          0.5          0.6\n",
      "    0.7          0.8          0.8          0.8          0.8          0.8\n",
      "    0.8          0.8          0.8          0.8          0.8          0.9\n",
      "    0.9          0.9          0.9          0.9          0.9          0.9\n",
      "    0.9       ]\n",
      " [  0.1          0.2          0.3          0.4          0.5          0.6\n",
      "    0.7          0.8          0.8          0.8          0.8          0.8\n",
      "    0.8          0.8          0.8          0.8          0.8          0.85\n",
      "    0.85         0.85         0.85         0.85         0.85         0.85\n",
      "    0.85      ]]\n",
      "item[1]:  [[  1.           2.           3.           4.           5.           6.\n",
      "    7.           8.           9.          10.          11.          12.\n",
      "   13.          14.          15.          16.          17.          18.\n",
      "   19.          20.          21.          22.          23.          24.\n",
      "   25.        ]\n",
      " [  1.           1.           1.           1.           1.           1.\n",
      "    1.           1.           0.88888889   0.9          0.81818182   0.75\n",
      "    0.69230769   0.64285714   0.6          0.5625       0.52941176   0.5\n",
      "    0.47368421   0.45         0.42857143   0.40909091   0.39130435   0.375\n",
      "    0.36      ]\n",
      " [  0.1          0.2          0.3          0.4          0.5          0.6\n",
      "    0.7          0.8          0.8          0.9          0.9          0.9\n",
      "    0.9          0.9          0.9          0.9          0.9          0.9\n",
      "    0.9          0.9          0.9          0.9          0.9          0.9\n",
      "    0.9       ]\n",
      " [  0.1          0.2          0.3          0.4          0.5          0.6\n",
      "    0.7          0.8          0.8          0.89         0.89         0.89\n",
      "    0.89         0.89         0.89         0.89         0.89         0.89\n",
      "    0.89         0.89         0.89         0.89         0.89         0.89\n",
      "    0.89      ]]\n",
      "item[2]:  [[  1.           2.           3.           4.           5.           6.\n",
      "    7.           8.           9.          10.          11.          12.\n",
      "   13.          14.          15.          16.          17.          18.\n",
      "   19.          20.          21.          22.          23.          24.\n",
      "   25.        ]\n",
      " [  1.           1.           1.           1.           1.           1.\n",
      "    1.           1.           0.88888889   0.9          0.81818182   0.75\n",
      "    0.69230769   0.64285714   0.6          0.5625       0.52941176   0.5\n",
      "    0.47368421   0.45         0.42857143   0.40909091   0.39130435   0.375\n",
      "    0.36      ]\n",
      " [  0.1          0.2          0.3          0.4          0.5          0.6\n",
      "    0.7          0.8          0.8          0.9          0.9          0.9\n",
      "    0.9          0.9          0.9          0.9          0.9          0.9\n",
      "    0.9          0.9          0.9          0.9          0.9          0.9\n",
      "    0.9       ]\n",
      " [  0.1          0.2          0.3          0.4          0.5          0.6\n",
      "    0.7          0.8          0.8          0.89         0.89         0.89\n",
      "    0.89         0.89         0.89         0.89         0.89         0.89\n",
      "    0.89         0.89         0.89         0.89         0.89         0.89\n",
      "    0.89      ]]\n"
     ]
    }
   ],
   "source": [
    "print_ds_items_info(retrieval_perfomance_ds, first_items_to_print=3, print_shape=False)"
   ]
  },
  {
   "cell_type": "markdown",
   "metadata": {},
   "source": [
    "# Evaluate average retrieval perfomance"
   ]
  },
  {
   "cell_type": "code",
   "execution_count": 31,
   "metadata": {
    "collapsed": true
   },
   "outputs": [],
   "source": [
    "average_retrieval_perfomance_ds=NumpyDataStore()"
   ]
  },
  {
   "cell_type": "code",
   "execution_count": 53,
   "metadata": {
    "collapsed": false
   },
   "outputs": [],
   "source": [
    "steps.averaging_step(retrieval_perfomance_ds, average_retrieval_perfomance_ds)"
   ]
  },
  {
   "cell_type": "code",
   "execution_count": 81,
   "metadata": {
    "collapsed": false
   },
   "outputs": [
    {
     "name": "stdout",
     "output_type": "stream",
     "text": [
      "count of items in ds:  1\n",
      "shape of item[0]:  (4, 25)\n",
      "count of items in ds:  1\n",
      "item[0]:  [[  1.           2.           3.           4.           5.           6.\n",
      "    7.           8.           9.          10.          11.          12.\n",
      "   13.          14.          15.          16.          17.          18.\n",
      "   19.          20.          21.          22.          23.          24.\n",
      "   25.        ]\n",
      " [  0.998999     0.9004004    0.84918252   0.80980981   0.77777778\n",
      "    0.75041708   0.72186472   0.69732232   0.66722278   0.61671672\n",
      "    0.57257257   0.53495162   0.5016555    0.47211497   0.44704705\n",
      "    0.42505005   0.40428664   0.38638639   0.36979084   0.3548048\n",
      "    0.34086467   0.32787333   0.31583758   0.30501335   0.29449449]\n",
      " [  0.0998999    0.18008008   0.25475475   0.32392392   0.38888889\n",
      "    0.45025025   0.50530531   0.55785786   0.6005005    0.61671672\n",
      "    0.62982983   0.64194194   0.65215215   0.66096096   0.67057057\n",
      "    0.68008008   0.68728729   0.6954955    0.7026026    0.70960961\n",
      "    0.71581582   0.72132132   0.72642643   0.73203203   0.73623624]\n",
      " [  0.0998999    0.18003003   0.2531031    0.31934434   0.38066567\n",
      "    0.43772272   0.48860217   0.53584942   0.57369838   0.58438907\n",
      "    0.59232428   0.5992145    0.60419641   0.60833626   0.61240033\n",
      "    0.61616659   0.61879864   0.62166817   0.62394413   0.62593612\n",
      "    0.62769503   0.62927843   0.630719     0.63214125   0.6332904 ]]\n"
     ]
    }
   ],
   "source": [
    "print_ds_items_info(average_retrieval_perfomance_ds)\n",
    "print_ds_items_info(average_retrieval_perfomance_ds, first_items_to_print=3, print_shape=False)"
   ]
  },
  {
   "cell_type": "code",
   "execution_count": 118,
   "metadata": {
    "collapsed": false
   },
   "outputs": [
    {
     "name": "stdout",
     "output_type": "stream",
     "text": [
      "count of items in ds:  1\n",
      "item[0]:  [  1.   2.   3.   4.   5.   6.   7.   8.   9.  10.  11.  12.  13.  14.  15.\n",
      "  16.  17.  18.  19.  20.  21.  22.  23.  24.  25.]\n"
     ]
    }
   ],
   "source": [
    "x_ds=StreamNdarrayAdapterDataStore(average_retrieval_perfomance_ds, slice_get=(slice(None),0))\n",
    "precision_ds=StreamNdarrayAdapterDataStore(average_retrieval_perfomance_ds, slice_get=(slice(None),1))\n",
    "recall_ds=StreamNdarrayAdapterDataStore(average_retrieval_perfomance_ds, slice_get=(slice(None),2))\n",
    "print_ds_items_info(x_ds, print_shape=False)"
   ]
  },
  {
   "cell_type": "code",
   "execution_count": 120,
   "metadata": {
    "collapsed": false
   },
   "outputs": [
    {
     "name": "stdout",
     "output_type": "stream",
     "text": [
      "[  1.   2.   3.   4.   5.   6.   7.   8.   9.  10.  11.  12.  13.  14.  15.\n",
      "  16.  17.  18.  19.  20.  21.  22.  23.  24.  25.]\n",
      "[ 0.998999    0.9004004   0.84918252  0.80980981  0.77777778  0.75041708\n",
      "  0.72186472  0.69732232  0.66722278  0.61671672  0.57257257  0.53495162\n",
      "  0.5016555   0.47211497  0.44704705  0.42505005  0.40428664  0.38638639\n",
      "  0.36979084  0.3548048   0.34086467  0.32787333  0.31583758  0.30501335\n",
      "  0.29449449]\n",
      "[ 0.0998999   0.18008008  0.25475475  0.32392392  0.38888889  0.45025025\n",
      "  0.50530531  0.55785786  0.6005005   0.61671672  0.62982983  0.64194194\n",
      "  0.65215215  0.66096096  0.67057057  0.68008008  0.68728729  0.6954955\n",
      "  0.7026026   0.70960961  0.71581582  0.72132132  0.72642643  0.73203203\n",
      "  0.73623624]\n"
     ]
    }
   ],
   "source": [
    "import matplotlib.pyplot as plt\n",
    "steps.plotting_step(x_ds, plt, [precision_ds, recall_ds])\n",
    "plt.show()"
   ]
  },
  {
   "cell_type": "markdown",
   "metadata": {
    "collapsed": true
   },
   "source": [
    "# Approximate search with inverted multi-index"
   ]
  },
  {
   "cell_type": "markdown",
   "metadata": {},
   "source": [
    "### Quantize global descriptors"
   ]
  },
  {
   "cell_type": "code",
   "execution_count": 156,
   "metadata": {
    "collapsed": true
   },
   "outputs": [],
   "source": [
    "productsiftbincountclusters_path='ds_data\\imgid_productsiftbincount_clusters'\n",
    "productsiftbincountclusters_table_name='clusterid_cluster'"
   ]
  },
  {
   "cell_type": "code",
   "execution_count": 157,
   "metadata": {
    "collapsed": false
   },
   "outputs": [],
   "source": [
    "productsiftbincountclusters_ds=SQLiteTableDataStore(productsiftbincountclusters_path, productsiftbincountclusters_table_name)"
   ]
  },
  {
   "cell_type": "code",
   "execution_count": 158,
   "metadata": {
    "collapsed": false
   },
   "outputs": [],
   "source": [
    "quantizer = PQQuantizer(n_clusters=256, n_quantizers=2)"
   ]
  },
  {
   "cell_type": "code",
   "execution_count": 159,
   "metadata": {
    "collapsed": false
   },
   "outputs": [],
   "source": [
    "steps.quantize_step(productsiftbincount_ds, quantizer, productsiftbincountclusters_ds)"
   ]
  },
  {
   "cell_type": "code",
   "execution_count": 160,
   "metadata": {
    "collapsed": false
   },
   "outputs": [
    {
     "name": "stdout",
     "output_type": "stream",
     "text": [
      "count of items in ds:  2\n",
      "shape of item[0]:  (256, 1500)\n",
      "shape of item[1]:  (256, 1500)\n"
     ]
    }
   ],
   "source": [
    "print_ds_items_info(productsiftbincountclusters_ds)"
   ]
  },
  {
   "cell_type": "markdown",
   "metadata": {},
   "source": [
    "### Build inverted multi-index"
   ]
  },
  {
   "cell_type": "code",
   "execution_count": 161,
   "metadata": {
    "collapsed": false
   },
   "outputs": [
    {
     "name": "stdout",
     "output_type": "stream",
     "text": [
      "cluster_centers:  (2, 256, 1500)\n"
     ]
    }
   ],
   "source": [
    "productsiftbincountclusters_ndarray_ds=StreamNdarrayAdapterDataStore(productsiftbincountclusters_ds, detect_final_shape_by_first_elem=True)\n",
    "cluster_centers=productsiftbincountclusters_ndarray_ds.get_items_sorted_by_ids()\n",
    "print(\"cluster_centers: \", cluster_centers.shape)"
   ]
  },
  {
   "cell_type": "code",
   "execution_count": 162,
   "metadata": {
    "collapsed": false
   },
   "outputs": [
    {
     "name": "stdout",
     "output_type": "stream",
     "text": [
      "X:  (999, 3000)\n",
      "X_ids:  (999,)\n"
     ]
    }
   ],
   "source": [
    "productsiftbincount_ndarray_ds = StreamNdarrayAdapterDataStore(productsiftbincount_ds, detect_final_shape_by_first_elem=True)\n",
    "X = productsiftbincount_ndarray_ds.get_items_sorted_by_ids()\n",
    "X_ids=productsiftbincount_ndarray_ds.get_ids_sorted()\n",
    "print(\"X: \", X.shape)\n",
    "print(\"X_ids: \", X_ids.shape)"
   ]
  },
  {
   "cell_type": "code",
   "execution_count": null,
   "metadata": {
    "collapsed": true
   },
   "outputs": [],
   "source": [
    "imi_searcher=InvertedMultiIndexSearcher(X, X_ids, cluster_centers)"
   ]
  },
  {
   "cell_type": "markdown",
   "metadata": {},
   "source": [
    "### Search approximate neighbors for all bovws(productsiftbincount_ds)"
   ]
  },
  {
   "cell_type": "code",
   "execution_count": null,
   "metadata": {
    "collapsed": false
   },
   "outputs": [],
   "source": [
    "approximateneighborsids_ds=NumpyDataStore()\n",
    "steps.search_step(productsiftbincount_ds, imi_searcher, 16 , approximateneighborsids_ds)"
   ]
  },
  {
   "cell_type": "code",
   "execution_count": null,
   "metadata": {
    "collapsed": false
   },
   "outputs": [],
   "source": [
    "print_ds_items_info(approximateneighborsids_ds, print_shape=False, first_items_to_print=50)"
   ]
  },
  {
   "cell_type": "code",
   "execution_count": null,
   "metadata": {
    "collapsed": true
   },
   "outputs": [],
   "source": []
  },
  {
   "cell_type": "code",
   "execution_count": null,
   "metadata": {
    "collapsed": true
   },
   "outputs": [],
   "source": []
  }
 ],
 "metadata": {
  "kernelspec": {
   "display_name": "Python 3",
   "language": "python",
   "name": "python3"
  },
  "language_info": {
   "codemirror_mode": {
    "name": "ipython",
    "version": 3
   },
   "file_extension": ".py",
   "mimetype": "text/x-python",
   "name": "python",
   "nbconvert_exporter": "python",
   "pygments_lexer": "ipython3",
   "version": "3.5.2"
  }
 },
 "nbformat": 4,
 "nbformat_minor": 0
}
