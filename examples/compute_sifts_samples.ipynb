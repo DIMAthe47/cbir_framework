{
 "cells": [
  {
   "cell_type": "code",
   "execution_count": 1,
   "metadata": {
    "collapsed": false
   },
   "outputs": [],
   "source": [
    "import import_hack\n",
    "import steps\n",
    "from data_store import sqlite_table_datastore as sqlds\n",
    "from data_store import sqlite_table_one_to_many_datastore as sqlotmds\n",
    "from data_store import file_system_directory_datastore as fsds\n",
    "from data_store import stream_ndarray_adapter_datastore as snads\n",
    "from transformer import transformers as trs\n",
    "%load_ext autoreload\n",
    "%autoreload 2"
   ]
  },
  {
   "cell_type": "code",
   "execution_count": 2,
   "metadata": {
    "collapsed": false
   },
   "outputs": [],
   "source": [
    "sample_part=0.1\n",
    "sqlite_db_path_in='ds_data\\example_compute_siftid_sift_imgid'\n",
    "sqlite_table_name_in='siftid_sift_imgid'\n",
    "sqlite_db_path_out='ds_data\\example_compute_siftid_sift_imgid_samples{0}'.format(sample_part)\n",
    "sqlite_table_name_out='siftid_sift'"
   ]
  },
  {
   "cell_type": "markdown",
   "metadata": {},
   "source": [
    "We can interpret table as One-to-One(id, itemid) or as One-to-Many(id, itemid, foreignid).\n",
    "If we want to us it like One-to-One, use SQLiteTableDataStore. Here item = one sift.\n",
    "If we want to us it like One-to-Many, use SQLiteTableOneToManyDataStore. In this case items would be grouped by foreignid and aggregated into ndarray. Here item = ndarray of sifts, e.g. ndarray with shape (312, 128)"
   ]
  },
  {
   "cell_type": "code",
   "execution_count": 3,
   "metadata": {
    "collapsed": true
   },
   "outputs": [],
   "source": [
    "ds_in = sqlds.SQLiteTableDataStore(sqlite_db_path_in, sqlite_table_name_in)\n",
    "ds_out = sqlds.SQLiteTableDataStore(sqlite_db_path_out, sqlite_table_name_out)"
   ]
  },
  {
   "cell_type": "code",
   "execution_count": 4,
   "metadata": {
    "collapsed": false
   },
   "outputs": [
    {
     "name": "stdout",
     "output_type": "stream",
     "text": [
      "826845\n"
     ]
    }
   ],
   "source": [
    "with ds_in:\n",
    "    total_sifts_count=ds_in.get_count()\n",
    "    print(total_sifts_count)"
   ]
  },
  {
   "cell_type": "code",
   "execution_count": 5,
   "metadata": {
    "collapsed": false
   },
   "outputs": [],
   "source": [
    "steps.sampling_step(ds_in, sample_part, ds_out)"
   ]
  },
  {
   "cell_type": "markdown",
   "metadata": {},
   "source": [
    "Here we treat table as One-to-One, so only (id,item) were sampled, foreignid was not considered."
   ]
  },
  {
   "cell_type": "code",
   "execution_count": 6,
   "metadata": {
    "collapsed": false
   },
   "outputs": [
    {
     "name": "stdout",
     "output_type": "stream",
     "text": [
      "82684\n",
      "82684.5\n"
     ]
    }
   ],
   "source": [
    "with ds_out:\n",
    "    sampled_sifts_count=ds_out.get_count()\n",
    "    print(sampled_sifts_count)\n",
    "    print(total_sifts_count*sample_part)"
   ]
  },
  {
   "cell_type": "code",
   "execution_count": 7,
   "metadata": {
    "collapsed": false
   },
   "outputs": [
    {
     "name": "stdout",
     "output_type": "stream",
     "text": [
      "(128,)\n",
      "(128,)\n",
      "(128,)\n"
     ]
    }
   ],
   "source": [
    "with ds_out:\n",
    "    items=ds_out.get_items_sorted_by_ids()\n",
    "    for i in range(3):\n",
    "        print(next(items).shape)"
   ]
  },
  {
   "cell_type": "code",
   "execution_count": 6,
   "metadata": {
    "collapsed": true
   },
   "outputs": [],
   "source": [
    "import os\n",
    "os.remove(sqlite_db_path)"
   ]
  },
  {
   "cell_type": "code",
   "execution_count": null,
   "metadata": {
    "collapsed": true
   },
   "outputs": [],
   "source": []
  }
 ],
 "metadata": {
  "kernelspec": {
   "display_name": "Python 3",
   "language": "python",
   "name": "python3"
  },
  "language_info": {
   "codemirror_mode": {
    "name": "ipython",
    "version": 3
   },
   "file_extension": ".py",
   "mimetype": "text/x-python",
   "name": "python",
   "nbconvert_exporter": "python",
   "pygments_lexer": "ipython3",
   "version": "3.5.2"
  }
 },
 "nbformat": 4,
 "nbformat_minor": 0
}
