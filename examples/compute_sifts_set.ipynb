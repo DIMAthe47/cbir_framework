{
 "cells": [
  {
   "cell_type": "code",
   "execution_count": 22,
   "metadata": {
    "collapsed": false
   },
   "outputs": [
    {
     "name": "stdout",
     "output_type": "stream",
     "text": [
      "The autoreload extension is already loaded. To reload it, use:\n",
      "  %reload_ext autoreload\n"
     ]
    }
   ],
   "source": [
    "import import_hack\n",
    "import steps\n",
    "from data_store import sqlite_table_datastore as sqlds\n",
    "from data_store import file_system_directory_datastore as fsds\n",
    "from data_store import stream_ndarray_adapter_datastore as snads\n",
    "from transformer import transformers as trs\n",
    "%load_ext autoreload\n",
    "%autoreload 2"
   ]
  },
  {
   "cell_type": "code",
   "execution_count": 2,
   "metadata": {
    "collapsed": true
   },
   "outputs": [],
   "source": [
    "img_dir_path = r'C:\\data\\images\\brodatz\\data.brodatz\\size_213x213'\n",
    "sqlite_db_path='example_compute_sifts_set'\n",
    "sqlite_table_name='sifts_set'"
   ]
  },
  {
   "cell_type": "code",
   "execution_count": 3,
   "metadata": {
    "collapsed": false
   },
   "outputs": [
    {
     "name": "stdout",
     "output_type": "stream",
     "text": [
      "999\n"
     ]
    }
   ],
   "source": [
    "ds_in = fsds.FileSystemDirectoryDataStore(dir_path=img_dir_path)\n",
    "ds_out=sqlds.SQLiteTableDataStore(sqlite_db_path, sqlite_table_name)\n",
    "print(ds_in.get_count())"
   ]
  },
  {
   "cell_type": "code",
   "execution_count": 4,
   "metadata": {
    "collapsed": true
   },
   "outputs": [],
   "source": [
    "transformers_=[trs.BytesToNdarray(), trs.NdarrayToOpencvMatrix(), trs.OpencvMatrixToSiftsSet()]\n",
    "steps.transform_step(ds_in, transformers_, ds_out)"
   ]
  },
  {
   "cell_type": "code",
   "execution_count": 5,
   "metadata": {
    "collapsed": false
   },
   "outputs": [
    {
     "name": "stdout",
     "output_type": "stream",
     "text": [
      "999\n"
     ]
    }
   ],
   "source": [
    "with ds_out:\n",
    "    print(ds_out.get_count())"
   ]
  },
  {
   "cell_type": "code",
   "execution_count": 33,
   "metadata": {
    "collapsed": false
   },
   "outputs": [
    {
     "name": "stdout",
     "output_type": "stream",
     "text": [
      "(379, 128)\n"
     ]
    }
   ],
   "source": [
    "with ds_out:\n",
    "    print(next(ds_out.get_items_sorted_by_ids()).shape)"
   ]
  },
  {
   "cell_type": "code",
   "execution_count": 18,
   "metadata": {
    "collapsed": true
   },
   "outputs": [],
   "source": [
    "sample_part=0.3\n",
    "samples_db_path=sqlite_db_path+\"_{}\".format(sample_part)\n",
    "samples_out_table_name='sifts_set_samples'\n",
    "ds_samples_out=sqlds.SQLiteTableDataStore(samples_db_path, samples_out_table_name)"
   ]
  },
  {
   "cell_type": "code",
   "execution_count": 19,
   "metadata": {
    "collapsed": false
   },
   "outputs": [],
   "source": [
    "steps.sampling_step(ds_out, sample_part, ds_samples_out)"
   ]
  },
  {
   "cell_type": "code",
   "execution_count": null,
   "metadata": {
    "collapsed": true
   },
   "outputs": [],
   "source": [
    "steps.transform_step()"
   ]
  },
  {
   "cell_type": "code",
   "execution_count": 32,
   "metadata": {
    "collapsed": false
   },
   "outputs": [
    {
     "name": "stdout",
     "output_type": "stream",
     "text": [
      "(364, 128)\n",
      "(364, 128)\n",
      "(364, 128)\n",
      "(364, 128)\n",
      "(364, 128)\n",
      "(364, 128)\n",
      "(364, 128)\n",
      "(364, 128)\n",
      "(364, 128)\n",
      "(364, 128)\n",
      "(364, 128)\n",
      "(364, 128)\n",
      "(364, 128)\n",
      "(364, 128)\n",
      "(364, 128)\n",
      "(364, 128)\n",
      "(364, 128)\n",
      "(364, 128)\n",
      "(364, 128)\n",
      "(364, 128)\n",
      "(364, 128)\n",
      "(364, 128)\n",
      "(364, 128)\n",
      "(364, 128)\n",
      "(364, 128)\n",
      "(364, 128)\n",
      "(364, 128)\n",
      "(364, 128)\n",
      "(364, 128)\n",
      "(364, 128)\n",
      "(364, 128)\n",
      "(364, 128)\n",
      "(364, 128)\n",
      "(364, 128)\n",
      "(364, 128)\n",
      "(364, 128)\n",
      "(364, 128)\n",
      "(364, 128)\n",
      "(364, 128)\n",
      "(364, 128)\n",
      "(364, 128)\n",
      "(364, 128)\n",
      "(364, 128)\n",
      "(364, 128)\n",
      "(364, 128)\n",
      "(364, 128)\n",
      "(364, 128)\n",
      "(364, 128)\n",
      "(364, 128)\n",
      "(364, 128)\n",
      "(364, 128)\n",
      "(364, 128)\n",
      "(364, 128)\n",
      "(364, 128)\n",
      "(364, 128)\n",
      "(364, 128)\n",
      "(364, 128)\n",
      "(364, 128)\n",
      "(364, 128)\n",
      "(364, 128)\n",
      "(364, 128)\n",
      "(364, 128)\n",
      "(364, 128)\n",
      "(364, 128)\n",
      "(364, 128)\n",
      "(364, 128)\n",
      "(364, 128)\n",
      "(364, 128)\n",
      "(364, 128)\n",
      "(364, 128)\n",
      "(364, 128)\n",
      "(364, 128)\n",
      "(364, 128)\n",
      "(364, 128)\n",
      "(364, 128)\n",
      "(364, 128)\n",
      "(364, 128)\n",
      "(364, 128)\n",
      "(364, 128)\n",
      "(364, 128)\n",
      "(364, 128)\n",
      "(364, 128)\n",
      "(364, 128)\n",
      "(364, 128)\n",
      "(364, 128)\n",
      "(364, 128)\n",
      "(364, 128)\n",
      "(364, 128)\n",
      "(364, 128)\n",
      "(364, 128)\n",
      "(364, 128)\n",
      "(364, 128)\n",
      "(364, 128)\n",
      "(364, 128)\n",
      "(364, 128)\n",
      "(364, 128)\n",
      "(364, 128)\n",
      "(364, 128)\n",
      "(364, 128)\n",
      "(364, 128)\n"
     ]
    }
   ],
   "source": [
    "with ds_samples_out:\n",
    "    items=ds_samples_out.get_items_sorted_by_ids()\n",
    "    for i in range(100):\n",
    "        print(next(items).shape)"
   ]
  },
  {
   "cell_type": "code",
   "execution_count": 23,
   "metadata": {
    "collapsed": true
   },
   "outputs": [],
   "source": [
    "samples_ndarray_ds=snads.StreamNdarrayAdapterDataStore(ds_samples_out)"
   ]
  },
  {
   "cell_type": "code",
   "execution_count": 27,
   "metadata": {
    "collapsed": false
   },
   "outputs": [
    {
     "data": {
      "text/plain": [
       "(299, 364, 128)"
      ]
     },
     "execution_count": 27,
     "metadata": {},
     "output_type": "execute_result"
    }
   ],
   "source": [
    "samples_ndarray_ds.get_items_sorted_by_ids().shape"
   ]
  },
  {
   "cell_type": "code",
   "execution_count": 6,
   "metadata": {
    "collapsed": true
   },
   "outputs": [],
   "source": [
    "import os\n",
    "os.remove(sqlite_db_path)"
   ]
  },
  {
   "cell_type": "code",
   "execution_count": null,
   "metadata": {
    "collapsed": true
   },
   "outputs": [],
   "source": []
  }
 ],
 "metadata": {
  "kernelspec": {
   "display_name": "Python 3",
   "language": "python",
   "name": "python3"
  },
  "language_info": {
   "codemirror_mode": {
    "name": "ipython",
    "version": 3
   },
   "file_extension": ".py",
   "mimetype": "text/x-python",
   "name": "python",
   "nbconvert_exporter": "python",
   "pygments_lexer": "ipython3",
   "version": "3.5.2"
  }
 },
 "nbformat": 4,
 "nbformat_minor": 0
}
