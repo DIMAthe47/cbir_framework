{
 "cells": [
  {
   "cell_type": "code",
   "execution_count": 3,
   "metadata": {
    "collapsed": false
   },
   "outputs": [],
   "source": [
    "import import_hack\n",
    "import steps\n",
    "from data_store import sqlite_table_datastore as sqlds\n",
    "from data_store import file_system_directory_datastore as fsds\n",
    "from transformer import transformers as trs\n",
    "from search import exhaustive_searcher as exs\n",
    "from data_store import stream_ndarray_adapter_datastore as snads\n",
    "from data_store import numpy_datastore as npds\n",
    "%load_ext autoreload\n",
    "%autoreload 2"
   ]
  },
  {
   "cell_type": "code",
   "execution_count": 4,
   "metadata": {
    "collapsed": true
   },
   "outputs": [],
   "source": [
    "img_dir_path = r'C:\\data\\images\\brodatz\\data.brodatz\\size_213x213'\n",
    "sqlite_db_path='example_find_nearest_by_histograms'\n",
    "sqlite_table_name='histograms'"
   ]
  },
  {
   "cell_type": "code",
   "execution_count": 5,
   "metadata": {
    "collapsed": false
   },
   "outputs": [
    {
     "data": {
      "text/plain": [
       "999"
      ]
     },
     "execution_count": 5,
     "metadata": {},
     "output_type": "execute_result"
    }
   ],
   "source": [
    "image_bytes_ds = fsds.FileSystemDirectoryDataStore(dir_path=img_dir_path)\n",
    "histograms_ds=sqlds.SQLiteTableDataStore(sqlite_db_path, sqlite_table_name)\n",
    "image_bytes_ds.get_count()"
   ]
  },
  {
   "cell_type": "code",
   "execution_count": 7,
   "metadata": {
    "collapsed": true
   },
   "outputs": [],
   "source": [
    "transformers_=[trs.BytesToNdarray(), trs.NdarrayToOpencvMatrix(), trs.OpencvMatrixToHistogram(graycolor=True)]\n",
    "steps.transform_step(image_bytes_ds, transformers_, histograms_ds)"
   ]
  },
  {
   "cell_type": "code",
   "execution_count": 8,
   "metadata": {
    "collapsed": false
   },
   "outputs": [],
   "source": [
    "histograms_ds_ndarrayds = snads.StreamNdarrayAdapterDataStore(histograms_ds)\n",
    "np_ds=npds.NumpyDataStore()"
   ]
  },
  {
   "cell_type": "code",
   "execution_count": 21,
   "metadata": {
    "collapsed": false
   },
   "outputs": [
    {
     "data": {
      "text/plain": [
       "(999, 256, 1)"
      ]
     },
     "execution_count": 21,
     "metadata": {},
     "output_type": "execute_result"
    }
   ],
   "source": [
    "histograms_ds_ndarrayds.get_items_sorted_by_ids().shape"
   ]
  },
  {
   "cell_type": "code",
   "execution_count": 22,
   "metadata": {
    "collapsed": false
   },
   "outputs": [],
   "source": [
    "exs_searcher=exs.ExhaustiveSearcher(histograms_ds_ndarrayds.get_items_sorted_by_ids(), histograms_ds_ndarrayds.get_ids_sorted())\n",
    "steps.search_step(histograms_ds, exs_searcher, 100 , np_ds)"
   ]
  },
  {
   "cell_type": "code",
   "execution_count": 23,
   "metadata": {
    "collapsed": false
   },
   "outputs": [
    {
     "data": {
      "text/plain": [
       "array([[  1,   3,   5, ..., 477, 430,  97],\n",
       "       [  2,   9,   6, ..., 783, 799, 997],\n",
       "       [  3,   2,   1, ...,  63,  91, 956],\n",
       "       ..., \n",
       "       [997, 994, 991, ..., 813, 233, 331],\n",
       "       [998, 994, 991, ..., 237,  20,  25],\n",
       "       [999, 992, 996, ...,   5, 526, 782]])"
      ]
     },
     "execution_count": 23,
     "metadata": {},
     "output_type": "execute_result"
    }
   ],
   "source": [
    "np_ds.get_items_sorted_by_ids()"
   ]
  },
  {
   "cell_type": "code",
   "execution_count": null,
   "metadata": {
    "collapsed": true
   },
   "outputs": [],
   "source": [
    "trs.Tr"
   ]
  }
 ],
 "metadata": {
  "kernelspec": {
   "display_name": "Python 3",
   "language": "python",
   "name": "python3"
  },
  "language_info": {
   "codemirror_mode": {
    "name": "ipython",
    "version": 3
   },
   "file_extension": ".py",
   "mimetype": "text/x-python",
   "name": "python",
   "nbconvert_exporter": "python",
   "pygments_lexer": "ipython3",
   "version": "3.5.2"
  }
 },
 "nbformat": 4,
 "nbformat_minor": 0
}
