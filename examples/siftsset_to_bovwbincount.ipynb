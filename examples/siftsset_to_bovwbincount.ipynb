{
 "cells": [
  {
   "cell_type": "code",
   "execution_count": 10,
   "metadata": {
    "collapsed": false
   },
   "outputs": [
    {
     "name": "stdout",
     "output_type": "stream",
     "text": [
      "The autoreload extension is already loaded. To reload it, use:\n",
      "  %reload_ext autoreload\n"
     ]
    }
   ],
   "source": [
    "import import_hack\n",
    "import steps\n",
    "from data_store import sqlite_table_datastore as sqlds\n",
    "from data_store import sqlite_table_one_to_many_datastore as sqlotmds\n",
    "from data_store import stream_ndarray_adapter_datastore as snads\n",
    "from quantization.pq_quantizer import PQQuantizer, restore_from_clusters\n",
    "from transformer import transformers as tr\n",
    "%load_ext autoreload\n",
    "%autoreload 2"
   ]
  },
  {
   "cell_type": "code",
   "execution_count": 21,
   "metadata": {
    "collapsed": true
   },
   "outputs": [],
   "source": [
    "sqlite_db_path_clusters='ds_data\\siftid_sift_samples0.1-clusters'\n",
    "sqlite_table_name_clusters='clusterid_cluster'\n",
    "ds_clusters = sqlds.SQLiteTableDataStore(sqlite_db_path_clusters, sqlite_table_name_clusters)\n",
    "ds_clusters_ndarray_adapter = snads.StreamNdarrayAdapterDataStore(ds_clusters, detect_final_shape_by_first_elem=True)"
   ]
  },
  {
   "cell_type": "code",
   "execution_count": 22,
   "metadata": {
    "collapsed": false
   },
   "outputs": [
    {
     "name": "stdout",
     "output_type": "stream",
     "text": [
      "2\n",
      "(300, 64)\n",
      "(300, 64)\n"
     ]
    }
   ],
   "source": [
    "with ds_clusters:\n",
    "    print(ds_clusters.get_count())\n",
    "    clusters=ds_clusters.get_items_sorted_by_ids()\n",
    "    print(next(clusters).shape)\n",
    "    print(next(clusters).shape)"
   ]
  },
  {
   "cell_type": "code",
   "execution_count": 23,
   "metadata": {
    "collapsed": true
   },
   "outputs": [],
   "source": [
    "clusters = ds_clusters_ndarray_adapter.get_items_sorted_by_ids()"
   ]
  },
  {
   "cell_type": "code",
   "execution_count": 32,
   "metadata": {
    "collapsed": false
   },
   "outputs": [
    {
     "name": "stdout",
     "output_type": "stream",
     "text": [
      "(2, 300, 64)\n"
     ]
    }
   ],
   "source": [
    "print(clusters.shape)"
   ]
  },
  {
   "cell_type": "code",
   "execution_count": 37,
   "metadata": {
    "collapsed": false
   },
   "outputs": [
    {
     "name": "stdout",
     "output_type": "stream",
     "text": [
      "(300, 64)\n",
      "Initialization complete\n",
      "Iteration  0, inertia 0.000\n",
      "Converged at iteration 0\n",
      "(300, 64)\n",
      "Initialization complete\n",
      "Iteration  0, inertia 0.000\n",
      "Converged at iteration 0\n"
     ]
    }
   ],
   "source": [
    "pq_quantizer = restore_from_clusters(clusters)"
   ]
  },
  {
   "cell_type": "code",
   "execution_count": 38,
   "metadata": {
    "collapsed": false
   },
   "outputs": [
    {
     "name": "stdout",
     "output_type": "stream",
     "text": [
      "(2, 300, 64)\n"
     ]
    }
   ],
   "source": [
    "print(pq_quantizer.get_cluster_centers().shape)"
   ]
  },
  {
   "cell_type": "code",
   "execution_count": 39,
   "metadata": {
    "collapsed": true
   },
   "outputs": [],
   "source": [
    "sqlite_db_path_in='ds_data\\siftid_sift_imgid'\n",
    "sqlite_table_name_in='siftid_sift_imgid'\n",
    "sqlite_db_path_out='ds_data\\imgid_productsiftbincount'\n",
    "sqlite_table_name_out='imgid_productsiftbincount'"
   ]
  },
  {
   "cell_type": "code",
   "execution_count": 40,
   "metadata": {
    "collapsed": false
   },
   "outputs": [],
   "source": [
    "ds_in = sqlotmds.SQLiteTableOneToManyDataStore(sqlite_db_path_in, sqlite_table_name_in)\n",
    "ds_out = sqlds.SQLiteTableDataStore(sqlite_db_path_out, sqlite_table_name_out)"
   ]
  },
  {
   "cell_type": "code",
   "execution_count": 42,
   "metadata": {
    "collapsed": false
   },
   "outputs": [
    {
     "name": "stdout",
     "output_type": "stream",
     "text": [
      "(379, 128)\n",
      "(407, 128)\n"
     ]
    }
   ],
   "source": [
    "with ds_in:\n",
    "    items=ds_in.get_items_sorted_by_ids()\n",
    "    print(next(items).shape)\n",
    "    print(next(items).shape)"
   ]
  },
  {
   "cell_type": "code",
   "execution_count": 43,
   "metadata": {
    "collapsed": false
   },
   "outputs": [],
   "source": [
    "transformers=[tr.ArraysToProductBinCount(pq_quantizer)]"
   ]
  },
  {
   "cell_type": "code",
   "execution_count": 44,
   "metadata": {
    "collapsed": true
   },
   "outputs": [],
   "source": [
    "steps.transform_step(ds_in, transformers, ds_out)"
   ]
  },
  {
   "cell_type": "code",
   "execution_count": 45,
   "metadata": {
    "collapsed": false
   },
   "outputs": [
    {
     "name": "stdout",
     "output_type": "stream",
     "text": [
      "999\n",
      "(600,)\n"
     ]
    }
   ],
   "source": [
    "with ds_out:\n",
    "    print(ds_out.get_count())\n",
    "    print(next(ds_out.get_items_sorted_by_ids()).shape)"
   ]
  },
  {
   "cell_type": "code",
   "execution_count": null,
   "metadata": {
    "collapsed": true
   },
   "outputs": [],
   "source": []
  }
 ],
 "metadata": {
  "kernelspec": {
   "display_name": "Python 3",
   "language": "python",
   "name": "python3"
  },
  "language_info": {
   "codemirror_mode": {
    "name": "ipython",
    "version": 3
   },
   "file_extension": ".py",
   "mimetype": "text/x-python",
   "name": "python",
   "nbconvert_exporter": "python",
   "pygments_lexer": "ipython3",
   "version": "3.5.2"
  }
 },
 "nbformat": 4,
 "nbformat_minor": 0
}
