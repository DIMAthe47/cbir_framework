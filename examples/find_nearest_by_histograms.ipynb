{
 "cells": [
  {
   "cell_type": "code",
   "execution_count": 2,
   "metadata": {
    "collapsed": false
   },
   "outputs": [],
   "source": [
    "import import_hack\n",
    "import steps\n",
    "from data_store import sqlite_table_datastore as sqlds\n",
    "from data_store import file_system_directory_datastore as fsds\n",
    "from data_store import stream_ndarray_adapter_datastore as snads\n",
    "from data_store import numpy_datastore as npds\n",
    "from transformer import transformers as trs\n",
    "from search import exhaustive_searcher as exs\n",
    "%load_ext autoreload\n",
    "%autoreload 2"
   ]
  },
  {
   "cell_type": "code",
   "execution_count": 3,
   "metadata": {
    "collapsed": true
   },
   "outputs": [],
   "source": [
    "img_dir_path = r'C:\\data\\images\\brodatz\\data.brodatz\\size_213x213'\n",
    "sqlite_db_path='example_find_nearest_by_histograms'\n",
    "sqlite_table_name='histograms'"
   ]
  },
  {
   "cell_type": "code",
   "execution_count": 3,
   "metadata": {
    "collapsed": false
   },
   "outputs": [
    {
     "data": {
      "text/plain": [
       "999"
      ]
     },
     "execution_count": 3,
     "metadata": {},
     "output_type": "execute_result"
    }
   ],
   "source": [
    "image_bytes_ds = fsds.FileSystemDirectoryDataStore(dir_path=img_dir_path)\n",
    "histograms_ds=sqlds.SQLiteTableDataStore(sqlite_db_path, sqlite_table_name)\n",
    "image_bytes_ds.get_count()"
   ]
  },
  {
   "cell_type": "code",
   "execution_count": 4,
   "metadata": {
    "collapsed": true
   },
   "outputs": [],
   "source": [
    "transformers_=[trs.BytesToNdarray(), trs.NdarrayToOpencvMatrix(), trs.OpencvMatrixToHistogram(graycolor=True)]\n",
    "steps.transform_step(image_bytes_ds, transformers_, histograms_ds)"
   ]
  },
  {
   "cell_type": "code",
   "execution_count": 17,
   "metadata": {
    "collapsed": false
   },
   "outputs": [
    {
     "name": "stdout",
     "output_type": "stream",
     "text": [
      "(999, 256, 1)\n"
     ]
    }
   ],
   "source": [
    "histograms_ds_ndarrayds = snads.StreamNdarrayAdapterDataStore(histograms_ds)\n",
    "print(histograms_ds_ndarrayds.get_items_sorted_by_ids().shape)\n",
    "np_neighbor_ids_ds=npds.NumpyDataStore()"
   ]
  },
  {
   "cell_type": "code",
   "execution_count": 18,
   "metadata": {
    "collapsed": false
   },
   "outputs": [],
   "source": [
    "exs_searcher=exs.ExhaustiveSearcher(histograms_ds_ndarrayds.get_items_sorted_by_ids(), histograms_ds_ndarrayds.get_ids_sorted())\n",
    "steps.search_step(histograms_ds, exs_searcher, 5 , np_neighbor_ids_ds)"
   ]
  },
  {
   "cell_type": "code",
   "execution_count": 19,
   "metadata": {
    "collapsed": false
   },
   "outputs": [
    {
     "data": {
      "text/plain": [
       "array([[  1,   3,   5,   2,   8],\n",
       "       [  2,   9,   6,   3,   1],\n",
       "       [  3,   2,   1,   6,   9],\n",
       "       ..., \n",
       "       [997, 994, 991, 998, 995],\n",
       "       [998, 994, 991, 995, 997],\n",
       "       [999, 992, 996, 993, 995]])"
      ]
     },
     "execution_count": 19,
     "metadata": {},
     "output_type": "execute_result"
    }
   ],
   "source": [
    "np_neighbor_ids_ds.get_items_sorted_by_ids()"
   ]
  },
  {
   "cell_type": "code",
   "execution_count": 20,
   "metadata": {
    "collapsed": false
   },
   "outputs": [],
   "source": [
    "ids=histograms_ds_ndarrayds.get_ids_sorted()\n",
    "source_ids=image_bytes_ds.get_ids_sorted()\n",
    "np_neighbor_source_ids=npds.NumpyDataStore()\n",
    "steps.transform_step(np_neighbor_ids_ds, [trs.TranslateByKeysTransformer(ids, source_ids)], np_neighbor_source_ids)"
   ]
  },
  {
   "cell_type": "code",
   "execution_count": 21,
   "metadata": {
    "collapsed": false
   },
   "outputs": [
    {
     "data": {
      "text/plain": [
       "array([['D001_01.png', 'D001_03.png', 'D001_05.png', 'D001_02.png',\n",
       "        'D001_08.png'],\n",
       "       ['D001_02.png', 'D001_09.png', 'D001_06.png', 'D001_03.png',\n",
       "        'D001_01.png'],\n",
       "       ['D001_03.png', 'D001_02.png', 'D001_01.png', 'D001_06.png',\n",
       "        'D001_09.png'],\n",
       "       ..., \n",
       "       ['D112_07.png', 'D112_04.png', 'D112_01.png', 'D112_08.png',\n",
       "        'D112_05.png'],\n",
       "       ['D112_08.png', 'D112_04.png', 'D112_01.png', 'D112_05.png',\n",
       "        'D112_07.png'],\n",
       "       ['D112_09.png', 'D112_02.png', 'D112_06.png', 'D112_03.png',\n",
       "        'D112_05.png']], dtype=object)"
      ]
     },
     "execution_count": 21,
     "metadata": {},
     "output_type": "execute_result"
    }
   ],
   "source": [
    "np_neighbor_source_ids.get_items_sorted_by_ids()"
   ]
  },
  {
   "cell_type": "code",
   "execution_count": 4,
   "metadata": {
    "collapsed": false
   },
   "outputs": [],
   "source": [
    "import os\n",
    "os.remove(sqlite_db_path)"
   ]
  },
  {
   "cell_type": "code",
   "execution_count": null,
   "metadata": {
    "collapsed": true
   },
   "outputs": [],
   "source": []
  }
 ],
 "metadata": {
  "kernelspec": {
   "display_name": "Python 3",
   "language": "python",
   "name": "python3"
  },
  "language_info": {
   "codemirror_mode": {
    "name": "ipython",
    "version": 3
   },
   "file_extension": ".py",
   "mimetype": "text/x-python",
   "name": "python",
   "nbconvert_exporter": "python",
   "pygments_lexer": "ipython3",
   "version": "3.5.2"
  }
 },
 "nbformat": 4,
 "nbformat_minor": 0
}
