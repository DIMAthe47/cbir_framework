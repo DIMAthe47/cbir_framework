{
 "cells": [
  {
   "cell_type": "code",
   "execution_count": 20,
   "metadata": {
    "collapsed": false
   },
   "outputs": [
    {
     "name": "stdout",
     "output_type": "stream",
     "text": [
      "The autoreload extension is already loaded. To reload it, use:\n",
      "  %reload_ext autoreload\n"
     ]
    }
   ],
   "source": [
    "import import_hack\n",
    "import steps\n",
    "from data_store import sqlite_table_datastore as sqlds\n",
    "from data_store import stream_ndarray_adapter_datastore as snads\n",
    "from quantization import pq_quantizer\n",
    "%load_ext autoreload\n",
    "%autoreload 2"
   ]
  },
  {
   "cell_type": "code",
   "execution_count": 21,
   "metadata": {
    "collapsed": true
   },
   "outputs": [],
   "source": [
    "sqlite_db_path_in='ds_data\\example_compute_siftid_sift_imgid_samples0.1'\n",
    "sqlite_table_name_in='siftid_sift'\n",
    "sqlite_db_path_out='ds_data\\example_compute_siftid_sift_imgid_samples0.1-clusters'\n",
    "sqlite_table_name_out='clusterid_cluster'"
   ]
  },
  {
   "cell_type": "code",
   "execution_count": 22,
   "metadata": {
    "collapsed": false
   },
   "outputs": [],
   "source": [
    "ds_in = sqlds.SQLiteTableDataStore(sqlite_db_path_in, sqlite_table_name_in)\n",
    "ds_out = sqlds.SQLiteTableDataStore(sqlite_db_path_out, sqlite_table_name_out)\n",
    "quantizer = pq_quantizer.PQQuantizer(n_clusters=300, n_quantizers=2)"
   ]
  },
  {
   "cell_type": "code",
   "execution_count": 8,
   "metadata": {
    "collapsed": false
   },
   "outputs": [],
   "source": [
    "steps.quantize_step(ds_in, quantizer, ds_out)"
   ]
  },
  {
   "cell_type": "code",
   "execution_count": 23,
   "metadata": {
    "collapsed": false
   },
   "outputs": [
    {
     "name": "stdout",
     "output_type": "stream",
     "text": [
      "2\n",
      "(300, 64)\n"
     ]
    }
   ],
   "source": [
    "with ds_out:\n",
    "    print(ds_out.get_count())\n",
    "    print(next(ds_out.get_items_sorted_by_ids()).shape)"
   ]
  },
  {
   "cell_type": "code",
   "execution_count": null,
   "metadata": {
    "collapsed": true
   },
   "outputs": [],
   "source": []
  }
 ],
 "metadata": {
  "kernelspec": {
   "display_name": "Python 3",
   "language": "python",
   "name": "python3"
  },
  "language_info": {
   "codemirror_mode": {
    "name": "ipython",
    "version": 3
   },
   "file_extension": ".py",
   "mimetype": "text/x-python",
   "name": "python",
   "nbconvert_exporter": "python",
   "pygments_lexer": "ipython3",
   "version": "3.5.2"
  }
 },
 "nbformat": 4,
 "nbformat_minor": 0
}
