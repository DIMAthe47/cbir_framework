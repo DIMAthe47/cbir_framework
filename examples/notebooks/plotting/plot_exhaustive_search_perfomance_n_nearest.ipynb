{
 "cells": [
  {
   "cell_type": "code",
   "execution_count": 54,
   "metadata": {
    "collapsed": false
   },
   "outputs": [
    {
     "name": "stdout",
     "output_type": "stream",
     "text": [
      "The autoreload extension is already loaded. To reload it, use:\n",
      "  %reload_ext autoreload\n"
     ]
    }
   ],
   "source": [
    "# %matplotlib inline  \n",
    "from __init__ import *\n",
    "import numpy as np\n",
    "import core.steps as steps\n",
    "from core import data_store as ds\n",
    "from core.common.ds_utils import print_ds_items_info\n",
    "from core.common.file_utils import add_suffix_without_extension\n",
    "from core.evaluation.retrieval_perfomance import extract_perfomances_from_arr\n",
    "from core.common.path_helper import DataStoreHelper\n",
    "import math, os\n",
    "%load_ext autoreload\n",
    "%autoreload 2"
   ]
  },
  {
   "cell_type": "code",
   "execution_count": 55,
   "metadata": {
    "collapsed": false
   },
   "outputs": [],
   "source": [
    "ds_helper=DataStoreHelper(r'C:\\data\\computation\\brodatz')"
   ]
  },
  {
   "cell_type": "markdown",
   "metadata": {},
   "source": [
    "# Plot exhaustive search perfomance"
   ]
  },
  {
   "cell_type": "code",
   "execution_count": 88,
   "metadata": {
    "collapsed": true
   },
   "outputs": [],
   "source": [
    "def plot_ex_search_perfomance(descriptor_names, perfomance_types, save_to_file=False):\n",
    "    subplotname__label__x__y = {}\n",
    "    for i,perfomance_type in enumerate(perfomance_types):\n",
    "        label__x__y=subplotname__label__x__y.setdefault(perfomance_type,{})\n",
    "        label__kwargs={}\n",
    "        for descriptor_name in descriptor_names:\n",
    "            perfomances_ds = ds_helper.ex_search_perfomances_ds(descriptor_name)\n",
    "            perfomances_arr=ds_helper.perfomance_arr(perfomances_ds)\n",
    "            y_arr = extract_perfomances_from_arr(perfomances_arr, perfomance_type)\n",
    "            label = descriptor_name\n",
    "            n_nearest_arr = extract_perfomances_from_arr(perfomances_arr, 'n_nearest')\n",
    "            label__x__y[label]=dict(zip(n_nearest_arr, y_arr))\n",
    "\n",
    "    if save_to_file:\n",
    "        plot_path=ds_helper.ex_search_perfomances_plot_path(perfomance_type)\n",
    "    else:\n",
    "        plot_path=None\n",
    "    steps.plotting_step3(subplotname__label__x__y, '', str, 'n_nearest', perfomance_type, save_to_file=plot_path, label__kwargs=label__kwargs, \n",
    "                         width=15, height=10, subplotvalues_positions={'precision':0,'recall':1,'mAP':2})"
   ]
  },
  {
   "cell_type": "code",
   "execution_count": 89,
   "metadata": {
    "collapsed": false
   },
   "outputs": [],
   "source": [
    "perfomance_names=['precision', 'recall', 'mAP']\n",
    "\n",
    "descriptor_names=['histograms', 'glcms','lbphistograms']\n",
    "choosen_bovwproductbincounts_pq_params= [{'n_clusters': K, 'n_quantizers': m} for K,m in [(64,4),(128,1),(16,1)]]\n",
    "descriptor_names+=ds_helper.bovw_descriptors_names('bovwproductbincounts',choosen_bovwproductbincounts_pq_params)"
   ]
  },
  {
   "cell_type": "code",
   "execution_count": 92,
   "metadata": {
    "collapsed": false
   },
   "outputs": [
    {
     "name": "stdout",
     "output_type": "stream",
     "text": [
      "[None, None, None]\n",
      "mAP\n",
      "recall\n",
      "precision\n"
     ]
    }
   ],
   "source": [
    "plot_ex_search_perfomance(descriptor_names, perfomance_names)"
   ]
  },
  {
   "cell_type": "code",
   "execution_count": null,
   "metadata": {
    "collapsed": true
   },
   "outputs": [],
   "source": []
  }
 ],
 "metadata": {
  "kernelspec": {
   "display_name": "Python 3",
   "language": "python",
   "name": "python3"
  },
  "language_info": {
   "codemirror_mode": {
    "name": "ipython",
    "version": 3
   },
   "file_extension": ".py",
   "mimetype": "text/x-python",
   "name": "python",
   "nbconvert_exporter": "python",
   "pygments_lexer": "ipython3",
   "version": "3.5.2"
  }
 },
 "nbformat": 4,
 "nbformat_minor": 0
}
