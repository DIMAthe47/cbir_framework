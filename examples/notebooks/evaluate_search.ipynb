{
 "cells": [
  {
   "cell_type": "code",
   "execution_count": 1,
   "metadata": {
    "collapsed": false
   },
   "outputs": [],
   "source": [
    "from __init__ import *\n",
    "import numpy as np\n",
    "import core.steps as steps\n",
    "from core import data_store as ds\n",
    "from core.common.ds_utils import print_ds_items_info\n",
    "from core.evaluation.ground_truth import BrodatzGroundTruth\n",
    "from core.evaluation.retrieval_perfomance import PrecisionRecallAveragePrecisionEvaluator\n",
    "from core.common.path_helper import DataStoreHelper\n",
    "import os\n",
    "%load_ext autoreload\n",
    "%autoreload 2"
   ]
  },
  {
   "cell_type": "markdown",
   "metadata": {},
   "source": [
    "# Evaluate search\n",
    "Compute search precision, recall, mAP perfomance. \n",
    "\n",
    "PrecisionRecallAveragePrecisionEvaluator builds perfomance_arr of shape(4, n_nearest), where:\n",
    "- perfomance_arr[0,:] - n_nearest cutoffs\n",
    "- perfomance_arr[1,:] - precisions\n",
    "- perfomance_arr[2,:] - recalls\n",
    "- perfomance_arr[3,:] - mAPs\n",
    "\n",
    "Here we will save such arrays in csv files (one perfomance_arr - one file)"
   ]
  },
  {
   "cell_type": "code",
   "execution_count": 2,
   "metadata": {
    "collapsed": true
   },
   "outputs": [],
   "source": [
    "ds_helper=DataStoreHelper(r'C:\\data\\computation\\brodatz')"
   ]
  },
  {
   "cell_type": "code",
   "execution_count": 3,
   "metadata": {
    "collapsed": false
   },
   "outputs": [],
   "source": [
    "def evaluate_search(search_type, descriptor_name, pq_params):\n",
    "    if search_type=='adc' or search_type=='sdc' or search_type=='imi':\n",
    "        neighbors_ids_ds=ds_helper.pq_search_neighbors_ids_ds(search_type, descriptor_name, pq_params)\n",
    "        search_perfomances_ds=ds_helper.pq_search_perfomances_ds(search_type, descriptor_name, pq_params)\n",
    "    else:\n",
    "        neighbors_ids_ds=ds_helper.ex_search_neighbors_ids_ds(descriptor_name)\n",
    "        search_perfomances_ds=ds_helper.ex_search_perfomances_ds(descriptor_name)\n",
    "        \n",
    "    ground_truth = BrodatzGroundTruth()\n",
    "    evaluator = PrecisionRecallAveragePrecisionEvaluator(ground_truth)\n",
    "\n",
    "    steps.evaluation_step(neighbors_ids_ds, evaluator, search_perfomances_ds)"
   ]
  },
  {
   "cell_type": "code",
   "execution_count": 4,
   "metadata": {
    "collapsed": false
   },
   "outputs": [],
   "source": [
    "K_arr = [2 ** i for i in [4,5,6,7,8]]\n",
    "m_arr = [m for m in [1, 2, 4, 8, 16]]\n",
    "pq_params_arr = [{'n_clusters': K, 'n_quantizers': m} for K in K_arr for m in m_arr]\n",
    "\n",
    "bytes_free=1 << 34\n",
    "imi_pq_params_arr = [{'n_clusters': K, 'n_quantizers': m} for K in K_arr for m in m_arr if 4 * K ** m < bytes_free]\n",
    "imi_pq_params_arr.remove({'n_clusters': 128, 'n_quantizers': 4})"
   ]
  },
  {
   "cell_type": "code",
   "execution_count": 61,
   "metadata": {
    "collapsed": true
   },
   "outputs": [],
   "source": [
    "descriptor_names=['histograms', 'lbphistograms', 'glcms']\n",
    "choosen_bovwproductbincounts_pq_params= [{'n_clusters': K, 'n_quantizers': m} for K,m in [(64,4),(128,1),(16,1)]]\n",
    "descriptor_names+=ds_helper.bovw_descriptors_names('bovwproductbincounts',choosen_bovwproductbincounts_pq_params)"
   ]
  },
  {
   "cell_type": "code",
   "execution_count": 55,
   "metadata": {
    "collapsed": true
   },
   "outputs": [],
   "source": [
    "for descriptor_name in descriptor_names:\n",
    "    evaluate_search('ex', descriptor_name, None)"
   ]
  },
  {
   "cell_type": "code",
   "execution_count": 62,
   "metadata": {
    "collapsed": false
   },
   "outputs": [],
   "source": [
    "for descriptor_name in descriptor_names:\n",
    "    for pq_params in pq_params_arr:\n",
    "        evaluate_search('adc', descriptor_name, pq_params)"
   ]
  },
  {
   "cell_type": "code",
   "execution_count": 63,
   "metadata": {
    "collapsed": false
   },
   "outputs": [],
   "source": [
    "for descriptor_name in descriptor_names:\n",
    "    for pq_params in pq_params_arr:\n",
    "        evaluate_search('sdc', descriptor_name, pq_params)"
   ]
  },
  {
   "cell_type": "code",
   "execution_count": 64,
   "metadata": {
    "collapsed": false
   },
   "outputs": [],
   "source": [
    "for descriptor_name in descriptor_names:\n",
    "    for pq_params in imi_pq_params_arr:\n",
    "        evaluate_search('imi', descriptor_name, pq_params)"
   ]
  },
  {
   "cell_type": "code",
   "execution_count": null,
   "metadata": {
    "collapsed": true
   },
   "outputs": [],
   "source": []
  },
  {
   "cell_type": "code",
   "execution_count": null,
   "metadata": {
    "collapsed": true
   },
   "outputs": [],
   "source": []
  }
 ],
 "metadata": {
  "kernelspec": {
   "display_name": "Python 3",
   "language": "python",
   "name": "python3"
  },
  "language_info": {
   "codemirror_mode": {
    "name": "ipython",
    "version": 3
   },
   "file_extension": ".py",
   "mimetype": "text/x-python",
   "name": "python",
   "nbconvert_exporter": "python",
   "pygments_lexer": "ipython3",
   "version": "3.5.2"
  }
 },
 "nbformat": 4,
 "nbformat_minor": 0
}
