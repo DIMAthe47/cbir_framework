{
 "cells": [
  {
   "cell_type": "code",
   "execution_count": 1,
   "metadata": {
    "collapsed": false
   },
   "outputs": [],
   "source": [
    "from __init__ import *\n",
    "import numpy as np\n",
    "import core.steps as steps\n",
    "from core import data_store as ds\n",
    "from core import transformer as tr\n",
    "from core.common.ds_utils import print_ds_items_info\n",
    "from core.quantization.pq_quantizer import PQQuantizer, restore_from_clusters, build_pq_params_str\n",
    "from core.common.path_helper import DataStoreHelper\n",
    "%load_ext autoreload\n",
    "%autoreload 2"
   ]
  },
  {
   "cell_type": "code",
   "execution_count": 2,
   "metadata": {
    "collapsed": true
   },
   "outputs": [],
   "source": [
    "ds_helper=DataStoreHelper(r'C:\\data\\computation\\brodatz')"
   ]
  },
  {
   "cell_type": "markdown",
   "metadata": {},
   "source": [
    "# Compute global descriptors from local descriptors\n",
    "(siftset->bovwsiftbincount)"
   ]
  },
  {
   "cell_type": "code",
   "execution_count": 3,
   "metadata": {
    "collapsed": false
   },
   "outputs": [],
   "source": [
    "sifts_ds=ds_helper.local_descriptors_ds('sifts')\n",
    "with sifts_ds:\n",
    "    sifts_list_ds = ds.ListDatastore(sifts_ds.get_items_sorted_by_ids())"
   ]
  },
  {
   "cell_type": "code",
   "execution_count": 4,
   "metadata": {
    "collapsed": false
   },
   "outputs": [],
   "source": [
    "def compute_global_descriptor_from_sifts(global_descriptor_name, pq_params):\n",
    "    local_descriptors_ds=sifts_list_ds\n",
    "    \n",
    "    centroids_ds =ds_helper.centroids_ds('sifts', pq_params)\n",
    "    centroids = ds.get_as_array(centroids_ds)\n",
    "    pq_quantizer = restore_from_clusters(centroids)\n",
    "\n",
    "    if global_descriptor_name=='bovwproductbincounts':\n",
    "        transformers=[tr.ArraysToProductBinCount(pq_quantizer)]\n",
    "    elif global_descriptor_name=='bovwbincounts':\n",
    "        if pq_quantizer.max_scalar_index>2**19:\n",
    "            print(pq_params, \": too much memory for descriptors\")\n",
    "            return\n",
    "        transformers=[tr.ArraysToBinCount(pq_quantizer)]\n",
    "\n",
    "    global_descriptors_ds=ds_helper.bovw_descriptors_ds(global_descriptor_name, pq_params)\n",
    "\n",
    "    steps.transform_step(local_descriptors_ds, transformers, global_descriptors_ds)"
   ]
  },
  {
   "cell_type": "code",
   "execution_count": 9,
   "metadata": {
    "collapsed": true
   },
   "outputs": [],
   "source": [
    "K_arr = [2 ** i for i in [4,5,6,7,8]]\n",
    "m_arr = [m for m in [1, 2, 4, 8, 16]]\n",
    "pq_params_arr = [{'n_clusters': K, 'n_quantizers': m} for K in K_arr for m in m_arr]"
   ]
  },
  {
   "cell_type": "code",
   "execution_count": 10,
   "metadata": {
    "collapsed": false
   },
   "outputs": [
    {
     "name": "stdout",
     "output_type": "stream",
     "text": [
      "{'n_clusters': 16, 'n_quantizers': 8} : too much memory for descriptors\n",
      "{'n_clusters': 16, 'n_quantizers': 16} : too much memory for descriptors\n",
      "{'n_clusters': 32, 'n_quantizers': 4} : too much memory for descriptors\n",
      "{'n_clusters': 32, 'n_quantizers': 8} : too much memory for descriptors\n",
      "{'n_clusters': 32, 'n_quantizers': 16} : too much memory for descriptors\n",
      "{'n_clusters': 64, 'n_quantizers': 4} : too much memory for descriptors\n",
      "{'n_clusters': 64, 'n_quantizers': 8} : too much memory for descriptors\n",
      "{'n_clusters': 64, 'n_quantizers': 16} : too much memory for descriptors\n",
      "{'n_clusters': 128, 'n_quantizers': 4} : too much memory for descriptors\n",
      "{'n_clusters': 128, 'n_quantizers': 8} : too much memory for descriptors\n",
      "{'n_clusters': 128, 'n_quantizers': 16} : too much memory for descriptors\n",
      "{'n_clusters': 256, 'n_quantizers': 4} : too much memory for descriptors\n",
      "{'n_clusters': 256, 'n_quantizers': 8} : too much memory for descriptors\n",
      "{'n_clusters': 256, 'n_quantizers': 16} : too much memory for descriptors\n"
     ]
    }
   ],
   "source": [
    "for pq_params in pq_params_arr:\n",
    "    compute_global_descriptor_from_sifts('bovwbincounts',pq_params)"
   ]
  },
  {
   "cell_type": "code",
   "execution_count": 11,
   "metadata": {
    "collapsed": false
   },
   "outputs": [],
   "source": [
    "for pq_params in pq_params_arr:\n",
    "    compute_global_descriptor_from_sifts('bovwproductbincounts',pq_params)"
   ]
  },
  {
   "cell_type": "code",
   "execution_count": null,
   "metadata": {
    "collapsed": true
   },
   "outputs": [],
   "source": []
  }
 ],
 "metadata": {
  "kernelspec": {
   "display_name": "Python 3",
   "language": "python",
   "name": "python3"
  },
  "language_info": {
   "codemirror_mode": {
    "name": "ipython",
    "version": 3
   },
   "file_extension": ".py",
   "mimetype": "text/x-python",
   "name": "python",
   "nbconvert_exporter": "python",
   "pygments_lexer": "ipython3",
   "version": "3.5.2"
  }
 },
 "nbformat": 4,
 "nbformat_minor": 0
}
