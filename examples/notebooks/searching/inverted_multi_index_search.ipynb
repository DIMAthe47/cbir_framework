{
 "cells": [
  {
   "cell_type": "code",
   "execution_count": 7,
   "metadata": {
    "collapsed": false
   },
   "outputs": [
    {
     "name": "stdout",
     "output_type": "stream",
     "text": [
      "The autoreload extension is already loaded. To reload it, use:\n",
      "  %reload_ext autoreload\n"
     ]
    }
   ],
   "source": [
    "from __init__ import *\n",
    "import core.steps as steps\n",
    "from core import data_store as ds\n",
    "from core import transformer as tr\n",
    "from core.common.ds_utils import print_ds_items_info\n",
    "from core.search.inverted_multi_index_searcher import InvertedMultiIndexSearcher\n",
    "from core.quantization.pq_quantizer import PQQuantizer, restore_from_clusters, build_pq_params_str\n",
    "from core.common.path_helper import DataStoreHelper\n",
    "%load_ext autoreload\n",
    "%autoreload 2"
   ]
  },
  {
   "cell_type": "markdown",
   "metadata": {},
   "source": [
    "# Inverted multi-index search"
   ]
  },
  {
   "cell_type": "code",
   "execution_count": 8,
   "metadata": {
    "collapsed": false
   },
   "outputs": [],
   "source": [
    "ds_helper=DataStoreHelper(r'C:\\data\\computation\\brodatz')"
   ]
  },
  {
   "cell_type": "code",
   "execution_count": 9,
   "metadata": {
    "collapsed": true
   },
   "outputs": [],
   "source": [
    "def imi_search(descriptors_name, pq_params):\n",
    "    centroids_ds=ds_helper.centroids_ds(descriptor_name, pq_params)\n",
    "    centroids = ds.get_as_array(centroids_ds)\n",
    "  \n",
    "    pqcodes_ds = ds_helper.pqcodes_ds(descriptor_name, pq_params)\n",
    "    ids, pqcodes = ds.get_as_array(pqcodes_ds, return_ids=True)\n",
    "    \n",
    "    searcher_ = InvertedMultiIndexSearcher(ids, centroids, x_pqcodes=pqcodes)\n",
    "    n_nearest = 25\n",
    "    \n",
    "    neighbors_ids_ds=ds_helper.pq_search_neighbors_ids_ds('imi', descriptor_name, pq_params)\n",
    "    query_descriptors_ds=ds_helper.global_descriptors_ds(descriptor_name)\n",
    "    \n",
    "    steps.search_step(query_descriptors_ds, searcher_, n_nearest, neighbors_ids_ds)"
   ]
  },
  {
   "cell_type": "code",
   "execution_count": 10,
   "metadata": {
    "collapsed": true
   },
   "outputs": [],
   "source": [
    "descriptor_names=['histograms', 'lbphistograms', 'glcms']\n",
    "choosen_bovwproductbincounts_pq_params= [{'n_clusters': K, 'n_quantizers': m} for K,m in [(64,4),(128,1),(16,1)]]\n",
    "descriptor_names+=ds_helper.bovw_descriptors_names('bovwproductbincounts',choosen_bovwproductbincounts_pq_params)"
   ]
  },
  {
   "cell_type": "code",
   "execution_count": 11,
   "metadata": {
    "collapsed": false
   },
   "outputs": [
    {
     "name": "stdout",
     "output_type": "stream",
     "text": [
      "[{'n_quantizers': 1, 'n_clusters': 16}, {'n_quantizers': 2, 'n_clusters': 16}, {'n_quantizers': 4, 'n_clusters': 16}, {'n_quantizers': 1, 'n_clusters': 32}, {'n_quantizers': 2, 'n_clusters': 32}, {'n_quantizers': 4, 'n_clusters': 32}, {'n_quantizers': 1, 'n_clusters': 64}, {'n_quantizers': 2, 'n_clusters': 64}, {'n_quantizers': 4, 'n_clusters': 64}, {'n_quantizers': 1, 'n_clusters': 128}, {'n_quantizers': 2, 'n_clusters': 128}, {'n_quantizers': 1, 'n_clusters': 256}, {'n_quantizers': 2, 'n_clusters': 256}]\n"
     ]
    }
   ],
   "source": [
    "K_arr = [2 ** i for i in [4,5,6,7,8]]\n",
    "m_arr = [m for m in [1, 2, 4, 8, 16]]\n",
    "# inverted multi-index will take 4 * K ** m bytes of memory, so we need to put restrictions on pq_params\n",
    "bytes_free=1 << 34\n",
    "imi_pq_params_arr = [{'n_clusters': K, 'n_quantizers': m} for K in K_arr for m in m_arr if 4 * K ** m < bytes_free]\n",
    "imi_pq_params_arr.remove({'n_clusters': 128, 'n_quantizers': 4})\n",
    "# current implementation works too slow with (m>2, K>32), e.g. (2,256) - fast, but (4,64) - very slow.\n",
    "print(imi_pq_params_arr)"
   ]
  },
  {
   "cell_type": "code",
   "execution_count": 12,
   "metadata": {
    "collapsed": false
   },
   "outputs": [],
   "source": [
    "for descriptor_name in descriptor_names:\n",
    "    for pq_params in imi_pq_params_arr:\n",
    "        imi_search(descriptor_name, pq_params)"
   ]
  },
  {
   "cell_type": "code",
   "execution_count": null,
   "metadata": {
    "collapsed": true
   },
   "outputs": [],
   "source": []
  }
 ],
 "metadata": {
  "kernelspec": {
   "display_name": "Python 3",
   "language": "python",
   "name": "python3"
  },
  "language_info": {
   "codemirror_mode": {
    "name": "ipython",
    "version": 3
   },
   "file_extension": ".py",
   "mimetype": "text/x-python",
   "name": "python",
   "nbconvert_exporter": "python",
   "pygments_lexer": "ipython3",
   "version": "3.5.2"
  }
 },
 "nbformat": 4,
 "nbformat_minor": 0
}
