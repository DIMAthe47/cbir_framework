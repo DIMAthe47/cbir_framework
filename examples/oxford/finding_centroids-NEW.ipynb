{
 "cells": [
  {
   "cell_type": "code",
   "execution_count": 51,
   "metadata": {
    "collapsed": false
   },
   "outputs": [
    {
     "name": "stdout",
     "output_type": "stream",
     "text": [
      "The autoreload extension is already loaded. To reload it, use:\n",
      "  %reload_ext autoreload\n"
     ]
    }
   ],
   "source": [
    "import import_hack\n",
    "import numpy as np\n",
    "import core.steps as steps\n",
    "from core import data_store as ds\n",
    "from core import transformer as tr\n",
    "from core.common.ds_utils import print_ds_items_info\n",
    "from core.quantization.pq_quantizer import PQQuantizer, build_pq_params_str\n",
    "from os.path import join as pjoin\n",
    "from core.common.path_helper import DataStoreHelper\n",
    "%load_ext autoreload\n",
    "%autoreload 2"
   ]
  },
  {
   "cell_type": "code",
   "execution_count": 52,
   "metadata": {
    "collapsed": true
   },
   "outputs": [],
   "source": [
    "ds_helper=DataStoreHelper(r'C:\\data\\computation\\brodatz')"
   ]
  },
  {
   "cell_type": "markdown",
   "metadata": {
    "collapsed": true
   },
   "source": [
    "# Quantization. Find centroids"
   ]
  },
  {
   "cell_type": "markdown",
   "metadata": {},
   "source": [
    "### Quantize global descriptors"
   ]
  },
  {
   "cell_type": "code",
   "execution_count": 53,
   "metadata": {
    "collapsed": true
   },
   "outputs": [],
   "source": [
    "def find_global_descriptors_centroids(descriptor_name, pq_params):\n",
    "    quantizer = PQQuantizer(**pq_params)\n",
    "    descriptors_ds=ds_helper.global_descriptors_ds(descriptor_name)\n",
    "    centroids_ds = ds_helper.centroids_ds(descriptor_name, pq_params)\n",
    "    steps.quantize_step(descriptors_ds, quantizer, centroids_ds)    "
   ]
  },
  {
   "cell_type": "code",
   "execution_count": 57,
   "metadata": {
    "collapsed": false
   },
   "outputs": [],
   "source": [
    "K_arr = [2 ** i for i in [4,5,6,7,8]]\n",
    "m_arr = [m for m in [1, 2, 4, 8, 16]]\n",
    "pq_params_arr = [{'n_clusters': K, 'n_quantizers': m} for K in K_arr for m in m_arr]\n",
    "\n",
    "descriptor_names=['histograms', 'glcms','lbphistograms']\n",
    "choosen_bovwproductbincounts_pq_params= [{'n_clusters': K, 'n_quantizers': m} for K,m in [(64,4),(128,1),(16,1)]]\n",
    "descriptor_names+=ds_helper.bovw_descriptors_names('bovwproductbincounts',choosen_bovwproductbincounts_pq_params)"
   ]
  },
  {
   "cell_type": "code",
   "execution_count": 58,
   "metadata": {
    "collapsed": false
   },
   "outputs": [],
   "source": [
    "for descriptor_name in descriptor_names:\n",
    "    for pq_params in pq_params_arr:\n",
    "        find_global_descriptors_centroids(descriptor_name, pq_params)"
   ]
  },
  {
   "cell_type": "markdown",
   "metadata": {},
   "source": [
    "### Quantize local descriptors (quantize sample)"
   ]
  },
  {
   "cell_type": "code",
   "execution_count": 37,
   "metadata": {
    "collapsed": false
   },
   "outputs": [],
   "source": [
    "def find_local_descriptors_centroids(descriptor_name,sample_part, pq_params):\n",
    "    quantizer = PQQuantizer(**pq_params)\n",
    "    descriptors_sample_ds = ds_helper.local_descriptors_sample_ds(descriptor_name,sample_part)\n",
    "    descriptors_sample_list_ds=ds.Li\n",
    "    centroids_ds = ds_helper.centroids_ds(descriptor_name, pq_params)\n",
    "    steps.quantize_step(descriptors_sample_ds, quantizer, centroids_ds)    "
   ]
  },
  {
   "cell_type": "code",
   "execution_count": 48,
   "metadata": {
    "collapsed": true
   },
   "outputs": [],
   "source": [
    "K_arr = [2 ** i for i in [4,5,6,7,8]]\n",
    "m_arr = [m for m in [1, 2, 4, 8, 16]]\n",
    "pq_params_arr = [{'n_clusters': K, 'n_quantizers': m} for K in K_arr for m in m_arr]\n",
    "\n",
    "descriptor_names=['sifts']"
   ]
  },
  {
   "cell_type": "code",
   "execution_count": 49,
   "metadata": {
    "collapsed": false
   },
   "outputs": [],
   "source": [
    "for descriptor_name in descriptor_names:\n",
    "    for pq_params in pq_params_arr:\n",
    "        find_local_descriptors_centroids(descriptor_name, 0.3, pq_params)"
   ]
  },
  {
   "cell_type": "code",
   "execution_count": null,
   "metadata": {
    "collapsed": true
   },
   "outputs": [],
   "source": []
  }
 ],
 "metadata": {
  "kernelspec": {
   "display_name": "Python 3",
   "language": "python",
   "name": "python3"
  },
  "language_info": {
   "codemirror_mode": {
    "name": "ipython",
    "version": 3
   },
   "file_extension": ".py",
   "mimetype": "text/x-python",
   "name": "python",
   "nbconvert_exporter": "python",
   "pygments_lexer": "ipython3",
   "version": "3.5.2"
  }
 },
 "nbformat": 4,
 "nbformat_minor": 0
}
