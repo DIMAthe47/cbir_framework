{
 "cells": [
  {
   "cell_type": "code",
   "execution_count": 1,
   "metadata": {
    "collapsed": false
   },
   "outputs": [],
   "source": [
    "import import_hack\n",
    "import numpy as np\n",
    "import core.steps as steps\n",
    "from core import data_store as ds\n",
    "from core import transformer as tr\n",
    "from core.common.ds_utils import print_ds_items_info\n",
    "from os.path import join as pjoin\n",
    "from core.evaluation.ground_truth import BrodatzGroundTruth\n",
    "from core.evaluation.retrieval_perfomance import PrecisionRecallAveragePrecisionEvaluator\n",
    "import os\n",
    "%load_ext autoreload\n",
    "%autoreload 2"
   ]
  },
  {
   "cell_type": "code",
   "execution_count": 2,
   "metadata": {
    "collapsed": false
   },
   "outputs": [],
   "source": [
    "base_dir=r'C:\\data\\computation\\brodatz\\global_descriptors'"
   ]
  },
  {
   "cell_type": "markdown",
   "metadata": {},
   "source": [
    "# Evaluate search\n",
    "Compute search precision, recall, mAP perfomance. \n",
    "\n",
    "PrecisionRecallAveragePrecisionEvaluator builds perfomance_arr of shape(4, n_nearest), where:\n",
    "- perfomance_arr[0,:] - n_nearest cutoffs\n",
    "- perfomance_arr[1,:] - precisions\n",
    "- perfomance_arr[2,:] - recalls\n",
    "- perfomance_arr[3,:] - mAPs\n",
    "\n",
    "Here we will save such arrays in csv files (one perfoamnce_arr - one file)"
   ]
  },
  {
   "cell_type": "code",
   "execution_count": 13,
   "metadata": {
    "collapsed": true
   },
   "outputs": [],
   "source": [
    "def evaluate_search(dir_with_neighbors_ids, dir_for_search_perfomance):\n",
    "    files_with_neighbor_ids=os.listdir(dir_with_neighbors_ids)\n",
    "    for file_name in files_with_neighbor_ids:\n",
    "        info_part=os.path.splitext(os.path.basename(file_name))[0]\n",
    "        print(info_part)\n",
    "        search_perfomance_file_name=info_part + '_' + 'perfomance-mean'\n",
    "        search_perfomance_path=pjoin(dir_for_search_perfomance,search_perfomance_file_name)\n",
    "#         print(search_perfomance_path)\n",
    "        search_perfomance_ds=ds.CSVDataStore(search_perfomance_path)\n",
    "    \n",
    "        neighbors_ids_path=pjoin(dir_with_neighbors_ids, file_name)\n",
    "#         print(neighbors_ids_path)\n",
    "        neighbors_ids_ds=ds.CSVDataStore(neighbors_ids_path, ndarray_elem_type_read='int32')\n",
    "        \n",
    "        ground_truth = BrodatzGroundTruth()\n",
    "        evaluator = PrecisionRecallAveragePrecisionEvaluator(ground_truth)\n",
    "        \n",
    "        steps.evaluation_step(neighbors_ids_ds,evaluator, search_perfomance_ds)"
   ]
  },
  {
   "cell_type": "code",
   "execution_count": 14,
   "metadata": {
    "collapsed": false
   },
   "outputs": [
    {
     "name": "stdout",
     "output_type": "stream",
     "text": [
      "bovwsiftbincounts_pq-128-1_ex-neighbors-ids\n",
      "bovwsiftbincounts_pq-128-2_ex-neighbors-ids\n",
      "bovwsiftbincounts_pq-16-1_ex-neighbors-ids\n",
      "bovwsiftbincounts_pq-16-2_ex-neighbors-ids\n",
      "bovwsiftbincounts_pq-16-4_ex-neighbors-ids\n",
      "bovwsiftbincounts_pq-256-1_ex-neighbors-ids\n",
      "bovwsiftbincounts_pq-256-2_ex-neighbors-ids\n",
      "bovwsiftbincounts_pq-32-1_ex-neighbors-ids\n",
      "bovwsiftbincounts_pq-32-2_ex-neighbors-ids\n",
      "bovwsiftbincounts_pq-64-1_ex-neighbors-ids\n",
      "bovwsiftbincounts_pq-64-2_ex-neighbors-ids\n",
      "bovwsiftproductbincounts-pq-128-2_ex-neighbors-ids\n",
      "bovwsiftproductbincounts-pq-16-1_ex-neighbors-ids\n",
      "bovwsiftproductbincounts-pq-16-2_ex-neighbors-ids\n",
      "bovwsiftproductbincounts-pq-256-2_ex-neighbors-ids\n",
      "bovwsiftproductbincounts-pq-256-4_ex-neighbors-ids\n",
      "bovwsiftproductbincounts_pq-128-16_ex-neighbors-ids\n",
      "bovwsiftproductbincounts_pq-128-1_ex-neighbors-ids\n",
      "bovwsiftproductbincounts_pq-128-2_ex-neighbors-ids\n",
      "bovwsiftproductbincounts_pq-128-4_ex-neighbors-ids\n",
      "bovwsiftproductbincounts_pq-128-8_ex-neighbors-ids\n",
      "bovwsiftproductbincounts_pq-16-16_ex-neighbors-ids\n",
      "bovwsiftproductbincounts_pq-16-1_ex-neighbors-ids\n",
      "bovwsiftproductbincounts_pq-16-2_ex-neighbors-ids\n",
      "bovwsiftproductbincounts_pq-16-4_ex-neighbors-ids\n",
      "bovwsiftproductbincounts_pq-16-8_ex-neighbors-ids\n",
      "bovwsiftproductbincounts_pq-256-16_ex-neighbors-ids\n",
      "bovwsiftproductbincounts_pq-256-1_ex-neighbors-ids\n",
      "bovwsiftproductbincounts_pq-256-2_ex-neighbors-ids\n",
      "bovwsiftproductbincounts_pq-256-4_ex-neighbors-ids\n",
      "bovwsiftproductbincounts_pq-256-8_ex-neighbors-ids\n",
      "bovwsiftproductbincounts_pq-32-16_ex-neighbors-ids\n",
      "bovwsiftproductbincounts_pq-32-1_ex-neighbors-ids\n",
      "bovwsiftproductbincounts_pq-32-2_ex-neighbors-ids\n",
      "bovwsiftproductbincounts_pq-32-4_ex-neighbors-ids\n",
      "bovwsiftproductbincounts_pq-32-8_ex-neighbors-ids\n",
      "bovwsiftproductbincounts_pq-64-16_ex-neighbors-ids\n",
      "bovwsiftproductbincounts_pq-64-1_ex-neighbors-ids\n",
      "bovwsiftproductbincounts_pq-64-2_ex-neighbors-ids\n",
      "bovwsiftproductbincounts_pq-64-4_ex-neighbors-ids\n",
      "bovwsiftproductbincounts_pq-64-8_ex-neighbors-ids\n",
      "glcms_ex-neighbors-ids\n",
      "histograms_ex-neighbors-ids\n",
      "lbhistograms_ex-neighbors-ids\n"
     ]
    }
   ],
   "source": [
    "evaluate_search(pjoin(base_dir,'ex-neighbors-ids'), pjoin(base_dir, 'ex-search-perfomance-mean'))"
   ]
  },
  {
   "cell_type": "code",
   "execution_count": 35,
   "metadata": {
    "collapsed": true
   },
   "outputs": [],
   "source": [
    "evaluate_search(pjoin(base_dir,'adc-neighbors-ids','histograms'), pjoin(base_dir, 'adc-search-perfomance-mean','histograms'))\n",
    "evaluate_search(pjoin(base_dir,'adc-neighbors-ids','lbphistograms'), pjoin(base_dir, 'adc-search-perfomance-mean','lbphistograms'))\n",
    "evaluate_search(pjoin(base_dir,'adc-neighbors-ids','glcms'), pjoin(base_dir, 'adc-search-perfomance-mean','glcms'))"
   ]
  },
  {
   "cell_type": "code",
   "execution_count": 4,
   "metadata": {
    "collapsed": true
   },
   "outputs": [],
   "source": [
    "evaluate_search(pjoin(base_dir,'sdc-neighbors-ids','histograms'), pjoin(base_dir, 'sdc-search-perfomance-mean','histograms'))\n",
    "evaluate_search(pjoin(base_dir,'sdc-neighbors-ids','lbphistograms'), pjoin(base_dir, 'sdc-search-perfomance-mean','lbphistograms'))\n",
    "evaluate_search(pjoin(base_dir,'sdc-neighbors-ids','glcms'), pjoin(base_dir, 'sdc-search-perfomance-mean','glcms'))"
   ]
  },
  {
   "cell_type": "code",
   "execution_count": 7,
   "metadata": {
    "collapsed": true
   },
   "outputs": [],
   "source": [
    "evaluate_search(pjoin(base_dir,'imi-neighbors-ids','histograms'), pjoin(base_dir, 'imi-search-perfomance-mean','histograms'))\n",
    "evaluate_search(pjoin(base_dir,'imi-neighbors-ids','lbphistograms'), pjoin(base_dir, 'imi-search-perfomance-mean','lbphistograms'))\n",
    "evaluate_search(pjoin(base_dir,'imi-neighbors-ids','glcms'), pjoin(base_dir, 'imi-search-perfomance-mean','glcms'))"
   ]
  }
 ],
 "metadata": {
  "kernelspec": {
   "display_name": "Python 3",
   "language": "python",
   "name": "python3"
  },
  "language_info": {
   "codemirror_mode": {
    "name": "ipython",
    "version": 3
   },
   "file_extension": ".py",
   "mimetype": "text/x-python",
   "name": "python",
   "nbconvert_exporter": "python",
   "pygments_lexer": "ipython3",
   "version": "3.5.2"
  }
 },
 "nbformat": 4,
 "nbformat_minor": 0
}
