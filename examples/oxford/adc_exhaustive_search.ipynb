{
 "cells": [
  {
   "cell_type": "code",
   "execution_count": 1,
   "metadata": {
    "collapsed": false
   },
   "outputs": [],
   "source": [
    "import import_hack\n",
    "import numpy as np\n",
    "import core.steps as steps\n",
    "from core import data_store as ds\n",
    "from core import transformer as tr\n",
    "from core.common.ds_utils import print_ds_items_info\n",
    "from os.path import join as pjoin\n",
    "from core.search.exhaustive_searcher import ExhaustiveSearcher\n",
    "from core.quantization.pq_quantizer import PQQuantizer, restore_from_clusters, build_pq_params_str\n",
    "from core.metric.asymmetric_distance_computer import AsymmetricDistanceComputer\n",
    "%load_ext autoreload\n",
    "%autoreload 2"
   ]
  },
  {
   "cell_type": "code",
   "execution_count": 2,
   "metadata": {
    "collapsed": false
   },
   "outputs": [],
   "source": [
    "global_descriptors_base_dir=r'C:\\data\\computation\\brodatz\\global_descriptors'"
   ]
  },
  {
   "cell_type": "markdown",
   "metadata": {},
   "source": [
    "#### Setup global descriptors datastores\n",
    "descriptors have been computed in global_descriptor__compute_from_image "
   ]
  },
  {
   "cell_type": "code",
   "execution_count": 3,
   "metadata": {
    "collapsed": false
   },
   "outputs": [],
   "source": [
    "histograms_ds = ds.SQLiteTableDataStore(pjoin(global_descriptors_base_dir, 'histograms'))\n",
    "lbphistograms_ds = ds.SQLiteTableDataStore(pjoin(global_descriptors_base_dir, 'lbphistograms'))\n",
    "glcms_ds = ds.SQLiteTableDataStore(pjoin(global_descriptors_base_dir, 'glcms'))"
   ]
  },
  {
   "cell_type": "markdown",
   "metadata": {},
   "source": [
    "# ADC exhaustive search"
   ]
  },
  {
   "cell_type": "code",
   "execution_count": 4,
   "metadata": {
    "collapsed": true
   },
   "outputs": [],
   "source": [
    "K_arr = [2 ** i for i in [4,5,6,7,8]]\n",
    "m_arr = [m for m in [1, 2, 4, 8, 16]]\n",
    "pq_params_arr = [{'n_clusters': K, 'n_quantizers': m} for K in K_arr for m in m_arr]"
   ]
  },
  {
   "cell_type": "code",
   "execution_count": 5,
   "metadata": {
    "collapsed": true
   },
   "outputs": [],
   "source": [
    "def adc_search(pq_params, centroids_prefix_path, pqcodes_prefix_path, query_descriptors_ds, prefix_for_neighbords_ids):\n",
    "    pq_params_str = build_pq_params_str(pq_params)\n",
    "    quantizer = PQQuantizer(**pq_params)\n",
    "\n",
    "    centroids_path = centroids_prefix_path + \"_\" + pq_params_str + '_centroids'\n",
    "    centroids_ds = ds.SQLiteTableDataStore(centroids_path)\n",
    "    centroids = ds.get_as_array(centroids_ds)\n",
    "    centroids = get_as_array(centroids_ds)\n",
    "    \n",
    "    metric = AsymmetricDistanceComputer(centroids)\n",
    "    \n",
    "    pqcodes_path = pqcodes_prefix_path + \"_\" + pq_params_str + '_pqcodes'\n",
    "    pqcodes_ds = ds.SQLiteTableDataStore(pqcodes_path, ndarray_bytes_only=True)\n",
    "    ids, pqcodes = ds.get_as_array(pqcodes_ds, return_ids=True)\n",
    "    \n",
    "    searcher_ = ExhaustiveSearcher(pqcodes, ids, metric=metric)\n",
    "    n_nearest = 25\n",
    "\n",
    "    neighbors_ids_filepath = prefix_for_neighbords_ids + \"_\" + pq_params_str + '_adc-neighbors-ids'\n",
    "    neighbors_ids_ds = ds.CSVDataStore(neighbors_ids_filepath)\n",
    "    \n",
    "    steps.search_step(query_descriptors_ds, searcher_, n_nearest, neighbors_ids_ds)"
   ]
  },
  {
   "cell_type": "code",
   "execution_count": 6,
   "metadata": {
    "collapsed": true
   },
   "outputs": [],
   "source": [
    "def build_prefix_pathes(base_dir, descriptors_name):\n",
    "    centroids_prefix_path=pjoin(global_descriptors_base_dir, 'centroids', descriptors_name, descriptors_name)\n",
    "    pqcodes_prefix_paths=pjoin(global_descriptors_base_dir, 'pqcodes',descriptors_name,descriptors_name)\n",
    "    prefix_for_neighbords_ids=pjoin(global_descriptors_base_dir, 'adc-neighbors-ids',descriptors_name,descriptors_name)\n",
    "    return centroids_prefix_path, pqcodes_prefix_paths, prefix_for_neighbords_ids"
   ]
  },
  {
   "cell_type": "code",
   "execution_count": 28,
   "metadata": {
    "collapsed": false
   },
   "outputs": [],
   "source": [
    "centroids_prefix_path, pqcodes_prefix_paths, prefix_for_neighbords_ids=build_prefix_pathes(global_descriptors_base_dir, 'histograms')\n",
    "for pq_params in pq_params_arr:\n",
    "    adc_search(pq_params, centroids_prefix_path, pqcodes_prefix_paths, histograms_ds, prefix_for_neighbords_ids)"
   ]
  },
  {
   "cell_type": "code",
   "execution_count": 8,
   "metadata": {
    "collapsed": false
   },
   "outputs": [],
   "source": [
    "centroids_prefix_path, pqcodes_prefix_paths, prefix_for_neighbords_ids=build_prefix_pathes(global_descriptors_base_dir, 'lbphistograms')\n",
    "for pq_params in pq_params_arr:\n",
    "    adc_search(pq_params, centroids_prefix_path, pqcodes_prefix_paths, lbphistograms_ds, prefix_for_neighbords_ids)"
   ]
  },
  {
   "cell_type": "code",
   "execution_count": 9,
   "metadata": {
    "collapsed": true
   },
   "outputs": [],
   "source": [
    "centroids_prefix_path, pqcodes_prefix_paths, prefix_for_neighbords_ids=build_prefix_pathes(global_descriptors_base_dir, 'glcms')\n",
    "for pq_params in pq_params_arr:\n",
    "    adc_search(pq_params, centroids_prefix_path, pqcodes_prefix_paths, glcms_ds, prefix_for_neighbords_ids)"
   ]
  }
 ],
 "metadata": {
  "kernelspec": {
   "display_name": "Python 3",
   "language": "python",
   "name": "python3"
  },
  "language_info": {
   "codemirror_mode": {
    "name": "ipython",
    "version": 3
   },
   "file_extension": ".py",
   "mimetype": "text/x-python",
   "name": "python",
   "nbconvert_exporter": "python",
   "pygments_lexer": "ipython3",
   "version": "3.5.2"
  }
 },
 "nbformat": 4,
 "nbformat_minor": 0
}
