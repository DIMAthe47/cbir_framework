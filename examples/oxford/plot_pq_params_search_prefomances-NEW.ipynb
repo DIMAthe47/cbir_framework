{
 "cells": [
  {
   "cell_type": "code",
   "execution_count": 10,
   "metadata": {
    "collapsed": false
   },
   "outputs": [
    {
     "name": "stdout",
     "output_type": "stream",
     "text": [
      "The autoreload extension is already loaded. To reload it, use:\n",
      "  %reload_ext autoreload\n"
     ]
    }
   ],
   "source": [
    "# %matplotlib inline  \n",
    "import import_hack\n",
    "import numpy as np\n",
    "import core.steps as steps\n",
    "from core import data_store as ds\n",
    "from core.common.ds_utils import print_ds_items_info\n",
    "from os.path import join as pjoin\n",
    "from core.evaluation.retrieval_perfomance import extract_perfomances_from_arr\n",
    "from core.common.path_helper import DataStoreHelper\n",
    "import math\n",
    "import os\n",
    "%load_ext autoreload\n",
    "%autoreload 2"
   ]
  },
  {
   "cell_type": "code",
   "execution_count": 11,
   "metadata": {
    "collapsed": false
   },
   "outputs": [],
   "source": [
    "ds_helper=DataStoreHelper(r'C:\\data\\computation\\brodatz')"
   ]
  },
  {
   "cell_type": "markdown",
   "metadata": {},
   "source": [
    "# Plot search perfomance wtih respect to pq params"
   ]
  },
  {
   "cell_type": "code",
   "execution_count": 21,
   "metadata": {
    "collapsed": false
   },
   "outputs": [],
   "source": [
    "def plot_pq_search_params_perfomance(search_type, descriptor_name, pq_params_arr, perfomance_type, n_nearest_cutoffs, save_to_file=False):\n",
    "    subplotname__label__x__y = {}\n",
    "    label__kwargs={}\n",
    "    for n_nearest in n_nearest_cutoffs:\n",
    "        label__x__y=subplotname__label__x__y.setdefault(n_nearest,{})\n",
    "        for pq_params in pq_params_arr:\n",
    "            perfomances_ds = ds_helper.pq_search_perfomances_ds(search_type, descriptor_name, pq_params)\n",
    "            perfomance_arr = ds_helper.perfomance_arr(perfomances_ds)\n",
    "            y = extract_perfomances_from_arr(perfomance_arr, perfomance_type)[n_nearest-1]\n",
    "            label = pq_params['n_quantizers']\n",
    "            x__y = label__x__y.setdefault(label, {})\n",
    "            x = pq_params['n_clusters']\n",
    "            x__y[x] = y\n",
    "            label__kwargs[label]={'linestyle':'dashed'}\n",
    "\n",
    "        original_ex_search_perfomances_ds=ds_helper.ex_search_perfomances_ds(descriptor_name)\n",
    "        original_ex_search_perfomance_arr=ds_helper.perfomance_arr(original_ex_search_perfomances_ds)\n",
    "        y=extract_perfomances_from_arr(original_ex_search_perfomance_arr, perfomance_type)[n_nearest-1]\n",
    "        label__x__y[0]={pq_params['n_clusters']:y for pq_params in pq_params_arr}\n",
    "        label__kwargs[0]={'linewidth':3.0}\n",
    "    \n",
    "    if save_to_file:\n",
    "        plot_path=ds_helper.pq_search_perfomances_plot_path(search_type, descriptor_name, perfomance_type)\n",
    "    else:\n",
    "        plot_path=None\n",
    "    label_callback=lambda label: 'original' if label==0 else 'm = {}'.format(label)\n",
    "    steps.plotting_step3(subplotname__label__x__y, 'n_nearest: ', label_callback, 'k', perfomance_type, save_to_file=plot_path, label__kwargs=label__kwargs)"
   ]
  },
  {
   "cell_type": "code",
   "execution_count": 14,
   "metadata": {
    "collapsed": false
   },
   "outputs": [],
   "source": [
    "K_arr = [2 ** i for i in [4,5,6,7,8]]\n",
    "m_arr = [m for m in [1, 2, 4, 8, 16]]\n",
    "pq_params_arr = [{'n_clusters': K, 'n_quantizers': m} for K in K_arr for m in m_arr]\n",
    "\n",
    "bytes_free=1 << 34\n",
    "imi_pq_params_arr = [{'n_clusters': K, 'n_quantizers': m} for K in K_arr for m in m_arr if 4 * K ** m < bytes_free]\n",
    "imi_pq_params_arr.remove({'n_clusters': 128, 'n_quantizers': 4})"
   ]
  },
  {
   "cell_type": "code",
   "execution_count": 15,
   "metadata": {
    "collapsed": true
   },
   "outputs": [],
   "source": [
    "n_nearest=25\n",
    "n_nearest_cutoffs=[1,5,10,25]"
   ]
  },
  {
   "cell_type": "code",
   "execution_count": 16,
   "metadata": {
    "collapsed": false,
    "scrolled": true
   },
   "outputs": [],
   "source": [
    "plot_pq_search_params_perfomance('sdc', 'histograms', pq_params_arr, 'precision', n_nearest_cutoffs)"
   ]
  },
  {
   "cell_type": "code",
   "execution_count": null,
   "metadata": {
    "collapsed": false
   },
   "outputs": [],
   "source": [
    "plot_pq_search_params_perfomance('sdc', 'histograms', pq_params_arr, 'recall', n_nearest_cutoffs)\n",
    "plot_pq_search_params_perfomance('sdc', 'histograms', pq_params_arr, 'mAP', n_nearest_cutoffs)"
   ]
  },
  {
   "cell_type": "code",
   "execution_count": null,
   "metadata": {
    "collapsed": false
   },
   "outputs": [],
   "source": [
    "plot_pq_search_params_perfomance('sdc', 'glcms', pq_params_arr, 'precision', n_nearest_cutoffs)\n",
    "plot_pq_search_params_perfomance('sdc', 'lbphistograms', pq_params_arr, 'precision', n_nearest_cutoffs)"
   ]
  },
  {
   "cell_type": "code",
   "execution_count": 9,
   "metadata": {
    "collapsed": false
   },
   "outputs": [],
   "source": [
    "plot_pq_search_params_perfomance('adc', 'histograms', pq_params_arr, 'precision', n_nearest_cutoffs)\n",
    "plot_pq_search_params_perfomance('adc', 'histograms', pq_params_arr, 'recall', n_nearest_cutoffs)"
   ]
  },
  {
   "cell_type": "code",
   "execution_count": null,
   "metadata": {
    "collapsed": false
   },
   "outputs": [],
   "source": [
    "plot_pq_search_params_perfomance('adc', 'glcms', pq_params_arr, 'precision', n_nearest_cutoffs)\n",
    "plot_pq_search_params_perfomance('adc', 'glcms', pq_params_arr, 'recall', n_nearest_cutoffs)"
   ]
  },
  {
   "cell_type": "code",
   "execution_count": 8,
   "metadata": {
    "collapsed": true
   },
   "outputs": [],
   "source": [
    "plot_pq_search_params_perfomance('imi', 'histograms', imi_pq_params_arr, 'precision', n_nearest_cutoffs)"
   ]
  },
  {
   "cell_type": "code",
   "execution_count": 9,
   "metadata": {
    "collapsed": true
   },
   "outputs": [],
   "source": [
    "plot_pq_search_params_perfomance('imi', 'histograms', imi_pq_params_arr, 'recall', n_nearest_cutoffs)"
   ]
  },
  {
   "cell_type": "code",
   "execution_count": 18,
   "metadata": {
    "collapsed": true
   },
   "outputs": [],
   "source": [
    "descriptor_names=['histograms', 'lbphistograms', 'glcms']\n",
    "choosen_bovwproductbincounts_pq_params= [{'n_clusters': K, 'n_quantizers': m} for K,m in [(64,4),(128,1),(16,1)]]\n",
    "descriptor_names+=ds_helper.bovw_descriptors_names('bovwproductbincounts',choosen_bovwproductbincounts_pq_params)"
   ]
  },
  {
   "cell_type": "code",
   "execution_count": 19,
   "metadata": {
    "collapsed": true
   },
   "outputs": [],
   "source": [
    "perfomance_names=['precision', 'recall', 'mAP']"
   ]
  },
  {
   "cell_type": "code",
   "execution_count": 20,
   "metadata": {
    "collapsed": false
   },
   "outputs": [],
   "source": [
    "for descriptor_name in descriptor_names:\n",
    "    for perfomance_name in perfomance_names:\n",
    "        plot_pq_search_params_perfomance('adc', descriptor_name, pq_params_arr, perfomance_name, n_nearest_cutoffs, save_to_file=True)\n",
    "        plot_pq_search_params_perfomance('sdc', descriptor_name, pq_params_arr, perfomance_name, n_nearest_cutoffs, save_to_file=True)\n",
    "        plot_pq_search_params_perfomance('imi', descriptor_name, imi_pq_params_arr, perfomance_name, n_nearest_cutoffs, save_to_file=True)"
   ]
  },
  {
   "cell_type": "code",
   "execution_count": null,
   "metadata": {
    "collapsed": true
   },
   "outputs": [],
   "source": []
  }
 ],
 "metadata": {
  "kernelspec": {
   "display_name": "Python 3",
   "language": "python",
   "name": "python3"
  },
  "language_info": {
   "codemirror_mode": {
    "name": "ipython",
    "version": 3
   },
   "file_extension": ".py",
   "mimetype": "text/x-python",
   "name": "python",
   "nbconvert_exporter": "python",
   "pygments_lexer": "ipython3",
   "version": "3.5.2"
  }
 },
 "nbformat": 4,
 "nbformat_minor": 0
}
