{
 "cells": [
  {
   "cell_type": "code",
   "execution_count": 10,
   "metadata": {
    "collapsed": false
   },
   "outputs": [
    {
     "name": "stdout",
     "output_type": "stream",
     "text": [
      "The autoreload extension is already loaded. To reload it, use:\n",
      "  %reload_ext autoreload\n"
     ]
    }
   ],
   "source": [
    "import import_hack\n",
    "import numpy as np\n",
    "import core.steps as steps\n",
    "from core import data_store as ds\n",
    "from core import transformer as tr\n",
    "from core.common.ds_utils import print_ds_items_info\n",
    "from os.path import join as pjoin\n",
    "%load_ext autoreload\n",
    "%autoreload 2"
   ]
  },
  {
   "cell_type": "code",
   "execution_count": 11,
   "metadata": {
    "collapsed": true
   },
   "outputs": [],
   "source": [
    "local_descriptors_base_dir=r'C:\\data\\computation\\brodatz\\local_descriptors'"
   ]
  },
  {
   "cell_type": "markdown",
   "metadata": {},
   "source": [
    "#### Setup local descriptors sample datastores\n",
    "descriptors where computed in local_descriptor__compute_from_image"
   ]
  },
  {
   "cell_type": "code",
   "execution_count": 12,
   "metadata": {
    "collapsed": false
   },
   "outputs": [],
   "source": [
    "sifts_ds = ds.SQLiteTableDataStore(pjoin(local_descriptors_base_dir, 'siftid_sift_imgid'), 'siftid_sift_imgid')"
   ]
  },
  {
   "cell_type": "markdown",
   "metadata": {},
   "source": [
    "# Sampling"
   ]
  },
  {
   "cell_type": "code",
   "execution_count": 13,
   "metadata": {
    "collapsed": true
   },
   "outputs": [],
   "source": [
    "sample_part=0.3\n",
    "sifts_sample_ds = ds.SQLiteTableDataStore(pjoin(local_descriptors_base_dir, 'sifts_sample-{}'.format(sample_part)))\n",
    "steps.sampling_step(sifts_ds, sample_part, sifts_sample_ds)"
   ]
  },
  {
   "cell_type": "code",
   "execution_count": 14,
   "metadata": {
    "collapsed": false,
    "scrolled": true
   },
   "outputs": [
    {
     "name": "stdout",
     "output_type": "stream",
     "text": [
      "count of items in ds:  826845\n",
      "shape of item[0]:  (128,)\n",
      "shape of item[1]:  (128,)\n",
      "shape of item[2]:  (128,)\n",
      "count of items in ds:  248053\n",
      "shape of item[0]:  (128,)\n",
      "shape of item[1]:  (128,)\n",
      "shape of item[2]:  (128,)\n"
     ]
    }
   ],
   "source": [
    "print_ds_items_info(sifts_ds)\n",
    "print_ds_items_info(sifts_sample_ds)"
   ]
  }
 ],
 "metadata": {
  "kernelspec": {
   "display_name": "Python 3",
   "language": "python",
   "name": "python3"
  },
  "language_info": {
   "codemirror_mode": {
    "name": "ipython",
    "version": 3
   },
   "file_extension": ".py",
   "mimetype": "text/x-python",
   "name": "python",
   "nbconvert_exporter": "python",
   "pygments_lexer": "ipython3",
   "version": "3.5.2"
  }
 },
 "nbformat": 4,
 "nbformat_minor": 0
}
