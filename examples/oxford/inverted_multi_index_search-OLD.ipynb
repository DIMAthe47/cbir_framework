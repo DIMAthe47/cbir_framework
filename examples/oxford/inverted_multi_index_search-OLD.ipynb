{
 "cells": [
  {
   "cell_type": "code",
   "execution_count": 10,
   "metadata": {
    "collapsed": false
   },
   "outputs": [
    {
     "name": "stdout",
     "output_type": "stream",
     "text": [
      "The autoreload extension is already loaded. To reload it, use:\n",
      "  %reload_ext autoreload\n"
     ]
    }
   ],
   "source": [
    "import import_hack\n",
    "import numpy as np\n",
    "import core.steps as steps\n",
    "from core import data_store as ds\n",
    "from core import transformer as tr\n",
    "from core.common.ds_utils import print_ds_items_info\n",
    "from os.path import join as pjoin\n",
    "from core.search.inverted_multi_index_searcher import InvertedMultiIndexSearcher\n",
    "from core.quantization.pq_quantizer import PQQuantizer, restore_from_clusters, build_pq_params_str\n",
    "from core.metric.symmetric_distance_computer import SymmetricDistanceComputer\n",
    "%load_ext autoreload\n",
    "%autoreload 2"
   ]
  },
  {
   "cell_type": "code",
   "execution_count": 11,
   "metadata": {
    "collapsed": false
   },
   "outputs": [],
   "source": [
    "base_dir=r'C:\\data\\computation\\brodatz\\global_descriptors'"
   ]
  },
  {
   "cell_type": "markdown",
   "metadata": {},
   "source": [
    "#### Setup global descriptors datastores\n",
    "descriptors have been computed in global_descriptor__compute_from_image "
   ]
  },
  {
   "cell_type": "code",
   "execution_count": 12,
   "metadata": {
    "collapsed": false
   },
   "outputs": [],
   "source": [
    "histograms_ds = ds.SQLiteTableDataStore(pjoin(base_dir, 'histograms'))\n",
    "lbphistograms_ds = ds.SQLiteTableDataStore(pjoin(base_dir, 'lbphistograms'))\n",
    "glcms_ds = ds.SQLiteTableDataStore(pjoin(base_dir, 'glcms'))"
   ]
  },
  {
   "cell_type": "markdown",
   "metadata": {},
   "source": [
    "# Inverted multi-index search"
   ]
  },
  {
   "cell_type": "code",
   "execution_count": 13,
   "metadata": {
    "collapsed": false
   },
   "outputs": [],
   "source": [
    "K_arr = [2 ** i for i in [4,5,6,7,8]]\n",
    "m_arr = [m for m in [1, 2, 4, 8, 16]]\n",
    "# inverted multi-index will take 4 * K ** m bytes of memory, so we need to put restrictions on pq_params\n",
    "bytes_free=1 << 34\n",
    "pq_params_arr = [{'n_clusters': K, 'n_quantizers': m} for K in K_arr for m in m_arr if 4 * K ** m < bytes_free]"
   ]
  },
  {
   "cell_type": "code",
   "execution_count": 14,
   "metadata": {
    "collapsed": true
   },
   "outputs": [],
   "source": [
    "def imi_search(pq_params, descriptors_name, query_descriptors_ds):\n",
    "    pq_params_str = build_pq_params_str(pq_params)\n",
    "    quantizer = PQQuantizer(**pq_params)\n",
    "\n",
    "    centroids_path = pjoin(base_dir, 'centroids', descriptors_name, descriptors_name) + \"_\" + pq_params_str + '_centroids'\n",
    "    centroids_ds = ds.SQLiteTableDataStore(centroids_path)\n",
    "    centroids = ds.get_as_array(centroids_ds)\n",
    "  \n",
    "    pqcodes_path = pjoin(base_dir, 'pqcodes', descriptors_name, descriptors_name) + \"_\" + pq_params_str + '_pqcodes'\n",
    "    pqcodes_ds = ds.SQLiteTableDataStore(pqcodes_path, ndarray_bytes_only=True)\n",
    "    ids, pqcodes = ds.get_as_array(pqcodes_ds, return_ids=True)\n",
    "    \n",
    "    searcher_ = InvertedMultiIndexSearcher(ids, centroids, x_pqcodes=pqcodes)\n",
    "    n_nearest = 25\n",
    "\n",
    "    neighbors_ids_filepath = pjoin(base_dir, 'imi-neighbors-ids', descriptors_name, descriptors_name) + \"_\" + pq_params_str + '_imi-neighbors-ids'\n",
    "    neighbors_ids_ds = ds.CSVDataStore(neighbors_ids_filepath)\n",
    "    \n",
    "    steps.search_step(query_descriptors_ds, searcher_, n_nearest, neighbors_ids_ds)"
   ]
  },
  {
   "cell_type": "code",
   "execution_count": 16,
   "metadata": {
    "collapsed": false
   },
   "outputs": [],
   "source": [
    "for pq_params in pq_params_arr:\n",
    "    imi_search(pq_params, 'histograms', histograms_ds)"
   ]
  },
  {
   "cell_type": "code",
   "execution_count": 18,
   "metadata": {
    "collapsed": false
   },
   "outputs": [],
   "source": [
    "for pq_params in pq_params_arr:\n",
    "    imi_search(pq_params, 'lbphistograms', lbphistograms_ds)"
   ]
  },
  {
   "cell_type": "code",
   "execution_count": 19,
   "metadata": {
    "collapsed": true
   },
   "outputs": [],
   "source": [
    "for pq_params in pq_params_arr:\n",
    "    imi_search(pq_params, 'glcms', glcms_ds)"
   ]
  },
  {
   "cell_type": "code",
   "execution_count": null,
   "metadata": {
    "collapsed": true
   },
   "outputs": [],
   "source": []
  }
 ],
 "metadata": {
  "kernelspec": {
   "display_name": "Python 3",
   "language": "python",
   "name": "python3"
  },
  "language_info": {
   "codemirror_mode": {
    "name": "ipython",
    "version": 3
   },
   "file_extension": ".py",
   "mimetype": "text/x-python",
   "name": "python",
   "nbconvert_exporter": "python",
   "pygments_lexer": "ipython3",
   "version": "3.5.2"
  }
 },
 "nbformat": 4,
 "nbformat_minor": 0
}
