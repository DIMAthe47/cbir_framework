{
 "cells": [
  {
   "cell_type": "code",
   "execution_count": 14,
   "metadata": {
    "collapsed": false
   },
   "outputs": [
    {
     "name": "stdout",
     "output_type": "stream",
     "text": [
      "The autoreload extension is already loaded. To reload it, use:\n",
      "  %reload_ext autoreload\n"
     ]
    }
   ],
   "source": [
    "import import_hack\n",
    "import numpy as np\n",
    "import core.steps as steps\n",
    "from core import data_store as ds\n",
    "from core import transformer as tr\n",
    "from core.common.ds_utils import print_ds_items_info\n",
    "from os.path import join as pjoin\n",
    "from core.search.exhaustive_searcher import ExhaustiveSearcher\n",
    "from core.quantization.pq_quantizer import PQQuantizer, restore_from_clusters, build_pq_params_str\n",
    "%load_ext autoreload\n",
    "%autoreload 2"
   ]
  },
  {
   "cell_type": "code",
   "execution_count": 2,
   "metadata": {
    "collapsed": false
   },
   "outputs": [],
   "source": [
    "global_descriptors_base_dir=r'C:\\data\\computation\\brodatz\\global_descriptors'"
   ]
  },
  {
   "cell_type": "markdown",
   "metadata": {},
   "source": [
    "#### Setup global descriptors datastores\n",
    "descriptors have been computed in global_descriptor__compute_from_image "
   ]
  },
  {
   "cell_type": "code",
   "execution_count": 12,
   "metadata": {
    "collapsed": false
   },
   "outputs": [],
   "source": [
    "histograms_ds = ds.SQLiteTableDataStore(pjoin(global_descriptors_base_dir, 'histograms'))\n",
    "lbphistograms_ds = ds.SQLiteTableDataStore(pjoin(global_descriptors_base_dir, 'lbphistograms'))\n",
    "glcms_ds = ds.SQLiteTableDataStore(pjoin(global_descriptors_base_dir, 'glcms'))\n",
    "bovwsiftbincounts_256_2_ds = ds.SQLiteTableDataStore(pjoin(global_descriptors_base_dir, 'bovwsiftbincounts_pq-256-2'))\n",
    "bovwsiftbincounts_16_1_ds = ds.SQLiteTableDataStore(pjoin(global_descriptors_base_dir, 'bovwsiftbincounts_pq-16-1'))\n",
    "bovwsiftproductbincounts_256_2_ds = ds.SQLiteTableDataStore(pjoin(global_descriptors_base_dir, 'bovwsiftproductbincounts_pq-256-2'))\n",
    "bovwsiftproductbincounts_256_4_ds = ds.SQLiteTableDataStore(pjoin(global_descriptors_base_dir, 'bovwsiftproductbincounts_pq-256-4'))\n",
    "bovwsiftproductbincounts_128_2_ds = ds.SQLiteTableDataStore(pjoin(global_descriptors_base_dir, 'bovwsiftproductbincounts_pq-128-2'))\n",
    "bovwsiftproductbincounts_16_2_ds = ds.SQLiteTableDataStore(pjoin(global_descriptors_base_dir, 'bovwsiftproductbincounts_pq-16-2'))\n",
    "bovwsiftproductbincounts_16_1_ds = ds.SQLiteTableDataStore(pjoin(global_descriptors_base_dir, 'bovwsiftproductbincounts_pq-16-1'))"
   ]
  },
  {
   "cell_type": "markdown",
   "metadata": {},
   "source": [
    "# Exhaustive search"
   ]
  },
  {
   "cell_type": "code",
   "execution_count": 5,
   "metadata": {
    "collapsed": true
   },
   "outputs": [],
   "source": [
    "n_nearest=25"
   ]
  },
  {
   "cell_type": "code",
   "execution_count": 29,
   "metadata": {
    "collapsed": false
   },
   "outputs": [
    {
     "name": "stdout",
     "output_type": "stream",
     "text": [
      "count of items in ds:  999\n",
      "shape of item[0]:  (25,)\n",
      "item[0]:  [   1.    3.    5.    2.    6.    8.    9.    4.   97.   94.   91.   95.\n",
      "  332.   98.   92.  331.  477.  998.  237.  991.  648.  994.   93.  476.\n",
      "  641.]\n",
      "shape of item[1]:  (25,)\n",
      "item[1]:  [   2.    6.    9.    3.    1.    5.   97.   94.    8.   91.   95.   98.\n",
      "   92.  331.  477.   93.  332.  237.  641.  648.   96.  538.  998.  642.\n",
      "  476.]\n",
      "shape of item[2]:  (25,)\n",
      "item[2]:  [   3.    1.    2.    6.    9.    5.    8.   97.   94.   91.   95.   98.\n",
      "   92.  477.    4.  331.  332.  237.  998.   93.  641.  648.  476.  991.\n",
      "  994.]\n"
     ]
    }
   ],
   "source": [
    "neighbors_ids_ds = ds.CSVDataStore(pjoin(global_descriptors_base_dir, 'ex-neighbors-ids','histograms_ex-neighbors-ids'))\n",
    "ids, histograms=ds.get_as_array(histograms_ds, return_ids=True)\n",
    "histogram_exs_searcher=ExhaustiveSearcher(histograms, ids)\n",
    "steps.search_step(histograms_ds, histogram_exs_searcher, n_nearest , neighbors_ids_ds, print_ds_out_info='ndarray')"
   ]
  },
  {
   "cell_type": "code",
   "execution_count": 30,
   "metadata": {
    "collapsed": false
   },
   "outputs": [
    {
     "name": "stdout",
     "output_type": "stream",
     "text": [
      "count of items in ds:  999\n",
      "shape of item[0]:  (25,)\n",
      "item[0]:  [   1.    3.    5.    2.    6.    9.    8.    4.  477.  331.  237.  998.\n",
      "   94.   97.  997.  240.   91.  242.  641.  476.  332.  991.  994.  236.\n",
      "  330.]\n",
      "shape of item[1]:  (25,)\n",
      "item[1]:  [   2.    9.    6.    3.    1.    5.    8.  477.  538.  331.  330.  237.\n",
      "   97.   94.  242.  240.  641.   91.  642.  236.   93.  239.   98.   92.\n",
      "  476.]\n",
      "shape of item[2]:  (25,)\n",
      "item[2]:  [   3.    1.    2.    6.    9.    5.    8.  477.  331.  237.   97.   94.\n",
      "  641.  538.  242.  240.   91.  476.  330.  998.  236.  997.  642.   98.\n",
      "  239.]\n"
     ]
    }
   ],
   "source": [
    "neighbors_ids_ds = ds.CSVDataStore(pjoin(global_descriptors_base_dir, 'ex-neighbors-ids','glcms_ex-neighbors-ids'))\n",
    "ids, glcms=ds.get_as_array(glcms_ds, return_ids=True)\n",
    "glcm_exs_searcher=ExhaustiveSearcher(glcms, ids)\n",
    "steps.search_step(glcms_ds, glcm_exs_searcher, n_nearest , neighbors_ids_ds, print_ds_out_info='ndarray')"
   ]
  },
  {
   "cell_type": "code",
   "execution_count": 31,
   "metadata": {
    "collapsed": false
   },
   "outputs": [
    {
     "name": "stdout",
     "output_type": "stream",
     "text": [
      "count of items in ds:  999\n",
      "shape of item[0]:  (25,)\n",
      "item[0]:  [   1.    2.    3.    4.    6.    5.    7.    9.  845.  842.  843.  844.\n",
      "  841.  790.  792.  442.  962.  444.    8.  780.  258.  961.  445.  261.\n",
      "  830.]\n",
      "shape of item[1]:  (25,)\n",
      "item[1]:  [   2.    3.    1.    4.    6.  845.    5.    7.  842.  843.  844.  841.\n",
      "    9.  846.  839.  830.  790.  838.  559.  792.  961.  567.  962.  258.\n",
      "  261.]\n",
      "shape of item[2]:  (25,)\n",
      "item[2]:  [   3.    4.    2.    1.    6.    5.    7.    9.  842.  841.  845.  844.\n",
      "  843.  961.  962.    8.  258.  790.  830.  792.  261.  113.  839.  263.\n",
      "  567.]\n"
     ]
    }
   ],
   "source": [
    "neighbors_ids_ds = ds.CSVDataStore(pjoin(global_descriptors_base_dir, 'ex-neighbors-ids','lbhistograms_ex-neighbors-ids'))\n",
    "ids, lbhistograms=ds.get_as_array(lbphistograms_ds, return_ids=True)\n",
    "lbphistogram_exs_searcher=ExhaustiveSearcher(lbhistograms, ids)\n",
    "steps.search_step(lbphistograms_ds, lbphistogram_exs_searcher, n_nearest, neighbors_ids_ds, print_ds_out_info='ndarray')"
   ]
  },
  {
   "cell_type": "code",
   "execution_count": 9,
   "metadata": {
    "collapsed": false
   },
   "outputs": [
    {
     "name": "stdout",
     "output_type": "stream",
     "text": [
      "count of items in ds:  999\n",
      "shape of item[0]:  (25,)\n",
      "item[0]:  [   1.    2.    3.  845.  846.  377.  844.  839.  395.    4.  838.  840.\n",
      "    8.  843.  842.  841.  855.  849.    5.  379.  847.  837.    6.  848.\n",
      "  374.]\n",
      "shape of item[1]:  (25,)\n",
      "item[1]:  [   2.    3.    5.    6.    8.    4.  395.  377.    9.  855.  379.  847.\n",
      "  849.  848.  374.  854.  380.  853.  396.    1.  959.  391.  392.  371.\n",
      "  390.]\n",
      "shape of item[2]:  (25,)\n",
      "item[2]:  [   3.    2.    5.    8.    6.    4.  395.  855.  379.  377.  847.  849.\n",
      "  848.    9.  374.  854.  380.  396.  853.  371.    1.  959.  391.  392.\n",
      "  381.]\n"
     ]
    }
   ],
   "source": [
    "neighbors_ids_ds = ds.CSVDataStore(pjoin(global_descriptors_base_dir, 'ex-neighbors-ids','bovwsiftbincounts-pq-256-2_ex-neighbors-ids'))\n",
    "ids, bovwsiftbincounts_256_2=ds.get_as_array(bovwsiftbincounts_256_2_ds, return_ids=True)\n",
    "lbphistogram_exs_searcher=ExhaustiveSearcher(bovwsiftbincounts_256_2, ids)\n",
    "steps.search_step(bovwsiftbincounts_256_2_ds, lbphistogram_exs_searcher, n_nearest, neighbors_ids_ds, print_ds_out_info='ndarray')"
   ]
  },
  {
   "cell_type": "code",
   "execution_count": 11,
   "metadata": {
    "collapsed": false
   },
   "outputs": [
    {
     "name": "stdout",
     "output_type": "stream",
     "text": [
      "count of items in ds:  999\n",
      "shape of item[0]:  (25,)\n",
      "item[0]:  [   1.    2.    8.    3.    4.    5.  849.  395.  855.  377.    7.  847.\n",
      "  837.    6.  848.  845.    9.  846.  379.  842.  838.  388.  389.  371.\n",
      "  854.]\n",
      "shape of item[1]:  (25,)\n",
      "item[1]:  [   2.    3.    5.    8.    6.    9.    4.    1.  849.  855.  395.  847.\n",
      "  848.  377.  374.  854.  837.  371.  379.  853.  396.  836.  388.  380.\n",
      "    7.]\n",
      "shape of item[2]:  (25,)\n",
      "item[2]:  [   3.    2.    5.    8.    6.    9.    4.  855.  849.    1.  847.  395.\n",
      "  848.  854.  374.  377.  371.  379.  853.  396.  837.  380.  388.  836.\n",
      "  394.]\n"
     ]
    }
   ],
   "source": [
    "neighbors_ids_ds = ds.CSVDataStore(pjoin(global_descriptors_base_dir, 'ex-neighbors-ids','bovwsiftproductbincounts-pq-256-2_ex-neighbors-ids'))\n",
    "ids, bovwsiftproductbincounts_256_2=ds.get_as_array(bovwsiftproductbincounts_256_2_ds, return_ids=True)\n",
    "lbphistogram_exs_searcher=ExhaustiveSearcher(bovwsiftproductbincounts_256_2, ids)\n",
    "steps.search_step(bovwsiftproductbincounts_256_2_ds, lbphistogram_exs_searcher, n_nearest, neighbors_ids_ds, print_ds_out_info='ndarray')"
   ]
  },
  {
   "cell_type": "code",
   "execution_count": 14,
   "metadata": {
    "collapsed": false
   },
   "outputs": [
    {
     "name": "stdout",
     "output_type": "stream",
     "text": [
      "count of items in ds:  999\n",
      "shape of item[0]:  (25,)\n",
      "item[0]:  [   1.    2.    4.    3.    8.    5.  377.  395.  837.  855.    6.    7.\n",
      "  849.  847.    9.  848.  379.  374.  371.  853.  389.  838.  836.  396.\n",
      "  854.]\n",
      "shape of item[1]:  (25,)\n",
      "item[1]:  [   2.    3.    5.    6.    8.    9.    4.    1.  395.  855.  377.  837.\n",
      "  849.  847.  848.  374.  836.  379.  853.  396.  854.  371.  380.  835.\n",
      "  392.]\n",
      "shape of item[2]:  (25,)\n",
      "item[2]:  [   3.    2.    5.    6.    8.    9.    4.    1.  855.  395.  849.  848.\n",
      "  847.  377.  837.  374.  379.  836.  853.  371.  854.  396.  380.  835.\n",
      "  392.]\n"
     ]
    }
   ],
   "source": [
    "neighbors_ids_ds = ds.CSVDataStore(pjoin(global_descriptors_base_dir, 'ex-neighbors-ids','bovwsiftproductbincounts-pq-256-4_ex-neighbors-ids'))\n",
    "ids, bovwsiftproductbincounts_256_4=ds.get_as_array(bovwsiftproductbincounts_256_4_ds, return_ids=True)\n",
    "lbphistogram_exs_searcher=ExhaustiveSearcher(bovwsiftproductbincounts_256_4, ids)\n",
    "steps.search_step(bovwsiftproductbincounts_256_4_ds, lbphistogram_exs_searcher, n_nearest, neighbors_ids_ds, print_ds_out_info='ndarray')"
   ]
  },
  {
   "cell_type": "code",
   "execution_count": 6,
   "metadata": {
    "collapsed": false
   },
   "outputs": [
    {
     "name": "stdout",
     "output_type": "stream",
     "text": [
      "count of items in ds:  999\n",
      "shape of item[0]:  (25,)\n",
      "item[0]:  [   1.    2.    8.    3.    4.    5.  849.  847.  395.  855.  848.    7.\n",
      "    6.  377.  389.  837.  388.    9.  394.  854.  853.  371.  396.  845.\n",
      "  379.]\n",
      "shape of item[1]:  (25,)\n",
      "item[1]:  [   2.    3.    5.    8.    6.    9.    1.    4.  849.  847.  855.  395.\n",
      "  848.  854.  837.  371.  377.  836.  374.  853.  388.  396.  392.    7.\n",
      "  379.]\n",
      "shape of item[2]:  (25,)\n",
      "item[2]:  [   3.    2.    5.    6.    8.    9.    4.    1.  849.  855.  847.  848.\n",
      "  395.  854.  371.  836.  837.  374.  396.  853.  377.  392.  850.  379.\n",
      "  388.]\n"
     ]
    }
   ],
   "source": [
    "neighbors_ids_ds = ds.CSVDataStore(pjoin(global_descriptors_base_dir, 'ex-neighbors-ids','bovwsiftproductbincounts-pq-128-2_ex-neighbors-ids'))\n",
    "ids, bovwsiftproductbincounts_128_2=ds.get_as_array(bovwsiftproductbincounts_128_2_ds, return_ids=True)\n",
    "lbphistogram_exs_searcher=ExhaustiveSearcher(bovwsiftproductbincounts_128_2, ids)\n",
    "steps.search_step(bovwsiftproductbincounts_128_2_ds, lbphistogram_exs_searcher, n_nearest, neighbors_ids_ds, print_ds_out_info='ndarray')"
   ]
  },
  {
   "cell_type": "code",
   "execution_count": 8,
   "metadata": {
    "collapsed": false
   },
   "outputs": [
    {
     "name": "stdout",
     "output_type": "stream",
     "text": [
      "count of items in ds:  999\n",
      "shape of item[0]:  (25,)\n",
      "item[0]:  [   1.    2.  394.    4.    3.    8.    5.  389.  388.  847.  849.  848.\n",
      "  855.    7.    6.  854.  850.  392.  396.  395.  852.  853.    9.  956.\n",
      "  851.]\n",
      "shape of item[1]:  (25,)\n",
      "item[1]:  [   2.    3.    5.    6.    8.    9.    1.    4.  394.  852.  847.  388.\n",
      "  854.  850.  848.  855.  849.  396.  392.  853.  832.  851.    7.  836.\n",
      "  834.]\n",
      "shape of item[2]:  (25,)\n",
      "item[2]:  [   3.    2.    5.    6.    8.    9.    1.    4.  394.  852.  847.  850.\n",
      "  854.  848.  388.  855.  396.  849.  392.  853.  851.  832.  395.    7.\n",
      "  390.]\n"
     ]
    }
   ],
   "source": [
    "neighbors_ids_ds = ds.CSVDataStore(pjoin(global_descriptors_base_dir, 'ex-neighbors-ids','bovwsiftproductbincounts-pq-16-2_ex-neighbors-ids'))\n",
    "ids, bovwsiftproductbincounts_16_2=ds.get_as_array(bovwsiftproductbincounts_16_2_ds, return_ids=True)\n",
    "lbphistogram_exs_searcher=ExhaustiveSearcher(bovwsiftproductbincounts_16_2, ids)\n",
    "steps.search_step(bovwsiftproductbincounts_16_2_ds, lbphistogram_exs_searcher, n_nearest, neighbors_ids_ds, print_ds_out_info='ndarray')"
   ]
  },
  {
   "cell_type": "code",
   "execution_count": 11,
   "metadata": {
    "collapsed": false
   },
   "outputs": [
    {
     "name": "stdout",
     "output_type": "stream",
     "text": [
      "count of items in ds:  999\n",
      "shape of item[0]:  (25,)\n",
      "item[0]:  [   1.    4.    2.    8.    3.  394.    5.  849.  847.    7.  848.  855.\n",
      "  388.  389.  854.  850.  852.  395.    6.  396.  392.  853.  851.    9.\n",
      "  390.]\n",
      "shape of item[1]:  (25,)\n",
      "item[1]:  [   2.    3.    8.    5.    6.    9.    1.    4.  847.  834.    7.  855.\n",
      "  832.  852.  848.  849.  388.  854.  833.  396.  850.  836.  392.  394.\n",
      "  851.]\n",
      "shape of item[2]:  (25,)\n",
      "item[2]:  [   3.    2.    5.    6.    9.    8.    1.    4.  832.  852.  834.  847.\n",
      "  854.  833.  396.  851.  848.  855.  392.  388.  850.    7.  849.  492.\n",
      "  403.]\n"
     ]
    }
   ],
   "source": [
    "neighbors_ids_ds = ds.CSVDataStore(pjoin(global_descriptors_base_dir, 'ex-neighbors-ids','bovwsiftproductbincounts-pq-16-1_ex-neighbors-ids'))\n",
    "ids, bovwsiftproductbincounts_16_1=ds.get_as_array(bovwsiftproductbincounts_16_1_ds, return_ids=True)\n",
    "lbphistogram_exs_searcher=ExhaustiveSearcher(bovwsiftproductbincounts_16_1, ids)\n",
    "steps.search_step(bovwsiftproductbincounts_16_1_ds, lbphistogram_exs_searcher, n_nearest, neighbors_ids_ds, print_ds_out_info='ndarray')"
   ]
  },
  {
   "cell_type": "code",
   "execution_count": 13,
   "metadata": {
    "collapsed": false
   },
   "outputs": [
    {
     "name": "stdout",
     "output_type": "stream",
     "text": [
      "count of items in ds:  999\n",
      "shape of item[0]:  (25,)\n",
      "item[0]:  [   1.    4.    2.    8.    3.  394.    5.  849.  847.    7.  848.  855.\n",
      "  388.  389.  854.  850.  852.  395.    6.  396.  392.  853.  851.    9.\n",
      "  390.]\n",
      "shape of item[1]:  (25,)\n",
      "item[1]:  [   2.    3.    8.    5.    6.    9.    1.    4.  847.  834.    7.  855.\n",
      "  832.  852.  848.  849.  388.  854.  833.  396.  850.  836.  392.  394.\n",
      "  851.]\n",
      "shape of item[2]:  (25,)\n",
      "item[2]:  [   3.    2.    5.    6.    9.    8.    1.    4.  832.  852.  834.  847.\n",
      "  854.  833.  396.  851.  848.  855.  392.  388.  850.    7.  849.  492.\n",
      "  403.]\n"
     ]
    }
   ],
   "source": [
    "neighbors_ids_ds = ds.CSVDataStore(pjoin(global_descriptors_base_dir, 'ex-neighbors-ids','bovwsiftbincounts-pq-16-1_ex-neighbors-ids'))\n",
    "ids, bovwsiftbincounts_16_1=ds.get_as_array(bovwsiftbincounts_16_1_ds, return_ids=True)\n",
    "lbphistogram_exs_searcher=ExhaustiveSearcher(bovwsiftbincounts_16_1, ids)\n",
    "steps.search_step(bovwsiftbincounts_16_1_ds, lbphistogram_exs_searcher, n_nearest, neighbors_ids_ds, print_ds_out_info='ndarray')"
   ]
  },
  {
   "cell_type": "code",
   "execution_count": 18,
   "metadata": {
    "collapsed": false
   },
   "outputs": [],
   "source": [
    "K_arr = [2 ** i for i in [4,5,6,7,8]]\n",
    "m_arr = [m for m in [1, 2, 4, 8, 16]]\n",
    "pq_params_arr = [{'n_clusters': K, 'n_quantizers': m} for K in K_arr for m in m_arr]\n",
    "for pq_params in pq_params_arr:\n",
    "    pq_params_str=build_pq_params_str(pq_params)\n",
    "    neighbors_ids_ds = ds.CSVDataStore(pjoin(global_descriptors_base_dir, 'ex-neighbors-ids', 'bovwsiftproductbincounts' + '_' + pq_params_str+'_'+'ex-neighbors-ids'))\n",
    "    bovwsiftproductbincounts_ds= ds.SQLiteTableDataStore(pjoin(global_descriptors_base_dir, 'bovwsiftproductbincounts' + '_' + pq_params_str))\n",
    "    ids, bovwproductbincounts=ds.get_as_array(bovwsiftproductbincounts_ds, return_ids=True)\n",
    "    exs_searcher=ExhaustiveSearcher(bovwproductbincounts, ids)\n",
    "    steps.search_step(bovwsiftproductbincounts_ds, exs_searcher, n_nearest, neighbors_ids_ds, print_ds_out_info='ndarray')"
   ]
  },
  {
   "cell_type": "code",
   "execution_count": 37,
   "metadata": {
    "collapsed": false
   },
   "outputs": [
    {
     "name": "stdout",
     "output_type": "stream",
     "text": [
      "count of items in ds:  999\n",
      "shape of item[0]:  (25,)\n",
      "item[0]:  [   1.    4.    2.    8.    3.  394.    5.  849.  847.    7.  848.  855.\n",
      "  388.  389.  854.  850.  852.  395.    6.  396.  392.  853.  851.    9.\n",
      "  390.]\n",
      "shape of item[1]:  (25,)\n",
      "item[1]:  [   2.    3.    8.    5.    6.    9.    1.    4.  847.  834.    7.  855.\n",
      "  832.  852.  848.  849.  388.  854.  833.  396.  850.  836.  392.  394.\n",
      "  851.]\n",
      "shape of item[2]:  (25,)\n",
      "item[2]:  [   3.    2.    5.    6.    9.    8.    1.    4.  832.  852.  834.  847.\n",
      "  854.  833.  396.  851.  848.  855.  392.  388.  850.    7.  849.  492.\n",
      "  403.]\n"
     ]
    }
   ],
   "source": [
    "K_arr = [2 ** i for i in [4,5,6,7,8]]\n",
    "m_arr = [m for m in [1, 2, 4, 8, 16]]\n",
    "pq_params_arr = [{'n_clusters': K, 'n_quantizers': m} for K in K_arr for m in m_arr]\n",
    "for pq_params in pq_params_arr:\n",
    "    pq_params_str=build_pq_params_str(pq_params)\n",
    "    neighbors_ids_ds = ds.CSVDataStore(pjoin(global_descriptors_base_dir, 'ex-neighbors-ids', 'bovwsiftbincounts' + '_' + pq_params_str+'_'+'ex-neighbors-ids'))\n",
    "    bovwsiftbincounts_ds=ds.SQLiteTableDataStore(pjoin(global_descriptors_base_dir, 'bovwsiftbincounts' + '_' + pq_params_str))\n",
    "    \n",
    "#     with bovwsiftbincounts_ds:\n",
    "#         print_ds_items_info(bovwsiftbincounts_ds, print_shape_only=True, first_items_to_print=999)\n",
    "#     print(pq_params)\n",
    "    if not bovwsiftbincounts_ds.already_exists():\n",
    "        continue\n",
    "    ids, bovwsiftbincounts=ds.get_as_array(bovwsiftbincounts_ds, return_ids=True)\n",
    "    exs_searcher=ExhaustiveSearcher(bovwsiftbincounts, ids)\n",
    "    steps.search_step(bovwsiftbincounts_ds, exs_searcher, n_nearest, neighbors_ids_ds, print_ds_out_info='ndarray')"
   ]
  },
  {
   "cell_type": "code",
   "execution_count": null,
   "metadata": {
    "collapsed": true
   },
   "outputs": [],
   "source": []
  }
 ],
 "metadata": {
  "kernelspec": {
   "display_name": "Python 3",
   "language": "python",
   "name": "python3"
  },
  "language_info": {
   "codemirror_mode": {
    "name": "ipython",
    "version": 3
   },
   "file_extension": ".py",
   "mimetype": "text/x-python",
   "name": "python",
   "nbconvert_exporter": "python",
   "pygments_lexer": "ipython3",
   "version": "3.5.2"
  }
 },
 "nbformat": 4,
 "nbformat_minor": 0
}
