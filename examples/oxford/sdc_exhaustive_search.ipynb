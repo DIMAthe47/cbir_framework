{
 "cells": [
  {
   "cell_type": "code",
   "execution_count": 1,
   "metadata": {
    "collapsed": false
   },
   "outputs": [],
   "source": [
    "import import_hack\n",
    "import numpy as np\n",
    "import core.steps as steps\n",
    "from core import data_store as ds\n",
    "from core import transformer as tr\n",
    "from core.common.ds_utils import print_ds_items_info\n",
    "from os.path import join as pjoin\n",
    "from core.search.exhaustive_searcher import ExhaustiveSearcher\n",
    "from core.quantization.pq_quantizer import PQQuantizer, restore_from_clusters, build_pq_params_str\n",
    "from core.metric.symmetric_distance_computer import SymmetricDistanceComputer\n",
    "%load_ext autoreload\n",
    "%autoreload 2"
   ]
  },
  {
   "cell_type": "code",
   "execution_count": 21,
   "metadata": {
    "collapsed": false
   },
   "outputs": [],
   "source": [
    "base_dir=r'C:\\data\\computation\\brodatz\\global_descriptors'"
   ]
  },
  {
   "cell_type": "markdown",
   "metadata": {},
   "source": [
    "#### Setup global descriptors datastores\n",
    "descriptors have been computed in global_descriptor__compute_from_image "
   ]
  },
  {
   "cell_type": "code",
   "execution_count": 22,
   "metadata": {
    "collapsed": false
   },
   "outputs": [],
   "source": [
    "histograms_ds = ds.SQLiteTableDataStore(pjoin(base_dir, 'histograms'))\n",
    "lbphistograms_ds = ds.SQLiteTableDataStore(pjoin(base_dir, 'lbphistograms'))\n",
    "glcms_ds = ds.SQLiteTableDataStore(pjoin(base_dir, 'glcms'))"
   ]
  },
  {
   "cell_type": "markdown",
   "metadata": {},
   "source": [
    "# SDC exhaustive search"
   ]
  },
  {
   "cell_type": "code",
   "execution_count": 23,
   "metadata": {
    "collapsed": true
   },
   "outputs": [],
   "source": [
    "K_arr = [2 ** i for i in [4,5,6,7,8]]\n",
    "m_arr = [m for m in [1, 2, 4, 8, 16]]\n",
    "pq_params_arr = [{'n_clusters': K, 'n_quantizers': m} for K in K_arr for m in m_arr]"
   ]
  },
  {
   "cell_type": "code",
   "execution_count": 32,
   "metadata": {
    "collapsed": true
   },
   "outputs": [],
   "source": [
    "def sdc_search(pq_params, descriptors_name, query_descriptors_ds):\n",
    "    pq_params_str = build_pq_params_str(pq_params)\n",
    "    quantizer = PQQuantizer(**pq_params)\n",
    "\n",
    "    centroids_path = pjoin(base_dir, 'centroids', descriptors_name, descriptors_name) + \"_\" + pq_params_str + '_centroids'\n",
    "    centroids_ds = ds.SQLiteTableDataStore(centroids_path)\n",
    "    centroids = ds.get_as_array(centroids_ds)\n",
    "    pq_quantizer = restore_from_clusters(centroids)\n",
    "  \n",
    "    centroids_pairwise_distances_path=pjoin(base_dir, 'centroids_pairwise_distances', descriptors_name, descriptors_name)+ \"_\" + pq_params_str + '_centroids_pairwise_distances'\n",
    "    centroids_pairwise_distances_ds=ds.SQLiteTableDataStore(centroids_pairwise_distances_path)\n",
    "    centroids_pairwise_distances = ds.get_as_array(centroids_pairwise_distances_ds)\n",
    "    \n",
    "    metric = SymmetricDistanceComputer(pq_quantizer, centroids_pairwise_distances)\n",
    "    \n",
    "    pqcodes_path = pjoin(base_dir, 'pqcodes', descriptors_name, descriptors_name) + \"_\" + pq_params_str + '_pqcodes'\n",
    "    pqcodes_ds = ds.SQLiteTableDataStore(pqcodes_path, ndarray_bytes_only=True)\n",
    "    ids, pqcodes = ds.get_as_array(pqcodes_ds, return_ids=True)\n",
    "    \n",
    "    searcher_ = ExhaustiveSearcher(pqcodes, ids, metric=metric)\n",
    "    n_nearest = 25\n",
    "\n",
    "    neighbors_ids_filepath = pjoin(base_dir, 'sdc-neighbors-ids', descriptors_name, descriptors_name) + \"_\" + pq_params_str + '_sdc-neighbors-ids'\n",
    "    neighbors_ids_ds = ds.CSVDataStore(neighbors_ids_filepath)\n",
    "    \n",
    "    steps.search_step(query_descriptors_ds, searcher_, n_nearest, neighbors_ids_ds)"
   ]
  },
  {
   "cell_type": "code",
   "execution_count": 33,
   "metadata": {
    "collapsed": false
   },
   "outputs": [],
   "source": [
    "for pq_params in pq_params_arr:\n",
    "    sdc_search(pq_params, 'histograms', histograms_ds)"
   ]
  },
  {
   "cell_type": "code",
   "execution_count": 34,
   "metadata": {
    "collapsed": false
   },
   "outputs": [],
   "source": [
    "for pq_params in pq_params_arr:\n",
    "    sdc_search(pq_params, 'lbphistograms', lbphistograms_ds)"
   ]
  },
  {
   "cell_type": "code",
   "execution_count": 35,
   "metadata": {
    "collapsed": true
   },
   "outputs": [],
   "source": [
    "for pq_params in pq_params_arr:\n",
    "    sdc_search(pq_params, 'glcms', glcms_ds)"
   ]
  }
 ],
 "metadata": {
  "kernelspec": {
   "display_name": "Python 3",
   "language": "python",
   "name": "python3"
  },
  "language_info": {
   "codemirror_mode": {
    "name": "ipython",
    "version": 3
   },
   "file_extension": ".py",
   "mimetype": "text/x-python",
   "name": "python",
   "nbconvert_exporter": "python",
   "pygments_lexer": "ipython3",
   "version": "3.5.2"
  }
 },
 "nbformat": 4,
 "nbformat_minor": 0
}
