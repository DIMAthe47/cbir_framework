{
 "cells": [
  {
   "cell_type": "code",
   "execution_count": 5,
   "metadata": {
    "collapsed": false
   },
   "outputs": [
    {
     "name": "stdout",
     "output_type": "stream",
     "text": [
      "The autoreload extension is already loaded. To reload it, use:\n",
      "  %reload_ext autoreload\n"
     ]
    }
   ],
   "source": [
    "import import_hack\n",
    "from core import steps\n",
    "from core.data_store.sqlite_table_datastore import SQLiteTableDataStore\n",
    "from core.data_store.sqlite_table_one_to_many_datastore import SQLiteTableOneToManyDataStore\n",
    "from core.data_store.file_system_directory_datastore import FileSystemDirectoryDataStore\n",
    "from core.data_store.numpy_datastore import NumpyDataStore\n",
    "from core.data_store.stream_ndarray_adapter_datastore import StreamNdarrayAdapterDataStore\n",
    "from core.quantization.pq_quantizer import PQQuantizer, restore_from_clusters\n",
    "from core.transformer.bytes_to_ndarray import BytesToNdarray\n",
    "from core.transformer.ndarray_to_opencvmatrix import NdarrayToOpencvMatrix\n",
    "from core.transformer.opencvmatrix_to_siftset import OpencvMatrixToSiftsSet\n",
    "from core.search.exhaustive_searcher import ExhaustiveSearcher\n",
    "from core.search.inverted_multi_index_searcher import InvertedMultiIndexSearcher\n",
    "from core.common.ds_utils import print_ds_items_info\n",
    "from core.evaluation.retrieval_perfomance import PrecisionRecallAveragePrecisionEvaluator\n",
    "from core.evaluation.ground_truth import BrodatzGroundTruth\n",
    "import numpy as np\n",
    "%load_ext autoreload\n",
    "%autoreload 2"
   ]
  },
  {
   "cell_type": "markdown",
   "metadata": {},
   "source": [
    "# Compute descriptors(siftsets)"
   ]
  },
  {
   "cell_type": "code",
   "execution_count": 6,
   "metadata": {
    "collapsed": true
   },
   "outputs": [],
   "source": [
    "img_dir_path = r'C:\\data\\images\\oxford\\oxbuild_images'\n",
    "siftsets_path='ds_data\\siftid_sift_imgid'\n",
    "siftsets_table_name='siftid_sift_imgid'"
   ]
  },
  {
   "cell_type": "markdown",
   "metadata": {},
   "source": [
    "We can interpret table as One-to-One(id, itemid) or as One-to-Many(id, itemid, foreignid).\n",
    "If we want to use it like One-to-One, use SQLiteTableDataStore. Here item = one sift.\n",
    "If we want to use it like One-to-Many, use SQLiteTableOneToManyDataStore. In this case items would be grouped by foreignid and aggregated into ndarray. Here item = ndarray of sifts, e.g. ndarray with shape (*number of sifts in image*, 128)"
   ]
  },
  {
   "cell_type": "code",
   "execution_count": 7,
   "metadata": {
    "collapsed": false
   },
   "outputs": [
    {
     "name": "stdout",
     "output_type": "stream",
     "text": [
      "images count in 'C:\\data\\images\\oxford\\oxbuild_images':  5063\n"
     ]
    }
   ],
   "source": [
    "images_ds = FileSystemDirectoryDataStore(dir_path=img_dir_path)\n",
    "siftsets_ds = SQLiteTableOneToManyDataStore(siftsets_path, siftsets_table_name)\n",
    "print(\"images count in '{0}': \".format(img_dir_path), images_ds.get_count())"
   ]
  },
  {
   "cell_type": "markdown",
   "metadata": {},
   "source": [
    "* get items from **images_ds**\n",
    "* apply sequence of transformations for each item: bytes->ndarray->opencvMatrix->siftSet\n",
    "* write result in **siftsets_ds**"
   ]
  },
  {
   "cell_type": "code",
   "execution_count": 9,
   "metadata": {
    "collapsed": false
   },
   "outputs": [
    {
     "ename": "OperationalError",
     "evalue": "unable to open database file",
     "output_type": "error",
     "traceback": [
      "\u001b[1;31m---------------------------------------------------------------------------\u001b[0m",
      "\u001b[1;31mOperationalError\u001b[0m                          Traceback (most recent call last)",
      "\u001b[1;32m<ipython-input-9-3475709e438d>\u001b[0m in \u001b[0;36m<module>\u001b[1;34m()\u001b[0m\n\u001b[0;32m      1\u001b[0m \u001b[0mtransformers_\u001b[0m\u001b[1;33m=\u001b[0m\u001b[1;33m[\u001b[0m\u001b[0mBytesToNdarray\u001b[0m\u001b[1;33m(\u001b[0m\u001b[1;33m)\u001b[0m\u001b[1;33m,\u001b[0m \u001b[0mNdarrayToOpencvMatrix\u001b[0m\u001b[1;33m(\u001b[0m\u001b[1;33m)\u001b[0m\u001b[1;33m,\u001b[0m \u001b[0mOpencvMatrixToSiftsSet\u001b[0m\u001b[1;33m(\u001b[0m\u001b[1;33m)\u001b[0m\u001b[1;33m]\u001b[0m\u001b[1;33m\u001b[0m\u001b[0m\n\u001b[1;32m----> 2\u001b[1;33m \u001b[0msteps\u001b[0m\u001b[1;33m.\u001b[0m\u001b[0mtransform_step\u001b[0m\u001b[1;33m(\u001b[0m\u001b[0mimages_ds\u001b[0m\u001b[1;33m,\u001b[0m \u001b[0mtransformers_\u001b[0m\u001b[1;33m,\u001b[0m \u001b[0msiftsets_ds\u001b[0m\u001b[1;33m)\u001b[0m\u001b[1;33m\u001b[0m\u001b[0m\n\u001b[0m",
      "\u001b[1;32mC:\\Users\\Dima\\GoogleDisk\\notebooks\\cbir_framework\\core\\steps.py\u001b[0m in \u001b[0;36mtransform_step\u001b[1;34m(data_store_in, transformers, data_store_out, force, print_ds_out_info)\u001b[0m\n\u001b[0;32m     33\u001b[0m             \u001b[0mstack\u001b[0m\u001b[1;33m.\u001b[0m\u001b[0menter_context\u001b[0m\u001b[1;33m(\u001b[0m\u001b[0mdata_store_in\u001b[0m\u001b[1;33m)\u001b[0m\u001b[1;33m\u001b[0m\u001b[0m\n\u001b[0;32m     34\u001b[0m         \u001b[1;32mif\u001b[0m \u001b[0mhasattr\u001b[0m\u001b[1;33m(\u001b[0m\u001b[0mdata_store_out\u001b[0m\u001b[1;33m,\u001b[0m \u001b[1;34m'__enter__'\u001b[0m\u001b[1;33m)\u001b[0m\u001b[1;33m:\u001b[0m\u001b[1;33m\u001b[0m\u001b[0m\n\u001b[1;32m---> 35\u001b[1;33m             \u001b[0mstack\u001b[0m\u001b[1;33m.\u001b[0m\u001b[0menter_context\u001b[0m\u001b[1;33m(\u001b[0m\u001b[0mdata_store_out\u001b[0m\u001b[1;33m)\u001b[0m\u001b[1;33m\u001b[0m\u001b[0m\n\u001b[0m\u001b[0;32m     36\u001b[0m \u001b[1;33m\u001b[0m\u001b[0m\n\u001b[0;32m     37\u001b[0m         \u001b[0mcount_\u001b[0m \u001b[1;33m=\u001b[0m \u001b[0mdata_store_in\u001b[0m\u001b[1;33m.\u001b[0m\u001b[0mget_count\u001b[0m\u001b[1;33m(\u001b[0m\u001b[1;33m)\u001b[0m\u001b[1;33m\u001b[0m\u001b[0m\n",
      "\u001b[1;32mC:\\Anaconda3\\lib\\contextlib.py\u001b[0m in \u001b[0;36menter_context\u001b[1;34m(self, cm)\u001b[0m\n\u001b[0;32m    302\u001b[0m         \u001b[0m_cm_type\u001b[0m \u001b[1;33m=\u001b[0m \u001b[0mtype\u001b[0m\u001b[1;33m(\u001b[0m\u001b[0mcm\u001b[0m\u001b[1;33m)\u001b[0m\u001b[1;33m\u001b[0m\u001b[0m\n\u001b[0;32m    303\u001b[0m         \u001b[0m_exit\u001b[0m \u001b[1;33m=\u001b[0m \u001b[0m_cm_type\u001b[0m\u001b[1;33m.\u001b[0m\u001b[0m__exit__\u001b[0m\u001b[1;33m\u001b[0m\u001b[0m\n\u001b[1;32m--> 304\u001b[1;33m         \u001b[0mresult\u001b[0m \u001b[1;33m=\u001b[0m \u001b[0m_cm_type\u001b[0m\u001b[1;33m.\u001b[0m\u001b[0m__enter__\u001b[0m\u001b[1;33m(\u001b[0m\u001b[0mcm\u001b[0m\u001b[1;33m)\u001b[0m\u001b[1;33m\u001b[0m\u001b[0m\n\u001b[0m\u001b[0;32m    305\u001b[0m         \u001b[0mself\u001b[0m\u001b[1;33m.\u001b[0m\u001b[0m_push_cm_exit\u001b[0m\u001b[1;33m(\u001b[0m\u001b[0mcm\u001b[0m\u001b[1;33m,\u001b[0m \u001b[0m_exit\u001b[0m\u001b[1;33m)\u001b[0m\u001b[1;33m\u001b[0m\u001b[0m\n\u001b[0;32m    306\u001b[0m         \u001b[1;32mreturn\u001b[0m \u001b[0mresult\u001b[0m\u001b[1;33m\u001b[0m\u001b[0m\n",
      "\u001b[1;32mC:\\Users\\Dima\\GoogleDisk\\notebooks\\cbir_framework\\core\\data_store\\sqlite_table_one_to_many_datastore.py\u001b[0m in \u001b[0;36m__enter__\u001b[1;34m(self)\u001b[0m\n\u001b[0;32m     45\u001b[0m \u001b[1;33m\u001b[0m\u001b[0m\n\u001b[0;32m     46\u001b[0m     \u001b[1;32mdef\u001b[0m \u001b[0m__enter__\u001b[0m\u001b[1;33m(\u001b[0m\u001b[0mself\u001b[0m\u001b[1;33m)\u001b[0m\u001b[1;33m:\u001b[0m\u001b[1;33m\u001b[0m\u001b[0m\n\u001b[1;32m---> 47\u001b[1;33m         \u001b[0mself\u001b[0m\u001b[1;33m.\u001b[0m\u001b[0mconnect\u001b[0m\u001b[1;33m(\u001b[0m\u001b[1;33m)\u001b[0m\u001b[1;33m\u001b[0m\u001b[0m\n\u001b[0m\u001b[0;32m     48\u001b[0m         \u001b[1;32mreturn\u001b[0m \u001b[0mself\u001b[0m\u001b[1;33m\u001b[0m\u001b[0m\n\u001b[0;32m     49\u001b[0m \u001b[1;33m\u001b[0m\u001b[0m\n",
      "\u001b[1;32mC:\\Users\\Dima\\GoogleDisk\\notebooks\\cbir_framework\\core\\data_store\\sqlite_table_one_to_many_datastore.py\u001b[0m in \u001b[0;36mconnect\u001b[1;34m(self)\u001b[0m\n\u001b[0;32m     38\u001b[0m \u001b[1;33m\u001b[0m\u001b[0m\n\u001b[0;32m     39\u001b[0m     \u001b[1;32mdef\u001b[0m \u001b[0mconnect\u001b[0m\u001b[1;33m(\u001b[0m\u001b[0mself\u001b[0m\u001b[1;33m)\u001b[0m\u001b[1;33m:\u001b[0m\u001b[1;33m\u001b[0m\u001b[0m\n\u001b[1;32m---> 40\u001b[1;33m         \u001b[0mself\u001b[0m\u001b[1;33m.\u001b[0m\u001b[0mconnection\u001b[0m \u001b[1;33m=\u001b[0m \u001b[0msqlite3\u001b[0m\u001b[1;33m.\u001b[0m\u001b[0mconnect\u001b[0m\u001b[1;33m(\u001b[0m\u001b[0mself\u001b[0m\u001b[1;33m.\u001b[0m\u001b[0mdb_path\u001b[0m\u001b[1;33m,\u001b[0m \u001b[0mdetect_types\u001b[0m\u001b[1;33m=\u001b[0m\u001b[0msqlite3\u001b[0m\u001b[1;33m.\u001b[0m\u001b[0mPARSE_DECLTYPES\u001b[0m\u001b[1;33m)\u001b[0m\u001b[1;33m\u001b[0m\u001b[0m\n\u001b[0m\u001b[0;32m     41\u001b[0m         \u001b[0mself\u001b[0m\u001b[1;33m.\u001b[0m\u001b[0mconnection\u001b[0m\u001b[1;33m.\u001b[0m\u001b[0mexecute\u001b[0m\u001b[1;33m(\u001b[0m\u001b[1;34m'PRAGMA journal_mode=WAL'\u001b[0m\u001b[1;33m)\u001b[0m\u001b[1;33m\u001b[0m\u001b[0m\n\u001b[0;32m     42\u001b[0m \u001b[1;33m\u001b[0m\u001b[0m\n",
      "\u001b[1;31mOperationalError\u001b[0m: unable to open database file"
     ]
    }
   ],
   "source": [
    "transformers_=[BytesToNdarray(), NdarrayToOpencvMatrix(), OpencvMatrixToSiftsSet()]\n",
    "steps.transform_step(images_ds, transformers_, siftsets_ds)"
   ]
  },
  {
   "cell_type": "code",
   "execution_count": 4,
   "metadata": {
    "collapsed": false
   },
   "outputs": [
    {
     "name": "stdout",
     "output_type": "stream",
     "text": [
      "count of items in ds:  5063\n",
      "shape of item[0]:  (5263, 128)\n",
      "shape of item[1]:  (6774, 128)\n",
      "shape of item[2]:  (2212, 128)\n"
     ]
    }
   ],
   "source": [
    "print_ds_items_info(siftsets_ds)"
   ]
  },
  {
   "cell_type": "markdown",
   "metadata": {
    "collapsed": false
   },
   "source": [
    "# Compute sample"
   ]
  },
  {
   "cell_type": "markdown",
   "metadata": {},
   "source": [
    "To build bag-of-visual-words we need visual words -> we need clusters -> we need to quantize sifts.\n",
    "\n",
    "We will quantize not all descriptors but sample from them"
   ]
  },
  {
   "cell_type": "code",
   "execution_count": 5,
   "metadata": {
    "collapsed": true
   },
   "outputs": [],
   "source": [
    "sifts_ds = SQLiteTableDataStore(siftsets_path, siftsets_table_name)"
   ]
  },
  {
   "cell_type": "markdown",
   "metadata": {},
   "source": [
    "Here we treat table as One-to-One, so only (id,item) are sampled, foreignid is not considered."
   ]
  },
  {
   "cell_type": "code",
   "execution_count": 6,
   "metadata": {
    "collapsed": false
   },
   "outputs": [
    {
     "name": "stdout",
     "output_type": "stream",
     "text": [
      "count of items in ds:  17814955\n",
      "shape of item[0]:  (128,)\n",
      "shape of item[1]:  (128,)\n",
      "shape of item[2]:  (128,)\n"
     ]
    }
   ],
   "source": [
    "print_ds_items_info(sifts_ds)"
   ]
  },
  {
   "cell_type": "code",
   "execution_count": 69,
   "metadata": {
    "collapsed": false
   },
   "outputs": [],
   "source": [
    "with sifts_ds:\n",
    "    sample_part=(5000000/sifts_ds.get_count())\n",
    "sample_path='ds_data\\siftid_sift_sample{0}'.format(sample_part)\n",
    "sample_table_name='siftid_sift'"
   ]
  },
  {
   "cell_type": "code",
   "execution_count": 70,
   "metadata": {
    "collapsed": true
   },
   "outputs": [],
   "source": [
    "sample_ds = SQLiteTableDataStore(sample_path, sample_table_name)"
   ]
  },
  {
   "cell_type": "code",
   "execution_count": 71,
   "metadata": {
    "collapsed": true
   },
   "outputs": [],
   "source": [
    "steps.sampling_step(sifts_ds, sample_part, sample_ds)"
   ]
  },
  {
   "cell_type": "code",
   "execution_count": 72,
   "metadata": {
    "collapsed": false
   },
   "outputs": [
    {
     "name": "stdout",
     "output_type": "stream",
     "text": [
      "count of items in ds:  5000000\n",
      "shape of item[0]:  (128,)\n",
      "shape of item[1]:  (128,)\n",
      "shape of item[2]:  (128,)\n"
     ]
    }
   ],
   "source": [
    "print_ds_items_info(sample_ds)"
   ]
  },
  {
   "cell_type": "markdown",
   "metadata": {},
   "source": [
    "# Quantize local descriptors"
   ]
  },
  {
   "cell_type": "code",
   "execution_count": 73,
   "metadata": {
    "collapsed": true
   },
   "outputs": [],
   "source": [
    "n_clusters=50\n",
    "sift_clusters_path='ds_data\\siftid_sift_sample{0}-clusters{1}'.format(sample_part, n_clusters)\n",
    "sift_clusters_table_name='clusterid_cluster'\n",
    "sift_clusters_ds = SQLiteTableDataStore(sift_clusters_path, sift_clusters_table_name)\n",
    "quantizer = PQQuantizer(n_clusters=n_clusters, n_quantizers=2)"
   ]
  },
  {
   "cell_type": "code",
   "execution_count": 74,
   "metadata": {
    "collapsed": true
   },
   "outputs": [],
   "source": [
    "steps.quantize_step(sample_ds, quantizer, sift_clusters_ds)"
   ]
  },
  {
   "cell_type": "code",
   "execution_count": 75,
   "metadata": {
    "collapsed": false
   },
   "outputs": [
    {
     "name": "stdout",
     "output_type": "stream",
     "text": [
      "count of items in ds:  2\n",
      "shape of item[0]:  (50, 64)\n",
      "shape of item[1]:  (50, 64)\n"
     ]
    }
   ],
   "source": [
    "print_ds_items_info(sift_clusters_ds)"
   ]
  },
  {
   "cell_type": "markdown",
   "metadata": {},
   "source": [
    "# Compute bows(sifts clusters bincounts)"
   ]
  },
  {
   "cell_type": "markdown",
   "metadata": {},
   "source": [
    "restore pq_quantizer from cluster centers"
   ]
  },
  {
   "cell_type": "code",
   "execution_count": 44,
   "metadata": {
    "collapsed": false
   },
   "outputs": [],
   "source": [
    "ds_clusters_ndarray_adapter = StreamNdarrayAdapterDataStore(sift_clusters_ds, detect_final_shape_by_first_elem=True)\n",
    "clusters = ds_clusters_ndarray_adapter.get_items_sorted_by_ids()\n",
    "pq_quantizer = restore_from_clusters(clusters)"
   ]
  },
  {
   "cell_type": "code",
   "execution_count": 45,
   "metadata": {
    "collapsed": true
   },
   "outputs": [],
   "source": [
    "siftbincount_path='ds_data\\imgid_siftbincount'\n",
    "siftbincount_table_name='imgid_siftbincount'"
   ]
  },
  {
   "cell_type": "code",
   "execution_count": 46,
   "metadata": {
    "collapsed": true
   },
   "outputs": [],
   "source": [
    "siftbincount_ds=SQLiteTableDataStore(siftbincount_path, siftbincount_table_name)"
   ]
  },
  {
   "cell_type": "code",
   "execution_count": 47,
   "metadata": {
    "collapsed": false
   },
   "outputs": [],
   "source": [
    "transformers=[trs.ArraysToBinCount(pq_quantizer)]\n",
    "steps.transform_step(siftsets_ds, transformers, siftbincount_ds)"
   ]
  },
  {
   "cell_type": "code",
   "execution_count": 59,
   "metadata": {
    "collapsed": false
   },
   "outputs": [
    {
     "name": "stdout",
     "output_type": "stream",
     "text": [
      "count of items in ds:  5063\n",
      "shape of item[0]:  (10000,)\n",
      "shape of item[1]:  (10000,)\n",
      "shape of item[2]:  (10000,)\n",
      "count of items in ds:  5063\n",
      "item[0]:  [0 2 0 ..., 0 0 0]\n",
      "item[1]:  [1 4 0 ..., 0 0 0]\n",
      "item[2]:  [0 2 0 ..., 0 0 1]\n"
     ]
    }
   ],
   "source": [
    "print_ds_items_info(siftbincount_ds)\n",
    "print_ds_items_info(siftbincount_ds, print_shape=False)"
   ]
  },
  {
   "cell_type": "code",
   "execution_count": 60,
   "metadata": {
    "collapsed": false
   },
   "outputs": [
    {
     "name": "stdout",
     "output_type": "stream",
     "text": [
      "2521\n",
      "(array([   1,    9,   11, ..., 9986, 9993, 9995], dtype=int64),)\n",
      "[2 1 2 ..., 6 7 2]\n"
     ]
    }
   ],
   "source": [
    "with siftbincount_ds:\n",
    "    sift1=next(iter(siftbincount_ds.get_items_sorted_by_ids()))\n",
    "    print(len(np.nonzero(sift1)[0]))\n",
    "    print(np.nonzero(sift1))\n",
    "    print(sift1[np.nonzero(sift1)])"
   ]
  },
  {
   "cell_type": "markdown",
   "metadata": {},
   "source": [
    "# Compute descriptors(siftsets) for queries"
   ]
  },
  {
   "cell_type": "code",
   "execution_count": 61,
   "metadata": {
    "collapsed": false
   },
   "outputs": [
    {
     "name": "stdout",
     "output_type": "stream",
     "text": [
      "images count in 'C:\\data\\images\\oxford\\queries':  55\n"
     ]
    }
   ],
   "source": [
    "queries_img_dir_path = r'C:\\data\\images\\oxford\\queries'\n",
    "queries_siftsets_path='ds_data\\queries\\siftid_sift_imgid'\n",
    "queries_siftsets_table_name='siftid_sift_imgid'\n",
    "queries_images_ds = FileSystemDirectoryDataStore(dir_path=queries_img_dir_path)\n",
    "queries_siftsets_ds = SQLiteTableOneToManyDataStore(queries_siftsets_path, queries_siftsets_table_name)\n",
    "print(\"images count in '{0}': \".format(queries_img_dir_path), queries_images_ds.get_count())"
   ]
  },
  {
   "cell_type": "code",
   "execution_count": 51,
   "metadata": {
    "collapsed": true
   },
   "outputs": [],
   "source": [
    "transformers_=[trs.BytesToNdarray(), trs.NdarrayToOpencvMatrix(), trs.OpencvMatrixToSiftsSet()]\n",
    "steps.transform_step(queries_images_ds, transformers_, queries_siftsets_ds)"
   ]
  },
  {
   "cell_type": "code",
   "execution_count": 62,
   "metadata": {
    "collapsed": false
   },
   "outputs": [
    {
     "name": "stdout",
     "output_type": "stream",
     "text": [
      "count of items in ds:  55\n",
      "shape of item[0]:  (2182, 128)\n",
      "shape of item[1]:  (3003, 128)\n",
      "shape of item[2]:  (718, 128)\n"
     ]
    }
   ],
   "source": [
    "print_ds_items_info(queries_siftsets_ds)"
   ]
  },
  {
   "cell_type": "markdown",
   "metadata": {},
   "source": [
    "# Compute bows(sifts clusters bincounts) for queries"
   ]
  },
  {
   "cell_type": "code",
   "execution_count": 53,
   "metadata": {
    "collapsed": true
   },
   "outputs": [],
   "source": [
    "ds_clusters_ndarray_adapter = StreamNdarrayAdapterDataStore(sift_clusters_ds, detect_final_shape_by_first_elem=True)\n",
    "clusters = ds_clusters_ndarray_adapter.get_items_sorted_by_ids()\n",
    "pq_quantizer = restore_from_clusters(clusters)\n",
    "\n",
    "queries_siftbincount_path='ds_data\\queries\\imgid_siftbincount'\n",
    "queries_siftbincount_table_name='imgid_siftbincount'\n",
    "queries_siftbincount_ds=SQLiteTableDataStore(queries_siftbincount_path, queries_siftbincount_table_name)"
   ]
  },
  {
   "cell_type": "code",
   "execution_count": 54,
   "metadata": {
    "collapsed": true
   },
   "outputs": [],
   "source": [
    "transformers=[trs.ArraysToBinCount(pq_quantizer)]\n",
    "steps.transform_step(siftsets_ds, transformers, siftbincount_ds)"
   ]
  },
  {
   "cell_type": "code",
   "execution_count": 55,
   "metadata": {
    "collapsed": false
   },
   "outputs": [
    {
     "name": "stdout",
     "output_type": "stream",
     "text": [
      "count of items in ds:  55\n",
      "shape of item[0]:  (250000,)\n",
      "shape of item[1]:  (250000,)\n",
      "shape of item[2]:  (250000,)\n",
      "count of items in ds:  55\n",
      "item[0]:  [0 0 0 ..., 0 0 0]\n",
      "item[1]:  [0 0 0 ..., 0 0 0]\n",
      "item[2]:  [0 0 0 ..., 0 0 0]\n"
     ]
    }
   ],
   "source": [
    "print_ds_items_info(queries_siftbincount_ds)\n",
    "print_ds_items_info(queries_siftbincount_ds, print_shape=False)"
   ]
  },
  {
   "cell_type": "markdown",
   "metadata": {},
   "source": [
    "# Exhaustive search by bows"
   ]
  },
  {
   "cell_type": "code",
   "execution_count": 56,
   "metadata": {
    "collapsed": false
   },
   "outputs": [],
   "source": [
    "np_neighbor_ids_ds=NumpyDataStore()\n",
    "siftbincount_ndarray_ds = StreamNdarrayAdapterDataStore(siftbincount_ds, detect_final_shape_by_first_elem=True)"
   ]
  },
  {
   "cell_type": "code",
   "execution_count": 57,
   "metadata": {
    "collapsed": true
   },
   "outputs": [],
   "source": [
    "exs_searcher=ExhaustiveSearcher(siftbincount_ndarray_ds.get_items_sorted_by_ids(), siftbincount_ndarray_ds.get_ids_sorted())"
   ]
  },
  {
   "cell_type": "code",
   "execution_count": 58,
   "metadata": {
    "collapsed": false
   },
   "outputs": [
    {
     "ename": "ValueError",
     "evalue": "Incompatible dimension for X and Y matrices: X.shape[1] == 250000 while Y.shape[1] == 10000",
     "output_type": "error",
     "traceback": [
      "\u001b[1;31m---------------------------------------------------------------------------\u001b[0m",
      "\u001b[1;31mValueError\u001b[0m                                Traceback (most recent call last)",
      "\u001b[1;32m<ipython-input-58-bbea7ed85ca3>\u001b[0m in \u001b[0;36m<module>\u001b[1;34m()\u001b[0m\n\u001b[0;32m      1\u001b[0m \u001b[0mn_neighbors\u001b[0m\u001b[1;33m=\u001b[0m\u001b[1;36m10\u001b[0m\u001b[1;33m\u001b[0m\u001b[0m\n\u001b[1;32m----> 2\u001b[1;33m \u001b[0msteps\u001b[0m\u001b[1;33m.\u001b[0m\u001b[0msearch_step\u001b[0m\u001b[1;33m(\u001b[0m\u001b[0mqueries_siftbincount_ds\u001b[0m\u001b[1;33m,\u001b[0m \u001b[0mexs_searcher\u001b[0m\u001b[1;33m,\u001b[0m \u001b[0mn_neighbors\u001b[0m \u001b[1;33m,\u001b[0m \u001b[0mnp_neighbor_ids_ds\u001b[0m\u001b[1;33m)\u001b[0m\u001b[1;33m\u001b[0m\u001b[0m\n\u001b[0m",
      "\u001b[1;32mC:\\Users\\Dima\\GoogleDisk\\notebooks\\cbir_framework\\steps.py\u001b[0m in \u001b[0;36msearch_step\u001b[1;34m(data_store_in, searcher_, n_nearest, data_store_out)\u001b[0m\n\u001b[0;32m     88\u001b[0m         \u001b[0mitems_ndarray\u001b[0m \u001b[1;33m=\u001b[0m \u001b[0mds_ndarray_in\u001b[0m\u001b[1;33m.\u001b[0m\u001b[0mget_items_sorted_by_ids\u001b[0m\u001b[1;33m(\u001b[0m\u001b[1;33m)\u001b[0m\u001b[1;33m\u001b[0m\u001b[0m\n\u001b[0;32m     89\u001b[0m \u001b[1;33m\u001b[0m\u001b[0m\n\u001b[1;32m---> 90\u001b[1;33m         \u001b[0mnearest_ids_ndarray\u001b[0m \u001b[1;33m=\u001b[0m \u001b[0msearcher_\u001b[0m\u001b[1;33m.\u001b[0m\u001b[0mfind_nearest_ids\u001b[0m\u001b[1;33m(\u001b[0m\u001b[0mitems_ndarray\u001b[0m\u001b[1;33m,\u001b[0m \u001b[0mn_nearest\u001b[0m\u001b[1;33m)\u001b[0m\u001b[1;33m\u001b[0m\u001b[0m\n\u001b[0m\u001b[0;32m     91\u001b[0m         \u001b[0mds_ndarray_out\u001b[0m \u001b[1;33m=\u001b[0m \u001b[0mStreamNdarrayAdapterDataStore\u001b[0m\u001b[1;33m(\u001b[0m\u001b[0mdata_store_out\u001b[0m\u001b[1;33m)\u001b[0m\u001b[1;33m\u001b[0m\u001b[0m\n\u001b[0;32m     92\u001b[0m         \u001b[0mds_ndarray_out\u001b[0m\u001b[1;33m.\u001b[0m\u001b[0msave_items_sorted_by_ids\u001b[0m\u001b[1;33m(\u001b[0m\u001b[0mnearest_ids_ndarray\u001b[0m\u001b[1;33m)\u001b[0m\u001b[1;33m\u001b[0m\u001b[0m\n",
      "\u001b[1;32mC:\\Users\\Dima\\GoogleDisk\\notebooks\\cbir_framework\\search\\exhaustive_searcher.py\u001b[0m in \u001b[0;36mfind_nearest_ids\u001b[1;34m(self, Q, n_nearest, metric)\u001b[0m\n\u001b[0;32m     13\u001b[0m     \u001b[1;32mdef\u001b[0m \u001b[0mfind_nearest_ids\u001b[0m\u001b[1;33m(\u001b[0m\u001b[0mself\u001b[0m\u001b[1;33m,\u001b[0m \u001b[0mQ\u001b[0m\u001b[1;33m:\u001b[0m \u001b[0mnp\u001b[0m\u001b[1;33m.\u001b[0m\u001b[0mndarray\u001b[0m\u001b[1;33m,\u001b[0m \u001b[0mn_nearest\u001b[0m\u001b[1;33m=\u001b[0m\u001b[1;32mNone\u001b[0m\u001b[1;33m,\u001b[0m \u001b[0mmetric\u001b[0m\u001b[1;33m=\u001b[0m\u001b[1;34m\"l1\"\u001b[0m\u001b[1;33m)\u001b[0m\u001b[1;33m:\u001b[0m\u001b[1;33m\u001b[0m\u001b[0m\n\u001b[0;32m     14\u001b[0m         nearest_indices_ndarray = self.nearest_search.find_nearest_indices(self.items_ndarray, Q, n_nearest=n_nearest,\n\u001b[1;32m---> 15\u001b[1;33m                                                                            metric=metric)\n\u001b[0m\u001b[0;32m     16\u001b[0m         \u001b[0mnearest_ids_ndarray\u001b[0m \u001b[1;33m=\u001b[0m \u001b[0mnp\u001b[0m\u001b[1;33m.\u001b[0m\u001b[0mtake\u001b[0m\u001b[1;33m(\u001b[0m\u001b[0mself\u001b[0m\u001b[1;33m.\u001b[0m\u001b[0mids_ndarray\u001b[0m\u001b[1;33m,\u001b[0m \u001b[0mnearest_indices_ndarray\u001b[0m\u001b[1;33m)\u001b[0m\u001b[1;33m\u001b[0m\u001b[0m\n\u001b[0;32m     17\u001b[0m         \u001b[1;32mreturn\u001b[0m \u001b[0mnearest_ids_ndarray\u001b[0m\u001b[1;33m\u001b[0m\u001b[0m\n",
      "\u001b[1;32mC:\\Users\\Dima\\GoogleDisk\\notebooks\\cbir_framework\\search\\nearest_search.py\u001b[0m in \u001b[0;36mfind_nearest_indices\u001b[1;34m(self, X, Q, n_nearest, metric, n_jobs, return_distances, partition_only)\u001b[0m\n\u001b[0;32m      7\u001b[0m                              return_distances=False, partition_only=False):\n\u001b[0;32m      8\u001b[0m         \u001b[0mQ\u001b[0m \u001b[1;33m=\u001b[0m \u001b[0mnp\u001b[0m\u001b[1;33m.\u001b[0m\u001b[0matleast_2d\u001b[0m\u001b[1;33m(\u001b[0m\u001b[0mQ\u001b[0m\u001b[1;33m)\u001b[0m\u001b[1;33m\u001b[0m\u001b[0m\n\u001b[1;32m----> 9\u001b[1;33m         \u001b[0mvectors_distances_matrix\u001b[0m \u001b[1;33m=\u001b[0m \u001b[0mself\u001b[0m\u001b[1;33m.\u001b[0m\u001b[0mfind_vectors_distances\u001b[0m\u001b[1;33m(\u001b[0m\u001b[0mX\u001b[0m\u001b[1;33m,\u001b[0m \u001b[0mQ\u001b[0m\u001b[1;33m,\u001b[0m \u001b[0mmetric\u001b[0m\u001b[1;33m,\u001b[0m \u001b[0mn_jobs\u001b[0m\u001b[1;33m)\u001b[0m\u001b[1;33m\u001b[0m\u001b[0m\n\u001b[0m\u001b[0;32m     10\u001b[0m         \u001b[1;32mif\u001b[0m \u001b[1;33m(\u001b[0m\u001b[1;32mnot\u001b[0m \u001b[0mn_nearest\u001b[0m\u001b[1;33m)\u001b[0m\u001b[1;33m:\u001b[0m\u001b[1;33m\u001b[0m\u001b[0m\n\u001b[0;32m     11\u001b[0m             \u001b[0mn_nearest\u001b[0m \u001b[1;33m=\u001b[0m \u001b[0mvectors_distances_matrix\u001b[0m\u001b[1;33m.\u001b[0m\u001b[0mshape\u001b[0m\u001b[1;33m[\u001b[0m\u001b[1;36m1\u001b[0m\u001b[1;33m]\u001b[0m\u001b[1;33m\u001b[0m\u001b[0m\n",
      "\u001b[1;32mC:\\Users\\Dima\\GoogleDisk\\notebooks\\cbir_framework\\search\\nearest_search.py\u001b[0m in \u001b[0;36mfind_vectors_distances\u001b[1;34m(self, X, Q, metric, n_jobs)\u001b[0m\n\u001b[0;32m     30\u001b[0m         \u001b[0mX\u001b[0m \u001b[1;33m=\u001b[0m \u001b[0mX\u001b[0m\u001b[1;33m.\u001b[0m\u001b[0msqueeze\u001b[0m\u001b[1;33m(\u001b[0m\u001b[1;33m)\u001b[0m\u001b[1;33m\u001b[0m\u001b[0m\n\u001b[0;32m     31\u001b[0m         \u001b[0mQ\u001b[0m \u001b[1;33m=\u001b[0m \u001b[0mQ\u001b[0m\u001b[1;33m.\u001b[0m\u001b[0msqueeze\u001b[0m\u001b[1;33m(\u001b[0m\u001b[1;33m)\u001b[0m\u001b[1;33m\u001b[0m\u001b[0m\n\u001b[1;32m---> 32\u001b[1;33m         \u001b[0mvectors_distances_matrix\u001b[0m \u001b[1;33m=\u001b[0m \u001b[0mmetrics\u001b[0m\u001b[1;33m.\u001b[0m\u001b[0mpairwise_distances\u001b[0m\u001b[1;33m(\u001b[0m\u001b[0mQ\u001b[0m\u001b[1;33m,\u001b[0m \u001b[0mX\u001b[0m\u001b[1;33m,\u001b[0m \u001b[0mmetric\u001b[0m\u001b[1;33m=\u001b[0m\u001b[0mmetric\u001b[0m\u001b[1;33m,\u001b[0m \u001b[0mn_jobs\u001b[0m\u001b[1;33m=\u001b[0m\u001b[0mn_jobs\u001b[0m\u001b[1;33m)\u001b[0m\u001b[1;33m\u001b[0m\u001b[0m\n\u001b[0m\u001b[0;32m     33\u001b[0m         \u001b[1;32mreturn\u001b[0m \u001b[0mvectors_distances_matrix\u001b[0m\u001b[1;33m\u001b[0m\u001b[0m\n",
      "\u001b[1;32mC:\\Anaconda3\\lib\\site-packages\\sklearn\\metrics\\pairwise.py\u001b[0m in \u001b[0;36mpairwise_distances\u001b[1;34m(X, Y, metric, n_jobs, **kwds)\u001b[0m\n\u001b[0;32m   1205\u001b[0m         \u001b[0mfunc\u001b[0m \u001b[1;33m=\u001b[0m \u001b[0mpartial\u001b[0m\u001b[1;33m(\u001b[0m\u001b[0mdistance\u001b[0m\u001b[1;33m.\u001b[0m\u001b[0mcdist\u001b[0m\u001b[1;33m,\u001b[0m \u001b[0mmetric\u001b[0m\u001b[1;33m=\u001b[0m\u001b[0mmetric\u001b[0m\u001b[1;33m,\u001b[0m \u001b[1;33m**\u001b[0m\u001b[0mkwds\u001b[0m\u001b[1;33m)\u001b[0m\u001b[1;33m\u001b[0m\u001b[0m\n\u001b[0;32m   1206\u001b[0m \u001b[1;33m\u001b[0m\u001b[0m\n\u001b[1;32m-> 1207\u001b[1;33m     \u001b[1;32mreturn\u001b[0m \u001b[0m_parallel_pairwise\u001b[0m\u001b[1;33m(\u001b[0m\u001b[0mX\u001b[0m\u001b[1;33m,\u001b[0m \u001b[0mY\u001b[0m\u001b[1;33m,\u001b[0m \u001b[0mfunc\u001b[0m\u001b[1;33m,\u001b[0m \u001b[0mn_jobs\u001b[0m\u001b[1;33m,\u001b[0m \u001b[1;33m**\u001b[0m\u001b[0mkwds\u001b[0m\u001b[1;33m)\u001b[0m\u001b[1;33m\u001b[0m\u001b[0m\n\u001b[0m\u001b[0;32m   1208\u001b[0m \u001b[1;33m\u001b[0m\u001b[0m\n\u001b[0;32m   1209\u001b[0m \u001b[1;33m\u001b[0m\u001b[0m\n",
      "\u001b[1;32mC:\\Anaconda3\\lib\\site-packages\\sklearn\\metrics\\pairwise.py\u001b[0m in \u001b[0;36m_parallel_pairwise\u001b[1;34m(X, Y, func, n_jobs, **kwds)\u001b[0m\n\u001b[0;32m   1052\u001b[0m     \u001b[1;32mif\u001b[0m \u001b[0mn_jobs\u001b[0m \u001b[1;33m==\u001b[0m \u001b[1;36m1\u001b[0m\u001b[1;33m:\u001b[0m\u001b[1;33m\u001b[0m\u001b[0m\n\u001b[0;32m   1053\u001b[0m         \u001b[1;31m# Special case to avoid picklability checks in delayed\u001b[0m\u001b[1;33m\u001b[0m\u001b[1;33m\u001b[0m\u001b[0m\n\u001b[1;32m-> 1054\u001b[1;33m         \u001b[1;32mreturn\u001b[0m \u001b[0mfunc\u001b[0m\u001b[1;33m(\u001b[0m\u001b[0mX\u001b[0m\u001b[1;33m,\u001b[0m \u001b[0mY\u001b[0m\u001b[1;33m,\u001b[0m \u001b[1;33m**\u001b[0m\u001b[0mkwds\u001b[0m\u001b[1;33m)\u001b[0m\u001b[1;33m\u001b[0m\u001b[0m\n\u001b[0m\u001b[0;32m   1055\u001b[0m \u001b[1;33m\u001b[0m\u001b[0m\n\u001b[0;32m   1056\u001b[0m     \u001b[1;31m# TODO: in some cases, backend='threading' may be appropriate\u001b[0m\u001b[1;33m\u001b[0m\u001b[1;33m\u001b[0m\u001b[0m\n",
      "\u001b[1;32mC:\\Anaconda3\\lib\\site-packages\\sklearn\\metrics\\pairwise.py\u001b[0m in \u001b[0;36mmanhattan_distances\u001b[1;34m(X, Y, sum_over_features, size_threshold)\u001b[0m\n\u001b[0;32m    505\u001b[0m            [ 1.,  1.]]...)\n\u001b[0;32m    506\u001b[0m     \"\"\"\n\u001b[1;32m--> 507\u001b[1;33m     \u001b[0mX\u001b[0m\u001b[1;33m,\u001b[0m \u001b[0mY\u001b[0m \u001b[1;33m=\u001b[0m \u001b[0mcheck_pairwise_arrays\u001b[0m\u001b[1;33m(\u001b[0m\u001b[0mX\u001b[0m\u001b[1;33m,\u001b[0m \u001b[0mY\u001b[0m\u001b[1;33m)\u001b[0m\u001b[1;33m\u001b[0m\u001b[0m\n\u001b[0m\u001b[0;32m    508\u001b[0m \u001b[1;33m\u001b[0m\u001b[0m\n\u001b[0;32m    509\u001b[0m     \u001b[1;32mif\u001b[0m \u001b[0missparse\u001b[0m\u001b[1;33m(\u001b[0m\u001b[0mX\u001b[0m\u001b[1;33m)\u001b[0m \u001b[1;32mor\u001b[0m \u001b[0missparse\u001b[0m\u001b[1;33m(\u001b[0m\u001b[0mY\u001b[0m\u001b[1;33m)\u001b[0m\u001b[1;33m:\u001b[0m\u001b[1;33m\u001b[0m\u001b[0m\n",
      "\u001b[1;32mC:\\Anaconda3\\lib\\site-packages\\sklearn\\metrics\\pairwise.py\u001b[0m in \u001b[0;36mcheck_pairwise_arrays\u001b[1;34m(X, Y, precomputed)\u001b[0m\n\u001b[0;32m    106\u001b[0m         raise ValueError(\"Incompatible dimension for X and Y matrices: \"\n\u001b[0;32m    107\u001b[0m                          \"X.shape[1] == %d while Y.shape[1] == %d\" % (\n\u001b[1;32m--> 108\u001b[1;33m                              X.shape[1], Y.shape[1]))\n\u001b[0m\u001b[0;32m    109\u001b[0m \u001b[1;33m\u001b[0m\u001b[0m\n\u001b[0;32m    110\u001b[0m     \u001b[1;32mreturn\u001b[0m \u001b[0mX\u001b[0m\u001b[1;33m,\u001b[0m \u001b[0mY\u001b[0m\u001b[1;33m\u001b[0m\u001b[0m\n",
      "\u001b[1;31mValueError\u001b[0m: Incompatible dimension for X and Y matrices: X.shape[1] == 250000 while Y.shape[1] == 10000"
     ]
    }
   ],
   "source": [
    "n_neighbors=10\n",
    "steps.search_step(queries_siftbincount_ds, exs_searcher, n_neighbors , np_neighbor_ids_ds)"
   ]
  },
  {
   "cell_type": "code",
   "execution_count": null,
   "metadata": {
    "collapsed": false
   },
   "outputs": [],
   "source": [
    "print_ds_items_info(np_neighbor_ids_ds, first_items_to_print=15, print_shape=False)"
   ]
  },
  {
   "cell_type": "code",
   "execution_count": null,
   "metadata": {
    "collapsed": false
   },
   "outputs": [],
   "source": [
    "img_ids=siftbincount_ndarray_ds.get_ids_sorted()\n",
    "source_ids=images_ds.get_ids_sorted()\n",
    "neighbor_source_ids_ds=NumpyDataStore()\n",
    "steps.transform_step(np_neighbor_ids_ds, [trs.TranslateByKeysTransformer(img_ids, source_ids)], neighbor_source_ids_ds)\n",
    "\n",
    "for query_source_id, neighbor_source_ids in zip(queries_images_ds.get_ids_sorted(),neighbor_source_ids_ds.get_items_sorted_by_ids()):\n",
    "    print(query_source_id, neighbor_source_ids)"
   ]
  },
  {
   "cell_type": "markdown",
   "metadata": {},
   "source": [
    "# Evaluate retrieval perfomance"
   ]
  },
  {
   "cell_type": "code",
   "execution_count": null,
   "metadata": {
    "collapsed": true
   },
   "outputs": [],
   "source": [
    "perfomance_evaluator=PrecisionRecallAveragePrecisionEvaluator(BrodatzGroundTruth())"
   ]
  },
  {
   "cell_type": "code",
   "execution_count": null,
   "metadata": {
    "collapsed": true
   },
   "outputs": [],
   "source": [
    "retrieval_perfomance_ds=NumpyDataStore()"
   ]
  },
  {
   "cell_type": "code",
   "execution_count": null,
   "metadata": {
    "collapsed": false
   },
   "outputs": [],
   "source": [
    "steps.evaluation_step(np_neighbor_ids_ds, perfomance_evaluator, retrieval_perfomance_ds)"
   ]
  },
  {
   "cell_type": "code",
   "execution_count": null,
   "metadata": {
    "collapsed": false
   },
   "outputs": [],
   "source": [
    "print_ds_items_info(retrieval_perfomance_ds, first_items_to_print=3, print_shape=False)"
   ]
  },
  {
   "cell_type": "markdown",
   "metadata": {
    "collapsed": true
   },
   "source": [
    "# Approximate search with inverted multi-index"
   ]
  },
  {
   "cell_type": "markdown",
   "metadata": {},
   "source": [
    "### Quantize global descriptors"
   ]
  },
  {
   "cell_type": "code",
   "execution_count": 156,
   "metadata": {
    "collapsed": true
   },
   "outputs": [],
   "source": [
    "productsiftbincountclusters_path='ds_data\\imgid_productsiftbincount_clusters'\n",
    "productsiftbincountclusters_table_name='clusterid_cluster'"
   ]
  },
  {
   "cell_type": "code",
   "execution_count": 157,
   "metadata": {
    "collapsed": false
   },
   "outputs": [],
   "source": [
    "productsiftbincountclusters_ds=SQLiteTableDataStore(productsiftbincountclusters_path, productsiftbincountclusters_table_name)"
   ]
  },
  {
   "cell_type": "code",
   "execution_count": 158,
   "metadata": {
    "collapsed": false
   },
   "outputs": [],
   "source": [
    "quantizer = PQQuantizer(n_clusters=256, n_quantizers=2)"
   ]
  },
  {
   "cell_type": "code",
   "execution_count": 159,
   "metadata": {
    "collapsed": false
   },
   "outputs": [],
   "source": [
    "steps.quantize_step(productsiftbincount_ds, quantizer, productsiftbincountclusters_ds)"
   ]
  },
  {
   "cell_type": "code",
   "execution_count": 160,
   "metadata": {
    "collapsed": false
   },
   "outputs": [
    {
     "name": "stdout",
     "output_type": "stream",
     "text": [
      "count of items in ds:  2\n",
      "shape of item[0]:  (256, 1500)\n",
      "shape of item[1]:  (256, 1500)\n"
     ]
    }
   ],
   "source": [
    "print_ds_items_info(productsiftbincountclusters_ds)"
   ]
  },
  {
   "cell_type": "markdown",
   "metadata": {},
   "source": [
    "### Build inverted multi-index"
   ]
  },
  {
   "cell_type": "code",
   "execution_count": 161,
   "metadata": {
    "collapsed": false
   },
   "outputs": [
    {
     "name": "stdout",
     "output_type": "stream",
     "text": [
      "cluster_centers:  (2, 256, 1500)\n"
     ]
    }
   ],
   "source": [
    "productsiftbincountclusters_ndarray_ds=StreamNdarrayAdapterDataStore(productsiftbincountclusters_ds, detect_final_shape_by_first_elem=True)\n",
    "cluster_centers=productsiftbincountclusters_ndarray_ds.get_items_sorted_by_ids()\n",
    "print(\"cluster_centers: \", cluster_centers.shape)"
   ]
  },
  {
   "cell_type": "code",
   "execution_count": 162,
   "metadata": {
    "collapsed": false
   },
   "outputs": [
    {
     "name": "stdout",
     "output_type": "stream",
     "text": [
      "X:  (999, 3000)\n",
      "X_ids:  (999,)\n"
     ]
    }
   ],
   "source": [
    "productsiftbincount_ndarray_ds = StreamNdarrayAdapterDataStore(productsiftbincount_ds, detect_final_shape_by_first_elem=True)\n",
    "X = productsiftbincount_ndarray_ds.get_items_sorted_by_ids()\n",
    "X_ids=productsiftbincount_ndarray_ds.get_ids_sorted()\n",
    "print(\"X: \", X.shape)\n",
    "print(\"X_ids: \", X_ids.shape)"
   ]
  },
  {
   "cell_type": "code",
   "execution_count": null,
   "metadata": {
    "collapsed": true
   },
   "outputs": [],
   "source": [
    "imi_searcher=InvertedMultiIndexSearcher(X, X_ids, cluster_centers)"
   ]
  },
  {
   "cell_type": "markdown",
   "metadata": {},
   "source": [
    "### Search approximate neighbors for all bovws(productsiftbincount_ds)"
   ]
  },
  {
   "cell_type": "code",
   "execution_count": null,
   "metadata": {
    "collapsed": false
   },
   "outputs": [],
   "source": [
    "approximateneighborsids_ds=NumpyDataStore()\n",
    "steps.search_step(productsiftbincount_ds, imi_searcher, 16 , approximateneighborsids_ds)"
   ]
  },
  {
   "cell_type": "code",
   "execution_count": null,
   "metadata": {
    "collapsed": false
   },
   "outputs": [],
   "source": [
    "print_ds_items_info(approximateneighborsids_ds, print_shape=False, first_items_to_print=50)"
   ]
  },
  {
   "cell_type": "code",
   "execution_count": null,
   "metadata": {
    "collapsed": true
   },
   "outputs": [],
   "source": []
  },
  {
   "cell_type": "code",
   "execution_count": null,
   "metadata": {
    "collapsed": true
   },
   "outputs": [],
   "source": []
  }
 ],
 "metadata": {
  "kernelspec": {
   "display_name": "Python 3",
   "language": "python",
   "name": "python3"
  },
  "language_info": {
   "codemirror_mode": {
    "name": "ipython",
    "version": 3
   },
   "file_extension": ".py",
   "mimetype": "text/x-python",
   "name": "python",
   "nbconvert_exporter": "python",
   "pygments_lexer": "ipython3",
   "version": "3.5.2"
  }
 },
 "nbformat": 4,
 "nbformat_minor": 0
}
