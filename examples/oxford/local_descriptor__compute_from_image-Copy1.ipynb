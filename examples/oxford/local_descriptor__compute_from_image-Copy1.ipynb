{
 "cells": [
  {
   "cell_type": "code",
   "execution_count": 1,
   "metadata": {
    "collapsed": false
   },
   "outputs": [],
   "source": [
    "import import_hack\n",
    "import numpy as np\n",
    "import core.steps as steps\n",
    "from core import data_store as ds\n",
    "from core import transformer as tr\n",
    "from core.common.ds_utils import print_ds_items_info\n",
    "from os.path import join as pjoin\n",
    "%load_ext autoreload\n",
    "%autoreload 2"
   ]
  },
  {
   "cell_type": "code",
   "execution_count": 2,
   "metadata": {
    "collapsed": false
   },
   "outputs": [],
   "source": [
    "local_descriptors_base_dir=r'C:\\data\\computation\\brodatz\\local_descriptors'"
   ]
  },
  {
   "cell_type": "markdown",
   "metadata": {},
   "source": [
    "# Compute local descriptors(siftset)"
   ]
  },
  {
   "cell_type": "code",
   "execution_count": 3,
   "metadata": {
    "collapsed": false
   },
   "outputs": [
    {
     "name": "stdout",
     "output_type": "stream",
     "text": [
      "images count in 'C:\\data\\images\\brodatz\\data.brodatz\\size_213x213':  999\n"
     ]
    }
   ],
   "source": [
    "img_dir_path = r'C:\\data\\images\\brodatz\\data.brodatz\\size_213x213'\n",
    "images_ds = ds.FileSystemDirectoryDataStore(dir_path=img_dir_path)\n",
    "print(\"images count in '{0}': \".format(img_dir_path), images_ds.get_count())"
   ]
  },
  {
   "cell_type": "code",
   "execution_count": 6,
   "metadata": {
    "collapsed": false
   },
   "outputs": [],
   "source": [
    "base_transformers=[tr.BytesToNdarray(), tr.NdarrayToOpencvMatrix()]"
   ]
  },
  {
   "cell_type": "code",
   "execution_count": 7,
   "metadata": {
    "collapsed": false
   },
   "outputs": [
    {
     "name": "stdout",
     "output_type": "stream",
     "text": [
      "count of items in ds:  999\n",
      "shape of item[0]:  (379, 128)\n",
      "shape of item[1]:  (407, 128)\n",
      "shape of item[2]:  (395, 128)\n"
     ]
    }
   ],
   "source": [
    "siftsets_ds = ds.SQLiteTableOneToManyDataStore(pjoin(local_descriptors_base_dir, 'siftid_sift_imgid'), 'siftid_sift_imgid')\n",
    "transformers_=[tr.BytesToNdarray(), tr.NdarrayToOpencvMatrix(), tr.OpencvMatrixToSiftsSet()]\n",
    "steps.transform_step(images_ds, transformers_, siftsets_ds)\n",
    "print_ds_items_info(siftsets_ds)"
   ]
  }
 ],
 "metadata": {
  "kernelspec": {
   "display_name": "Python 3",
   "language": "python",
   "name": "python3"
  },
  "language_info": {
   "codemirror_mode": {
    "name": "ipython",
    "version": 3
   },
   "file_extension": ".py",
   "mimetype": "text/x-python",
   "name": "python",
   "nbconvert_exporter": "python",
   "pygments_lexer": "ipython3",
   "version": "3.5.2"
  }
 },
 "nbformat": 4,
 "nbformat_minor": 0
}
