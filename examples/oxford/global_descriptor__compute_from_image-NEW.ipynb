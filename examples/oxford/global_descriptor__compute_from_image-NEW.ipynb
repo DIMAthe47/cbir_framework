{
 "cells": [
  {
   "cell_type": "code",
   "execution_count": 7,
   "metadata": {
    "collapsed": false
   },
   "outputs": [
    {
     "name": "stdout",
     "output_type": "stream",
     "text": [
      "The autoreload extension is already loaded. To reload it, use:\n",
      "  %reload_ext autoreload\n"
     ]
    }
   ],
   "source": [
    "import import_hack\n",
    "import numpy as np\n",
    "import core.steps as steps\n",
    "from core import data_store as ds\n",
    "from core import transformer as tr\n",
    "from core.common.ds_utils import print_ds_items_info\n",
    "from core.common.path_helper import DataStoreHelper\n",
    "%load_ext autoreload\n",
    "%autoreload 2"
   ]
  },
  {
   "cell_type": "code",
   "execution_count": 8,
   "metadata": {
    "collapsed": false
   },
   "outputs": [],
   "source": [
    "ds_helper=DataStoreHelper(r'C:\\data\\computation\\brodatz')"
   ]
  },
  {
   "cell_type": "markdown",
   "metadata": {},
   "source": [
    "# Compute global descriptors(histogram, lbphistogram, glcm)"
   ]
  },
  {
   "cell_type": "code",
   "execution_count": 9,
   "metadata": {
    "collapsed": false
   },
   "outputs": [
    {
     "name": "stdout",
     "output_type": "stream",
     "text": [
      "images count in 'C:\\data\\images\\brodatz\\data.brodatz\\size_213x213':  999\n"
     ]
    }
   ],
   "source": [
    "img_dir_path = r'C:\\data\\images\\brodatz\\data.brodatz\\size_213x213'\n",
    "images_ds = ds.FileSystemDirectoryDataStore(dir_path=img_dir_path)\n",
    "print(\"images count in '{0}': \".format(img_dir_path), images_ds.get_count())"
   ]
  },
  {
   "cell_type": "code",
   "execution_count": 10,
   "metadata": {
    "collapsed": false
   },
   "outputs": [],
   "source": [
    "base_transformers=[tr.BytesToNdarray(), tr.NdarrayToOpencvMatrix()]"
   ]
  },
  {
   "cell_type": "code",
   "execution_count": 11,
   "metadata": {
    "collapsed": true
   },
   "outputs": [],
   "source": [
    "def compute_global_descriptors(descriptor_name, images_ds):\n",
    "    if descriptor_name=='histograms':\n",
    "        transformers=base_transformers + [tr.OpencvMatrixToHistogram(True)]\n",
    "    elif descriptor_name=='lbphistograms':\n",
    "        transformers=base_transformers + [tr.OpencvMatrixToLBPHistogram()]\n",
    "    elif descriptor_name=='glcms':\n",
    "        transformers=base_transformers + [tr.OpencvMatrixToGLCM()]\n",
    "    \n",
    "    global_descriptors_ds=ds_helper.global_descriptors_ds(descriptor_name)\n",
    "    steps.transform_step(images_ds, transformers, global_descriptors_ds)"
   ]
  },
  {
   "cell_type": "code",
   "execution_count": 12,
   "metadata": {
    "collapsed": true
   },
   "outputs": [],
   "source": [
    "descriptor_names=['histograms', 'lbphistograms', 'glcms']"
   ]
  },
  {
   "cell_type": "code",
   "execution_count": 13,
   "metadata": {
    "collapsed": true
   },
   "outputs": [],
   "source": [
    "for descriptor_name in descriptor_names:\n",
    "    compute_global_descriptors(descriptor_name, images_ds)"
   ]
  },
  {
   "cell_type": "code",
   "execution_count": null,
   "metadata": {
    "collapsed": true
   },
   "outputs": [],
   "source": []
  }
 ],
 "metadata": {
  "kernelspec": {
   "display_name": "Python 3",
   "language": "python",
   "name": "python3"
  },
  "language_info": {
   "codemirror_mode": {
    "name": "ipython",
    "version": 3
   },
   "file_extension": ".py",
   "mimetype": "text/x-python",
   "name": "python",
   "nbconvert_exporter": "python",
   "pygments_lexer": "ipython3",
   "version": "3.5.2"
  }
 },
 "nbformat": 4,
 "nbformat_minor": 0
}
