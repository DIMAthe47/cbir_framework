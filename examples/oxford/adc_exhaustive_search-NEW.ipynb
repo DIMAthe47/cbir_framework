{
 "cells": [
  {
   "cell_type": "code",
   "execution_count": 13,
   "metadata": {
    "collapsed": false
   },
   "outputs": [
    {
     "name": "stdout",
     "output_type": "stream",
     "text": [
      "The autoreload extension is already loaded. To reload it, use:\n",
      "  %reload_ext autoreload\n"
     ]
    }
   ],
   "source": [
    "import import_hack\n",
    "import numpy as np\n",
    "import core.steps as steps\n",
    "from core import data_store as ds\n",
    "from core import transformer as tr\n",
    "from core.common.ds_utils import print_ds_items_info\n",
    "from os.path import join as pjoin\n",
    "from core.search.exhaustive_searcher import ExhaustiveSearcher\n",
    "from core.quantization.pq_quantizer import PQQuantizer, restore_from_clusters, build_pq_params_str\n",
    "from core.metric.asymmetric_distance_computer import AsymmetricDistanceComputer\n",
    "from core.common.path_helper import DataStoreHelper\n",
    "%load_ext autoreload\n",
    "%autoreload 2"
   ]
  },
  {
   "cell_type": "markdown",
   "metadata": {},
   "source": [
    "# ADC exhaustive search"
   ]
  },
  {
   "cell_type": "code",
   "execution_count": 14,
   "metadata": {
    "collapsed": false
   },
   "outputs": [],
   "source": [
    "ds_helper=DataStoreHelper(r'C:\\data\\computation\\brodatz')"
   ]
  },
  {
   "cell_type": "code",
   "execution_count": 15,
   "metadata": {
    "collapsed": true
   },
   "outputs": [],
   "source": [
    "def adc_search(descriptor_name, pq_params):\n",
    "    centroids_ds=ds_helper.centroids_ds(descriptor_name, pq_params)\n",
    "    centroids = ds.get_as_array(centroids_ds)\n",
    "    \n",
    "    metric = AsymmetricDistanceComputer(centroids)\n",
    "    \n",
    "    pqcodes_ds = ds_helper.pqcodes_ds(descriptor_name, pq_params)\n",
    "    ids, pqcodes = ds.get_as_array(pqcodes_ds, return_ids=True)\n",
    "    \n",
    "    searcher_ = ExhaustiveSearcher(pqcodes, ids, metric=metric)\n",
    "    n_nearest = 25\n",
    "\n",
    "    neighbors_ids_ds=ds_helper.pq_search_neighbors_ids_ds('adc', descriptor_name, pq_params)\n",
    "    \n",
    "    query_descriptors_ds=ds_helper.global_descriptors_ds(descriptor_name)\n",
    "    steps.search_step(query_descriptors_ds, searcher_, n_nearest, neighbors_ids_ds)"
   ]
  },
  {
   "cell_type": "code",
   "execution_count": 16,
   "metadata": {
    "collapsed": true
   },
   "outputs": [],
   "source": [
    "descriptor_names=['histograms', 'lbphistograms', 'glcms']\n",
    "choosen_bovwproductbincounts_pq_params= [{'n_clusters': K, 'n_quantizers': m} for K,m in [(64,4),(128,1),(16,1)]]\n",
    "descriptor_names+=ds_helper.bovw_descriptors_names('bovwproductbincounts',choosen_bovwproductbincounts_pq_params)"
   ]
  },
  {
   "cell_type": "code",
   "execution_count": 17,
   "metadata": {
    "collapsed": true
   },
   "outputs": [],
   "source": [
    "K_arr = [2 ** i for i in [4,5,6,7,8]]\n",
    "m_arr = [m for m in [1, 2, 4, 8, 16]]\n",
    "pq_params_arr = [{'n_clusters': K, 'n_quantizers': m} for K in K_arr for m in m_arr]"
   ]
  },
  {
   "cell_type": "code",
   "execution_count": 18,
   "metadata": {
    "collapsed": true
   },
   "outputs": [],
   "source": [
    "for descriptor_name in descriptor_names:\n",
    "    for pq_params in pq_params_arr:\n",
    "        adc_search(descriptor_name, pq_params)"
   ]
  },
  {
   "cell_type": "code",
   "execution_count": null,
   "metadata": {
    "collapsed": true
   },
   "outputs": [],
   "source": []
  }
 ],
 "metadata": {
  "kernelspec": {
   "display_name": "Python 3",
   "language": "python",
   "name": "python3"
  },
  "language_info": {
   "codemirror_mode": {
    "name": "ipython",
    "version": 3
   },
   "file_extension": ".py",
   "mimetype": "text/x-python",
   "name": "python",
   "nbconvert_exporter": "python",
   "pygments_lexer": "ipython3",
   "version": "3.5.2"
  }
 },
 "nbformat": 4,
 "nbformat_minor": 0
}
