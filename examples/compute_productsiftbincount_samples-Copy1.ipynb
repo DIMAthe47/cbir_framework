{
 "cells": [
  {
   "cell_type": "code",
   "execution_count": 8,
   "metadata": {
    "collapsed": false
   },
   "outputs": [
    {
     "name": "stdout",
     "output_type": "stream",
     "text": [
      "The autoreload extension is already loaded. To reload it, use:\n",
      "  %reload_ext autoreload\n"
     ]
    }
   ],
   "source": [
    "import import_hack\n",
    "import steps\n",
    "from data_store import sqlite_table_datastore as sqlds\n",
    "from transformer.transformers import ArrayNormalizer\n",
    "%load_ext autoreload\n",
    "%autoreload 2"
   ]
  },
  {
   "cell_type": "code",
   "execution_count": 5,
   "metadata": {
    "collapsed": false
   },
   "outputs": [],
   "source": [
    "sqlite_db_path_in='ds_data\\imgid_productsiftbincount'\n",
    "sqlite_table_name_in='imgid_productsiftbincount'\n",
    "\n",
    "norm='l2'\n",
    "sqlite_db_path_out='ds_data\\imgid_productsiftbincount_{}normalized'.format(norm.upper())\n",
    "sqlite_table_name_out='imgid_productsiftbincount{}normalized'.format(norm.upper())"
   ]
  },
  {
   "cell_type": "code",
   "execution_count": 6,
   "metadata": {
    "collapsed": false
   },
   "outputs": [],
   "source": [
    "ds_in = sqlds.SQLiteTableDataStore(sqlite_db_path_in, sqlite_table_name_in)\n",
    "ds_out = sqlds.SQLiteTableDataStore(sqlite_db_path_out, sqlite_table_name_out)"
   ]
  },
  {
   "cell_type": "code",
   "execution_count": 7,
   "metadata": {
    "collapsed": false
   },
   "outputs": [
    {
     "name": "stdout",
     "output_type": "stream",
     "text": [
      "999\n"
     ]
    }
   ],
   "source": [
    "with ds_in:\n",
    "    total_sifts_count=ds_in.get_count()\n",
    "    print(total_sifts_count)"
   ]
  },
  {
   "cell_type": "code",
   "execution_count": 11,
   "metadata": {
    "collapsed": true
   },
   "outputs": [],
   "source": [
    "transformers=[ArrayNormalizer(norm)]"
   ]
  },
  {
   "cell_type": "code",
   "execution_count": 12,
   "metadata": {
    "collapsed": false
   },
   "outputs": [],
   "source": [
    "steps.transform_step(ds_in, transformers, ds_out)"
   ]
  },
  {
   "cell_type": "code",
   "execution_count": 19,
   "metadata": {
    "collapsed": false
   },
   "outputs": [
    {
     "name": "stdout",
     "output_type": "stream",
     "text": [
      "[ 0.  4.  1.  0.  1.  0.  0.  0.  2.  0.  0.  0.  0.  3.  0.  2.  0.  3.\n",
      "  0.  0.]\n",
      "[ 0.  6.  0.  0.  0.  0.  0.  0.  7.  2.  0.  0.  0.  2.  0.  0.  0.  4.\n",
      "  0.  0.]\n"
     ]
    }
   ],
   "source": [
    "with ds_in:\n",
    "    items=ds_in.get_items_sorted_by_ids()\n",
    "    for i in range(2):\n",
    "        print(next(items)[0:20])"
   ]
  },
  {
   "cell_type": "code",
   "execution_count": 20,
   "metadata": {
    "collapsed": false
   },
   "outputs": [
    {
     "name": "stdout",
     "output_type": "stream",
     "text": [
      "[ 0.          0.02438209  0.00609552  0.          0.00609552  0.          0.\n",
      "  0.          0.01219104  0.          0.          0.          0.\n",
      "  0.01828656  0.          0.01219104  0.          0.01828656  0.          0.        ]\n",
      "[ 0.          0.04581087  0.          0.          0.          0.          0.\n",
      "  0.          0.05344602  0.01527029  0.          0.          0.\n",
      "  0.01527029  0.          0.          0.          0.03054058  0.          0.        ]\n"
     ]
    }
   ],
   "source": [
    "with ds_out:\n",
    "    items=ds_out.get_items_sorted_by_ids()\n",
    "    for i in range(2):\n",
    "        print(next(items)[0:20])"
   ]
  },
  {
   "cell_type": "code",
   "execution_count": 6,
   "metadata": {
    "collapsed": true
   },
   "outputs": [],
   "source": [
    ""
   ]
  },
  {
   "cell_type": "code",
   "execution_count": null,
   "metadata": {
    "collapsed": true
   },
   "outputs": [],
   "source": [
    "import os\n",
    "os.remove(sqlite_db_path)"
   ]
  }
 ],
 "metadata": {
  "kernelspec": {
   "display_name": "Python 3",
   "language": "python",
   "name": "python3"
  },
  "language_info": {
   "codemirror_mode": {
    "name": "ipython",
    "version": 3.0
   },
   "file_extension": ".py",
   "mimetype": "text/x-python",
   "name": "python",
   "nbconvert_exporter": "python",
   "pygments_lexer": "ipython3",
   "version": "3.5.2"
  }
 },
 "nbformat": 4,
 "nbformat_minor": 0
}